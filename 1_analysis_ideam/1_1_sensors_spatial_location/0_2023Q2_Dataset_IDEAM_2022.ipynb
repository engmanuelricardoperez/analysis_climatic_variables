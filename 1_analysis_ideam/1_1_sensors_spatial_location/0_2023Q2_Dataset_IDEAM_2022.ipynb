{
  "cells": [
    {
      "cell_type": "markdown",
      "metadata": {
        "id": "5FhXBAF-Nv5f"
      },
      "source": [
        "# 1-2023Q2 - Monthly Rainfall - Dataset IDEAM 2022"
      ]
    },
    {
      "cell_type": "markdown",
      "metadata": {
        "id": "tQpWr-x8ODKQ"
      },
      "source": [
        "Presented by:\n",
        "\n",
        "Manuel Ricardo Perez manuelricardo.perez@uptc.edu.co"
      ]
    },
    {
      "cell_type": "markdown",
      "metadata": {
        "id": "hnaxaKCnOJnf"
      },
      "source": [
        "# 1. Load Data"
      ]
    },
    {
      "cell_type": "code",
      "execution_count": 160,
      "metadata": {
        "id": "CYGa2WYNP0JG"
      },
      "outputs": [],
      "source": [
        "import pandas as pd"
      ]
    },
    {
      "cell_type": "code",
      "execution_count": 161,
      "metadata": {
        "colab": {
          "base_uri": "https://localhost:8080/"
        },
        "id": "tuQFVrnoyr60",
        "outputId": "aa6aa878-e190-4a1a-8fef-bd9b3a499510"
      },
      "outputs": [
        {
          "output_type": "stream",
          "name": "stdout",
          "text": [
            "Drive already mounted at /content/drive; to attempt to forcibly remount, call drive.mount(\"/content/drive\", force_remount=True).\n"
          ]
        }
      ],
      "source": [
        "from google.colab import drive\n",
        "drive.mount('/content/drive')"
      ]
    },
    {
      "cell_type": "code",
      "execution_count": 162,
      "metadata": {
        "id": "ychm01y6PiJa"
      },
      "outputs": [],
      "source": [
        "import io\n",
        "wind_speed = pd.read_csv('/content/drive/MyDrive/phd/deployment proyect/phd/Rainfall Prediction UPTC/Data/Stations Boyacá 2022/datos/velocidad_viento.csv')\n",
        "\n",
        "precipitation = pd.read_csv('/content/drive/MyDrive/phd/deployment proyect/phd/Rainfall Prediction UPTC/Data/Stations Boyacá 2022/datos/precipitacion.csv')\n",
        "\n",
        "precipitation_open_data = pd.read_csv('/content/drive/MyDrive/phd/deployment proyect/phd/Rainfall Prediction UPTC/Data/Stations Boyacá 2022/datos/precipitaciones.csv')\n",
        "\n",
        "# Alone station 24035430 - TUNGUAVITA - AUT\n",
        "precipitation_open_data = precipitation_open_data.loc[precipitation_open_data['CodigoEstacion'] == 24035430]\n",
        "\n",
        "humidity = pd.read_csv('/content/drive/MyDrive/phd/deployment proyect/phd/Rainfall Prediction UPTC/Data/Stations Boyacá 2022/datos/humedad.csv')\n",
        "temmin = pd.read_csv('/content/drive/MyDrive/phd/deployment proyect/phd/Rainfall Prediction UPTC/Data/Stations Boyacá 2022/datos/temmin.csv')\n",
        "temmax = pd.read_csv('/content/drive/MyDrive/phd/deployment proyect/phd/Rainfall Prediction UPTC/Data/Stations Boyacá 2022/datos/temmax.csv')\n",
        "\n",
        "sun2001 = pd.read_csv('/content/drive/MyDrive/phd/deployment proyect/phd/Rainfall Prediction UPTC/Data/Stations Boyacá 2022/datos/sol2001.csv')\n",
        "sun2002 = pd.read_csv('/content/drive/MyDrive/phd/deployment proyect/phd/Rainfall Prediction UPTC/Data/Stations Boyacá 2022/datos/sol2002.csv')\n",
        "sun2003 = pd.read_csv('/content/drive/MyDrive/phd/deployment proyect/phd/Rainfall Prediction UPTC/Data/Stations Boyacá 2022/datos/sol2003.csv')\n",
        "sun2004 = pd.read_csv('/content/drive/MyDrive/phd/deployment proyect/phd/Rainfall Prediction UPTC/Data/Stations Boyacá 2022/datos/sol2004.csv')\n",
        "sun2005 = pd.read_csv('/content/drive/MyDrive/phd/deployment proyect/phd/Rainfall Prediction UPTC/Data/Stations Boyacá 2022/datos/sol2005.csv')\n",
        "sun2006 = pd.read_csv('/content/drive/MyDrive/phd/deployment proyect/phd/Rainfall Prediction UPTC/Data/Stations Boyacá 2022/datos/sol2006.csv')\n",
        "sun2007 = pd.read_csv('/content/drive/MyDrive/phd/deployment proyect/phd/Rainfall Prediction UPTC/Data/Stations Boyacá 2022/datos/sol2007.csv')\n",
        "sun2008 = pd.read_csv('/content/drive/MyDrive/phd/deployment proyect/phd/Rainfall Prediction UPTC/Data/Stations Boyacá 2022/datos/sol2008.csv')\n",
        "sun2009 = pd.read_csv('/content/drive/MyDrive/phd/deployment proyect/phd/Rainfall Prediction UPTC/Data/Stations Boyacá 2022/datos/sol2009.csv')\n",
        "sun2010 = pd.read_csv('/content/drive/MyDrive/phd/deployment proyect/phd/Rainfall Prediction UPTC/Data/Stations Boyacá 2022/datos/sol2010.csv')\n",
        "sun2011 = pd.read_csv('/content/drive/MyDrive/phd/deployment proyect/phd/Rainfall Prediction UPTC/Data/Stations Boyacá 2022/datos/sol2011.csv')\n",
        "sun2012 = pd.read_csv('/content/drive/MyDrive/phd/deployment proyect/phd/Rainfall Prediction UPTC/Data/Stations Boyacá 2022/datos/sol2012.csv')\n",
        "sun2013 = pd.read_csv('/content/drive/MyDrive/phd/deployment proyect/phd/Rainfall Prediction UPTC/Data/Stations Boyacá 2022/datos/sol2013.csv')\n",
        "sun2014 = pd.read_csv('/content/drive/MyDrive/phd/deployment proyect/phd/Rainfall Prediction UPTC/Data/Stations Boyacá 2022/datos/sol2014.csv')\n",
        "sun2015 = pd.read_csv('/content/drive/MyDrive/phd/deployment proyect/phd/Rainfall Prediction UPTC/Data/Stations Boyacá 2022/datos/sol2015.csv')\n",
        "sun2016 = pd.read_csv('/content/drive/MyDrive/phd/deployment proyect/phd/Rainfall Prediction UPTC/Data/Stations Boyacá 2022/datos/sol2016.csv')\n",
        "sun2017 = pd.read_csv('/content/drive/MyDrive/phd/deployment proyect/phd/Rainfall Prediction UPTC/Data/Stations Boyacá 2022/datos/sol2017.csv')\n",
        "sun2018 = pd.read_csv('/content/drive/MyDrive/phd/deployment proyect/phd/Rainfall Prediction UPTC/Data/Stations Boyacá 2022/datos/sol2018.csv')\n",
        "sun2019 = pd.read_csv('/content/drive/MyDrive/phd/deployment proyect/phd/Rainfall Prediction UPTC/Data/Stations Boyacá 2022/datos/sol2019.csv')\n",
        "sun2020 = pd.read_csv('/content/drive/MyDrive/phd/deployment proyect/phd/Rainfall Prediction UPTC/Data/Stations Boyacá 2022/datos/sol2020.csv')\n",
        "sun2021 = pd.read_csv('/content/drive/MyDrive/phd/deployment proyect/phd/Rainfall Prediction UPTC/Data/Stations Boyacá 2022/datos/sol2021.csv')\n",
        "\n",
        "evaporation = pd.read_csv('/content/drive/MyDrive/phd/deployment proyect/phd/Rainfall Prediction UPTC/Data/Stations Boyacá 2022/datos/evaporacion.csv')\n"
      ]
    },
    {
      "cell_type": "code",
      "source": [
        "precipitation_open_data.describe()"
      ],
      "metadata": {
        "colab": {
          "base_uri": "https://localhost:8080/",
          "height": 300
        },
        "id": "iPzuaM_yVD3M",
        "outputId": "be0373df-54c8-4a99-eb50-ebbcd45d3a4f"
      },
      "execution_count": 163,
      "outputs": [
        {
          "output_type": "execute_result",
          "data": {
            "text/plain": [
              "       CodigoEstacion  CodigoSensor  ValorObservado       Latitud  \\\n",
              "count        210641.0      210641.0   210641.000000  2.106410e+05   \n",
              "mean       24035430.0         240.0        0.014248  5.745917e+00   \n",
              "std               0.0           0.0        0.160308  8.881805e-16   \n",
              "min        24035430.0         240.0        0.000000  5.745917e+00   \n",
              "25%        24035430.0         240.0        0.000000  5.745917e+00   \n",
              "50%        24035430.0         240.0        0.000000  5.745917e+00   \n",
              "75%        24035430.0         240.0        0.000000  5.745917e+00   \n",
              "max        24035430.0         240.0       12.900000  5.745917e+00   \n",
              "\n",
              "           Longitud  \n",
              "count  2.106410e+05  \n",
              "mean  -7.311636e+01  \n",
              "std    1.421089e-14  \n",
              "min   -7.311636e+01  \n",
              "25%   -7.311636e+01  \n",
              "50%   -7.311636e+01  \n",
              "75%   -7.311636e+01  \n",
              "max   -7.311636e+01  "
            ],
            "text/html": [
              "\n",
              "  <div id=\"df-a60bc17a-e39c-4f9a-b387-592df8876df1\">\n",
              "    <div class=\"colab-df-container\">\n",
              "      <div>\n",
              "<style scoped>\n",
              "    .dataframe tbody tr th:only-of-type {\n",
              "        vertical-align: middle;\n",
              "    }\n",
              "\n",
              "    .dataframe tbody tr th {\n",
              "        vertical-align: top;\n",
              "    }\n",
              "\n",
              "    .dataframe thead th {\n",
              "        text-align: right;\n",
              "    }\n",
              "</style>\n",
              "<table border=\"1\" class=\"dataframe\">\n",
              "  <thead>\n",
              "    <tr style=\"text-align: right;\">\n",
              "      <th></th>\n",
              "      <th>CodigoEstacion</th>\n",
              "      <th>CodigoSensor</th>\n",
              "      <th>ValorObservado</th>\n",
              "      <th>Latitud</th>\n",
              "      <th>Longitud</th>\n",
              "    </tr>\n",
              "  </thead>\n",
              "  <tbody>\n",
              "    <tr>\n",
              "      <th>count</th>\n",
              "      <td>210641.0</td>\n",
              "      <td>210641.0</td>\n",
              "      <td>210641.000000</td>\n",
              "      <td>2.106410e+05</td>\n",
              "      <td>2.106410e+05</td>\n",
              "    </tr>\n",
              "    <tr>\n",
              "      <th>mean</th>\n",
              "      <td>24035430.0</td>\n",
              "      <td>240.0</td>\n",
              "      <td>0.014248</td>\n",
              "      <td>5.745917e+00</td>\n",
              "      <td>-7.311636e+01</td>\n",
              "    </tr>\n",
              "    <tr>\n",
              "      <th>std</th>\n",
              "      <td>0.0</td>\n",
              "      <td>0.0</td>\n",
              "      <td>0.160308</td>\n",
              "      <td>8.881805e-16</td>\n",
              "      <td>1.421089e-14</td>\n",
              "    </tr>\n",
              "    <tr>\n",
              "      <th>min</th>\n",
              "      <td>24035430.0</td>\n",
              "      <td>240.0</td>\n",
              "      <td>0.000000</td>\n",
              "      <td>5.745917e+00</td>\n",
              "      <td>-7.311636e+01</td>\n",
              "    </tr>\n",
              "    <tr>\n",
              "      <th>25%</th>\n",
              "      <td>24035430.0</td>\n",
              "      <td>240.0</td>\n",
              "      <td>0.000000</td>\n",
              "      <td>5.745917e+00</td>\n",
              "      <td>-7.311636e+01</td>\n",
              "    </tr>\n",
              "    <tr>\n",
              "      <th>50%</th>\n",
              "      <td>24035430.0</td>\n",
              "      <td>240.0</td>\n",
              "      <td>0.000000</td>\n",
              "      <td>5.745917e+00</td>\n",
              "      <td>-7.311636e+01</td>\n",
              "    </tr>\n",
              "    <tr>\n",
              "      <th>75%</th>\n",
              "      <td>24035430.0</td>\n",
              "      <td>240.0</td>\n",
              "      <td>0.000000</td>\n",
              "      <td>5.745917e+00</td>\n",
              "      <td>-7.311636e+01</td>\n",
              "    </tr>\n",
              "    <tr>\n",
              "      <th>max</th>\n",
              "      <td>24035430.0</td>\n",
              "      <td>240.0</td>\n",
              "      <td>12.900000</td>\n",
              "      <td>5.745917e+00</td>\n",
              "      <td>-7.311636e+01</td>\n",
              "    </tr>\n",
              "  </tbody>\n",
              "</table>\n",
              "</div>\n",
              "      <button class=\"colab-df-convert\" onclick=\"convertToInteractive('df-a60bc17a-e39c-4f9a-b387-592df8876df1')\"\n",
              "              title=\"Convert this dataframe to an interactive table.\"\n",
              "              style=\"display:none;\">\n",
              "        \n",
              "  <svg xmlns=\"http://www.w3.org/2000/svg\" height=\"24px\"viewBox=\"0 0 24 24\"\n",
              "       width=\"24px\">\n",
              "    <path d=\"M0 0h24v24H0V0z\" fill=\"none\"/>\n",
              "    <path d=\"M18.56 5.44l.94 2.06.94-2.06 2.06-.94-2.06-.94-.94-2.06-.94 2.06-2.06.94zm-11 1L8.5 8.5l.94-2.06 2.06-.94-2.06-.94L8.5 2.5l-.94 2.06-2.06.94zm10 10l.94 2.06.94-2.06 2.06-.94-2.06-.94-.94-2.06-.94 2.06-2.06.94z\"/><path d=\"M17.41 7.96l-1.37-1.37c-.4-.4-.92-.59-1.43-.59-.52 0-1.04.2-1.43.59L10.3 9.45l-7.72 7.72c-.78.78-.78 2.05 0 2.83L4 21.41c.39.39.9.59 1.41.59.51 0 1.02-.2 1.41-.59l7.78-7.78 2.81-2.81c.8-.78.8-2.07 0-2.86zM5.41 20L4 18.59l7.72-7.72 1.47 1.35L5.41 20z\"/>\n",
              "  </svg>\n",
              "      </button>\n",
              "      \n",
              "  <style>\n",
              "    .colab-df-container {\n",
              "      display:flex;\n",
              "      flex-wrap:wrap;\n",
              "      gap: 12px;\n",
              "    }\n",
              "\n",
              "    .colab-df-convert {\n",
              "      background-color: #E8F0FE;\n",
              "      border: none;\n",
              "      border-radius: 50%;\n",
              "      cursor: pointer;\n",
              "      display: none;\n",
              "      fill: #1967D2;\n",
              "      height: 32px;\n",
              "      padding: 0 0 0 0;\n",
              "      width: 32px;\n",
              "    }\n",
              "\n",
              "    .colab-df-convert:hover {\n",
              "      background-color: #E2EBFA;\n",
              "      box-shadow: 0px 1px 2px rgba(60, 64, 67, 0.3), 0px 1px 3px 1px rgba(60, 64, 67, 0.15);\n",
              "      fill: #174EA6;\n",
              "    }\n",
              "\n",
              "    [theme=dark] .colab-df-convert {\n",
              "      background-color: #3B4455;\n",
              "      fill: #D2E3FC;\n",
              "    }\n",
              "\n",
              "    [theme=dark] .colab-df-convert:hover {\n",
              "      background-color: #434B5C;\n",
              "      box-shadow: 0px 1px 3px 1px rgba(0, 0, 0, 0.15);\n",
              "      filter: drop-shadow(0px 1px 2px rgba(0, 0, 0, 0.3));\n",
              "      fill: #FFFFFF;\n",
              "    }\n",
              "  </style>\n",
              "\n",
              "      <script>\n",
              "        const buttonEl =\n",
              "          document.querySelector('#df-a60bc17a-e39c-4f9a-b387-592df8876df1 button.colab-df-convert');\n",
              "        buttonEl.style.display =\n",
              "          google.colab.kernel.accessAllowed ? 'block' : 'none';\n",
              "\n",
              "        async function convertToInteractive(key) {\n",
              "          const element = document.querySelector('#df-a60bc17a-e39c-4f9a-b387-592df8876df1');\n",
              "          const dataTable =\n",
              "            await google.colab.kernel.invokeFunction('convertToInteractive',\n",
              "                                                     [key], {});\n",
              "          if (!dataTable) return;\n",
              "\n",
              "          const docLinkHtml = 'Like what you see? Visit the ' +\n",
              "            '<a target=\"_blank\" href=https://colab.research.google.com/notebooks/data_table.ipynb>data table notebook</a>'\n",
              "            + ' to learn more about interactive tables.';\n",
              "          element.innerHTML = '';\n",
              "          dataTable['output_type'] = 'display_data';\n",
              "          await google.colab.output.renderOutput(dataTable, element);\n",
              "          const docLink = document.createElement('div');\n",
              "          docLink.innerHTML = docLinkHtml;\n",
              "          element.appendChild(docLink);\n",
              "        }\n",
              "      </script>\n",
              "    </div>\n",
              "  </div>\n",
              "  "
            ]
          },
          "metadata": {},
          "execution_count": 163
        }
      ]
    },
    {
      "cell_type": "markdown",
      "metadata": {
        "id": "CoNkpESFscBg"
      },
      "source": [
        "# Data Porccessing"
      ]
    },
    {
      "cell_type": "markdown",
      "metadata": {
        "id": "LQ5uSX62stZ_"
      },
      "source": [
        "## Solar"
      ]
    },
    {
      "cell_type": "code",
      "execution_count": 164,
      "metadata": {
        "id": "GDo9ky5UR8IQ"
      },
      "outputs": [],
      "source": [
        "sun_frames = [sun2001, sun2002, sun2003, sun2004, sun2005, sun2006, sun2007, sun2008, sun2009, sun2010, sun2011, sun2012, sun2013, sun2014, sun2015, sun2016, sun2017, sun2018, sun2019, sun2020, sun2021]\n",
        "sun = pd.concat(sun_frames)"
      ]
    },
    {
      "cell_type": "code",
      "execution_count": 165,
      "metadata": {
        "id": "CtXjXsyPYa8l"
      },
      "outputs": [],
      "source": [
        "sun['Date'] = pd.to_datetime(sun['Fecha']).dt.date\n",
        "sun['Time'] = pd.to_datetime(sun['Fecha']).dt.time"
      ]
    },
    {
      "cell_type": "code",
      "execution_count": 166,
      "metadata": {
        "id": "C8GXqwC4Y6ho"
      },
      "outputs": [],
      "source": [
        "sun = sun.groupby(['Date']).mean('Valor')"
      ]
    },
    {
      "cell_type": "code",
      "execution_count": 167,
      "metadata": {
        "id": "t8wMBGd9SKsw"
      },
      "outputs": [],
      "source": [
        "sun['SunValue'] = sun['Valor']"
      ]
    },
    {
      "cell_type": "markdown",
      "metadata": {
        "id": "EOMofK7Lsyur"
      },
      "source": [
        "## Temperature min\n"
      ]
    },
    {
      "cell_type": "code",
      "execution_count": 168,
      "metadata": {
        "id": "X3K-zsiVs2_h"
      },
      "outputs": [],
      "source": [
        "temmin['Date'] = pd.to_datetime(temmin['Fecha']).dt.date\n",
        "temmin['Time'] = pd.to_datetime(temmin['Fecha']).dt.time"
      ]
    },
    {
      "cell_type": "code",
      "execution_count": 169,
      "metadata": {
        "id": "WXA3ixaiSjWc"
      },
      "outputs": [],
      "source": [
        "temmin['TemMinValue'] = temmin['Valor']"
      ]
    },
    {
      "cell_type": "markdown",
      "metadata": {
        "id": "Ki1R8doFtFR1"
      },
      "source": [
        "## Temperature max"
      ]
    },
    {
      "cell_type": "code",
      "execution_count": 170,
      "metadata": {
        "id": "T6gF0m2mtIbn"
      },
      "outputs": [],
      "source": [
        "temmax['Date'] = pd.to_datetime(temmax['Fecha']).dt.date\n",
        "temmax['Time'] = pd.to_datetime(temmax['Fecha']).dt.time"
      ]
    },
    {
      "cell_type": "code",
      "execution_count": 171,
      "metadata": {
        "id": "OfkiEEorSpqR"
      },
      "outputs": [],
      "source": [
        "temmax['TemMaxValue'] = temmax['Valor']"
      ]
    },
    {
      "cell_type": "markdown",
      "metadata": {
        "id": "HkZRWPbctPG9"
      },
      "source": [
        "## Wind Speed"
      ]
    },
    {
      "cell_type": "code",
      "execution_count": 172,
      "metadata": {
        "id": "MDk6PuMPtdml"
      },
      "outputs": [],
      "source": [
        "# velocidadviento['Date'] = pd.to_datetime(velocidadviento['Fecha']).dt.date\n",
        "# velocidadviento['Time'] = pd.to_datetime(velocidadviento['Fecha']).dt.time"
      ]
    },
    {
      "cell_type": "markdown",
      "metadata": {
        "id": "wsNURpMUtma0"
      },
      "source": [
        "## Humedad"
      ]
    },
    {
      "cell_type": "code",
      "execution_count": 173,
      "metadata": {
        "id": "v316ojkztow-"
      },
      "outputs": [],
      "source": [
        "humidity['Date'] = pd.to_datetime(humidity['Fecha']).dt.date\n",
        "humidity['Time'] = pd.to_datetime(humidity['Fecha']).dt.time"
      ]
    },
    {
      "cell_type": "code",
      "execution_count": 174,
      "metadata": {
        "id": "bHJ8Zcc0SzwO"
      },
      "outputs": [],
      "source": [
        "humidity['HumidityValue'] = humidity['Valor']"
      ]
    },
    {
      "cell_type": "markdown",
      "metadata": {
        "id": "jqiVIrhitutN"
      },
      "source": [
        "## Evaporación"
      ]
    },
    {
      "cell_type": "code",
      "execution_count": 175,
      "metadata": {
        "id": "CVUPEp22t1-m"
      },
      "outputs": [],
      "source": [
        "evaporation['Date'] = pd.to_datetime(evaporation['Fecha']).dt.date\n",
        "evaporation['Time'] = pd.to_datetime(evaporation['Fecha']).dt.time"
      ]
    },
    {
      "cell_type": "code",
      "execution_count": 176,
      "metadata": {
        "id": "YyKpXvECTAMQ"
      },
      "outputs": [],
      "source": [
        "evaporation['EvaporationValue'] = evaporation['Valor']"
      ]
    },
    {
      "cell_type": "markdown",
      "metadata": {
        "id": "dmYEl5vmt8kJ"
      },
      "source": [
        "## Precipitación"
      ]
    },
    {
      "cell_type": "code",
      "execution_count": 177,
      "metadata": {
        "id": "AXapLOF9t_37"
      },
      "outputs": [],
      "source": [
        "precipitation['Date'] = pd.to_datetime(precipitation['Fecha']).dt.date\n",
        "precipitation['Time'] = pd.to_datetime(precipitation['Fecha']).dt.time"
      ]
    },
    {
      "cell_type": "code",
      "execution_count": 178,
      "metadata": {
        "id": "dNDhxaSBTIet"
      },
      "outputs": [],
      "source": [
        "precipitation['PrecipitationValue'] = precipitation['Valor']"
      ]
    },
    {
      "cell_type": "markdown",
      "metadata": {
        "id": "2eeXtkJO-Cyg"
      },
      "source": [
        "## Speed Wind 10 Minutes"
      ]
    },
    {
      "cell_type": "code",
      "execution_count": 179,
      "metadata": {
        "colab": {
          "base_uri": "https://localhost:8080/"
        },
        "id": "k4pEaFFEH8tR",
        "outputId": "ac9699b7-e1c6-409c-91b2-cf50012e5cbb"
      },
      "outputs": [
        {
          "output_type": "stream",
          "name": "stdout",
          "text": [
            "<class 'pandas.core.frame.DataFrame'>\n",
            "RangeIndex: 661715 entries, 0 to 661714\n",
            "Data columns (total 12 columns):\n",
            " #   Column             Non-Null Count   Dtype  \n",
            "---  ------             --------------   -----  \n",
            " 0   CodigoEstacion     661715 non-null  int64  \n",
            " 1   CodigoSensor       661715 non-null  int64  \n",
            " 2   FechaObservacion   661715 non-null  object \n",
            " 3   ValorObservado     661715 non-null  float64\n",
            " 4   NombreEstacion     661715 non-null  object \n",
            " 5   Departamento       661715 non-null  object \n",
            " 6   Municipio          661715 non-null  object \n",
            " 7   ZonaHidrografica   661715 non-null  object \n",
            " 8   Latitud            661715 non-null  float64\n",
            " 9   Longitud           661715 non-null  float64\n",
            " 10  DescripcionSensor  661715 non-null  object \n",
            " 11  UnidadMedida       661715 non-null  object \n",
            "dtypes: float64(3), int64(2), object(7)\n",
            "memory usage: 60.6+ MB\n"
          ]
        }
      ],
      "source": [
        "wind_speed.info()"
      ]
    },
    {
      "cell_type": "code",
      "execution_count": 180,
      "metadata": {
        "colab": {
          "base_uri": "https://localhost:8080/"
        },
        "id": "VMCdCxs-HfCO",
        "outputId": "043b3f86-eb2f-49af-81bc-f8701f853769"
      },
      "outputs": [
        {
          "output_type": "stream",
          "name": "stdout",
          "text": [
            "Min: 01/01/2006 01:00:00 AM Max: 12/31/2021 12:50:00 PM\n"
          ]
        }
      ],
      "source": [
        "column = wind_speed[\"FechaObservacion\"]\n",
        "max_value = column.max()\n",
        "min_value = column.min()\n",
        "\n",
        "print(\"Min: \" + min_value + \" Max: \" + max_value)"
      ]
    },
    {
      "cell_type": "code",
      "execution_count": 181,
      "metadata": {
        "colab": {
          "base_uri": "https://localhost:8080/"
        },
        "id": "_xfFEPGBYsyp",
        "outputId": "0dccbebc-c314-46ba-9050-1ad362da71c2"
      },
      "outputs": [
        {
          "output_type": "stream",
          "name": "stderr",
          "text": [
            "<ipython-input-181-02606e3d424f>:2: FutureWarning: The default value of numeric_only in DataFrameGroupBy.sum is deprecated. In a future version, numeric_only will default to False. Either specify numeric_only or select only columns which should be valid for the function.\n",
            "  wind_speed = wind_speed.groupby(pd.Grouper(key='Date', freq='D')).sum()\n"
          ]
        }
      ],
      "source": [
        "wind_speed['Date'] = pd.to_datetime(wind_speed['FechaObservacion'])\n",
        "wind_speed = wind_speed.groupby(pd.Grouper(key='Date', freq='D')).sum()"
      ]
    },
    {
      "cell_type": "code",
      "execution_count": 182,
      "metadata": {
        "colab": {
          "base_uri": "https://localhost:8080/",
          "height": 455
        },
        "id": "-u3POvetQXLr",
        "outputId": "5cdfc006-135b-4574-eec9-fc788c2d71cd"
      },
      "outputs": [
        {
          "output_type": "execute_result",
          "data": {
            "text/plain": [
              "            CodigoEstacion  CodigoSensor  ValorObservado     Latitud  \\\n",
              "Date                                                                   \n",
              "2005-04-21       865275480          3708            38.3  206.853000   \n",
              "2005-04-22      3461101920         14832           165.5  827.412000   \n",
              "2005-04-23      3461101920         14832           175.1  827.412000   \n",
              "2005-04-24      3461101920         14832           143.2  827.412000   \n",
              "2005-04-25      3316889340         14214           153.5  792.936500   \n",
              "...                    ...           ...             ...         ...   \n",
              "2022-06-24      3437066490         14729           149.9  821.666083   \n",
              "2022-06-25      2067046980          8858            74.4  494.148833   \n",
              "2022-06-26      3461101920         14832           118.1  827.412000   \n",
              "2022-06-27      3028464180         12978           157.1  723.985500   \n",
              "2022-06-28      3461101920         14832           150.6  827.412000   \n",
              "\n",
              "                Longitud  \n",
              "Date                      \n",
              "2005-04-21  -2632.189000  \n",
              "2005-04-22 -10528.756000  \n",
              "2005-04-23 -10528.756000  \n",
              "2005-04-24 -10528.756000  \n",
              "2005-04-25 -10090.057833  \n",
              "...                  ...  \n",
              "2022-06-24 -10455.639639  \n",
              "2022-06-25  -6288.007055  \n",
              "2022-06-26 -10528.756000  \n",
              "2022-06-27  -9212.661500  \n",
              "2022-06-28 -10528.756000  \n",
              "\n",
              "[6278 rows x 5 columns]"
            ],
            "text/html": [
              "\n",
              "  <div id=\"df-e513eec6-584a-4480-95e6-0be5ce213d0c\">\n",
              "    <div class=\"colab-df-container\">\n",
              "      <div>\n",
              "<style scoped>\n",
              "    .dataframe tbody tr th:only-of-type {\n",
              "        vertical-align: middle;\n",
              "    }\n",
              "\n",
              "    .dataframe tbody tr th {\n",
              "        vertical-align: top;\n",
              "    }\n",
              "\n",
              "    .dataframe thead th {\n",
              "        text-align: right;\n",
              "    }\n",
              "</style>\n",
              "<table border=\"1\" class=\"dataframe\">\n",
              "  <thead>\n",
              "    <tr style=\"text-align: right;\">\n",
              "      <th></th>\n",
              "      <th>CodigoEstacion</th>\n",
              "      <th>CodigoSensor</th>\n",
              "      <th>ValorObservado</th>\n",
              "      <th>Latitud</th>\n",
              "      <th>Longitud</th>\n",
              "    </tr>\n",
              "    <tr>\n",
              "      <th>Date</th>\n",
              "      <th></th>\n",
              "      <th></th>\n",
              "      <th></th>\n",
              "      <th></th>\n",
              "      <th></th>\n",
              "    </tr>\n",
              "  </thead>\n",
              "  <tbody>\n",
              "    <tr>\n",
              "      <th>2005-04-21</th>\n",
              "      <td>865275480</td>\n",
              "      <td>3708</td>\n",
              "      <td>38.3</td>\n",
              "      <td>206.853000</td>\n",
              "      <td>-2632.189000</td>\n",
              "    </tr>\n",
              "    <tr>\n",
              "      <th>2005-04-22</th>\n",
              "      <td>3461101920</td>\n",
              "      <td>14832</td>\n",
              "      <td>165.5</td>\n",
              "      <td>827.412000</td>\n",
              "      <td>-10528.756000</td>\n",
              "    </tr>\n",
              "    <tr>\n",
              "      <th>2005-04-23</th>\n",
              "      <td>3461101920</td>\n",
              "      <td>14832</td>\n",
              "      <td>175.1</td>\n",
              "      <td>827.412000</td>\n",
              "      <td>-10528.756000</td>\n",
              "    </tr>\n",
              "    <tr>\n",
              "      <th>2005-04-24</th>\n",
              "      <td>3461101920</td>\n",
              "      <td>14832</td>\n",
              "      <td>143.2</td>\n",
              "      <td>827.412000</td>\n",
              "      <td>-10528.756000</td>\n",
              "    </tr>\n",
              "    <tr>\n",
              "      <th>2005-04-25</th>\n",
              "      <td>3316889340</td>\n",
              "      <td>14214</td>\n",
              "      <td>153.5</td>\n",
              "      <td>792.936500</td>\n",
              "      <td>-10090.057833</td>\n",
              "    </tr>\n",
              "    <tr>\n",
              "      <th>...</th>\n",
              "      <td>...</td>\n",
              "      <td>...</td>\n",
              "      <td>...</td>\n",
              "      <td>...</td>\n",
              "      <td>...</td>\n",
              "    </tr>\n",
              "    <tr>\n",
              "      <th>2022-06-24</th>\n",
              "      <td>3437066490</td>\n",
              "      <td>14729</td>\n",
              "      <td>149.9</td>\n",
              "      <td>821.666083</td>\n",
              "      <td>-10455.639639</td>\n",
              "    </tr>\n",
              "    <tr>\n",
              "      <th>2022-06-25</th>\n",
              "      <td>2067046980</td>\n",
              "      <td>8858</td>\n",
              "      <td>74.4</td>\n",
              "      <td>494.148833</td>\n",
              "      <td>-6288.007055</td>\n",
              "    </tr>\n",
              "    <tr>\n",
              "      <th>2022-06-26</th>\n",
              "      <td>3461101920</td>\n",
              "      <td>14832</td>\n",
              "      <td>118.1</td>\n",
              "      <td>827.412000</td>\n",
              "      <td>-10528.756000</td>\n",
              "    </tr>\n",
              "    <tr>\n",
              "      <th>2022-06-27</th>\n",
              "      <td>3028464180</td>\n",
              "      <td>12978</td>\n",
              "      <td>157.1</td>\n",
              "      <td>723.985500</td>\n",
              "      <td>-9212.661500</td>\n",
              "    </tr>\n",
              "    <tr>\n",
              "      <th>2022-06-28</th>\n",
              "      <td>3461101920</td>\n",
              "      <td>14832</td>\n",
              "      <td>150.6</td>\n",
              "      <td>827.412000</td>\n",
              "      <td>-10528.756000</td>\n",
              "    </tr>\n",
              "  </tbody>\n",
              "</table>\n",
              "<p>6278 rows × 5 columns</p>\n",
              "</div>\n",
              "      <button class=\"colab-df-convert\" onclick=\"convertToInteractive('df-e513eec6-584a-4480-95e6-0be5ce213d0c')\"\n",
              "              title=\"Convert this dataframe to an interactive table.\"\n",
              "              style=\"display:none;\">\n",
              "        \n",
              "  <svg xmlns=\"http://www.w3.org/2000/svg\" height=\"24px\"viewBox=\"0 0 24 24\"\n",
              "       width=\"24px\">\n",
              "    <path d=\"M0 0h24v24H0V0z\" fill=\"none\"/>\n",
              "    <path d=\"M18.56 5.44l.94 2.06.94-2.06 2.06-.94-2.06-.94-.94-2.06-.94 2.06-2.06.94zm-11 1L8.5 8.5l.94-2.06 2.06-.94-2.06-.94L8.5 2.5l-.94 2.06-2.06.94zm10 10l.94 2.06.94-2.06 2.06-.94-2.06-.94-.94-2.06-.94 2.06-2.06.94z\"/><path d=\"M17.41 7.96l-1.37-1.37c-.4-.4-.92-.59-1.43-.59-.52 0-1.04.2-1.43.59L10.3 9.45l-7.72 7.72c-.78.78-.78 2.05 0 2.83L4 21.41c.39.39.9.59 1.41.59.51 0 1.02-.2 1.41-.59l7.78-7.78 2.81-2.81c.8-.78.8-2.07 0-2.86zM5.41 20L4 18.59l7.72-7.72 1.47 1.35L5.41 20z\"/>\n",
              "  </svg>\n",
              "      </button>\n",
              "      \n",
              "  <style>\n",
              "    .colab-df-container {\n",
              "      display:flex;\n",
              "      flex-wrap:wrap;\n",
              "      gap: 12px;\n",
              "    }\n",
              "\n",
              "    .colab-df-convert {\n",
              "      background-color: #E8F0FE;\n",
              "      border: none;\n",
              "      border-radius: 50%;\n",
              "      cursor: pointer;\n",
              "      display: none;\n",
              "      fill: #1967D2;\n",
              "      height: 32px;\n",
              "      padding: 0 0 0 0;\n",
              "      width: 32px;\n",
              "    }\n",
              "\n",
              "    .colab-df-convert:hover {\n",
              "      background-color: #E2EBFA;\n",
              "      box-shadow: 0px 1px 2px rgba(60, 64, 67, 0.3), 0px 1px 3px 1px rgba(60, 64, 67, 0.15);\n",
              "      fill: #174EA6;\n",
              "    }\n",
              "\n",
              "    [theme=dark] .colab-df-convert {\n",
              "      background-color: #3B4455;\n",
              "      fill: #D2E3FC;\n",
              "    }\n",
              "\n",
              "    [theme=dark] .colab-df-convert:hover {\n",
              "      background-color: #434B5C;\n",
              "      box-shadow: 0px 1px 3px 1px rgba(0, 0, 0, 0.15);\n",
              "      filter: drop-shadow(0px 1px 2px rgba(0, 0, 0, 0.3));\n",
              "      fill: #FFFFFF;\n",
              "    }\n",
              "  </style>\n",
              "\n",
              "      <script>\n",
              "        const buttonEl =\n",
              "          document.querySelector('#df-e513eec6-584a-4480-95e6-0be5ce213d0c button.colab-df-convert');\n",
              "        buttonEl.style.display =\n",
              "          google.colab.kernel.accessAllowed ? 'block' : 'none';\n",
              "\n",
              "        async function convertToInteractive(key) {\n",
              "          const element = document.querySelector('#df-e513eec6-584a-4480-95e6-0be5ce213d0c');\n",
              "          const dataTable =\n",
              "            await google.colab.kernel.invokeFunction('convertToInteractive',\n",
              "                                                     [key], {});\n",
              "          if (!dataTable) return;\n",
              "\n",
              "          const docLinkHtml = 'Like what you see? Visit the ' +\n",
              "            '<a target=\"_blank\" href=https://colab.research.google.com/notebooks/data_table.ipynb>data table notebook</a>'\n",
              "            + ' to learn more about interactive tables.';\n",
              "          element.innerHTML = '';\n",
              "          dataTable['output_type'] = 'display_data';\n",
              "          await google.colab.output.renderOutput(dataTable, element);\n",
              "          const docLink = document.createElement('div');\n",
              "          docLink.innerHTML = docLinkHtml;\n",
              "          element.appendChild(docLink);\n",
              "        }\n",
              "      </script>\n",
              "    </div>\n",
              "  </div>\n",
              "  "
            ]
          },
          "metadata": {},
          "execution_count": 182
        }
      ],
      "source": [
        "wind_speed"
      ]
    },
    {
      "cell_type": "code",
      "execution_count": 183,
      "metadata": {
        "id": "X340KYDVTajr"
      },
      "outputs": [],
      "source": [
        "wind_speed['WindSpeedValue'] = wind_speed['ValorObservado']"
      ]
    },
    {
      "cell_type": "code",
      "execution_count": 184,
      "metadata": {
        "colab": {
          "base_uri": "https://localhost:8080/"
        },
        "id": "6cJSM-_eb1ML",
        "outputId": "925473a8-af04-4c94-e33c-0effe6da2430"
      },
      "outputs": [
        {
          "output_type": "stream",
          "name": "stdout",
          "text": [
            "<class 'pandas.core.frame.DataFrame'>\n",
            "Index: 7291 entries, 2000-12-31 to 2021-12-31\n",
            "Data columns (total 10 columns):\n",
            " #   Column           Non-Null Count  Dtype  \n",
            "---  ------           --------------  -----  \n",
            " 0   CodigoEstacion   7291 non-null   float64\n",
            " 1   Latitud          7291 non-null   float64\n",
            " 2   Longitud         7291 non-null   float64\n",
            " 3   Altitud          7291 non-null   float64\n",
            " 4   FechaSuspension  0 non-null      float64\n",
            " 5   Valor            7291 non-null   float64\n",
            " 6   Grado            7291 non-null   float64\n",
            " 7   Calificador      0 non-null      float64\n",
            " 8   NivelAprobacion  7291 non-null   float64\n",
            " 9   SunValue         7291 non-null   float64\n",
            "dtypes: float64(10)\n",
            "memory usage: 626.6+ KB\n"
          ]
        }
      ],
      "source": [
        "sun.info()"
      ]
    },
    {
      "cell_type": "code",
      "execution_count": 185,
      "metadata": {
        "colab": {
          "base_uri": "https://localhost:8080/"
        },
        "id": "3wWtNDrlcMpc",
        "outputId": "b9a9aacc-ea3d-461e-ccea-7293617220ca"
      },
      "outputs": [
        {
          "output_type": "stream",
          "name": "stdout",
          "text": [
            "<class 'pandas.core.frame.DataFrame'>\n",
            "DatetimeIndex: 6278 entries, 2005-04-21 to 2022-06-28\n",
            "Freq: D\n",
            "Data columns (total 6 columns):\n",
            " #   Column          Non-Null Count  Dtype  \n",
            "---  ------          --------------  -----  \n",
            " 0   CodigoEstacion  6278 non-null   int64  \n",
            " 1   CodigoSensor    6278 non-null   int64  \n",
            " 2   ValorObservado  6278 non-null   float64\n",
            " 3   Latitud         6278 non-null   float64\n",
            " 4   Longitud        6278 non-null   float64\n",
            " 5   WindSpeedValue  6278 non-null   float64\n",
            "dtypes: float64(4), int64(2)\n",
            "memory usage: 343.3 KB\n"
          ]
        }
      ],
      "source": [
        "wind_speed.info()"
      ]
    },
    {
      "cell_type": "code",
      "execution_count": 186,
      "metadata": {
        "colab": {
          "base_uri": "https://localhost:8080/"
        },
        "id": "ivqn11nZcXdp",
        "outputId": "f6a79c2a-b011-4ce6-c9b8-65ea443f4f04"
      },
      "outputs": [
        {
          "output_type": "stream",
          "name": "stdout",
          "text": [
            "<class 'pandas.core.frame.DataFrame'>\n",
            "RangeIndex: 1826 entries, 0 to 1825\n",
            "Data columns (total 24 columns):\n",
            " #   Column              Non-Null Count  Dtype  \n",
            "---  ------              --------------  -----  \n",
            " 0   CodigoEstacion      1826 non-null   int64  \n",
            " 1   NombreEstacion      1826 non-null   object \n",
            " 2   Latitud             1826 non-null   float64\n",
            " 3   Longitud            1826 non-null   float64\n",
            " 4   Altitud             1826 non-null   int64  \n",
            " 5   Categoria           1826 non-null   object \n",
            " 6   Entidad             1826 non-null   object \n",
            " 7   AreaOperativa       1826 non-null   object \n",
            " 8   Departamento        1826 non-null   object \n",
            " 9   Municipio           1826 non-null   object \n",
            " 10  FechaInstalacion    1826 non-null   object \n",
            " 11  FechaSuspension     0 non-null      float64\n",
            " 12  IdParametro         1826 non-null   object \n",
            " 13  Etiqueta            1826 non-null   object \n",
            " 14  DescripcionSerie    1826 non-null   object \n",
            " 15  Frecuencia          1826 non-null   object \n",
            " 16  Fecha               1826 non-null   object \n",
            " 17  Valor               1826 non-null   float64\n",
            " 18  Grado               1826 non-null   int64  \n",
            " 19  Calificador         0 non-null      float64\n",
            " 20  NivelAprobacion     1826 non-null   int64  \n",
            " 21  Date                1826 non-null   object \n",
            " 22  Time                1826 non-null   object \n",
            " 23  PrecipitationValue  1826 non-null   float64\n",
            "dtypes: float64(6), int64(4), object(14)\n",
            "memory usage: 342.5+ KB\n"
          ]
        }
      ],
      "source": [
        "precipitation.info()"
      ]
    },
    {
      "cell_type": "code",
      "execution_count": 187,
      "metadata": {
        "colab": {
          "base_uri": "https://localhost:8080/"
        },
        "id": "5u5s_2B_ciq8",
        "outputId": "112fa707-cc54-4619-a7cd-0963dd19f12a"
      },
      "outputs": [
        {
          "output_type": "stream",
          "name": "stdout",
          "text": [
            "<class 'pandas.core.frame.DataFrame'>\n",
            "RangeIndex: 5714 entries, 0 to 5713\n",
            "Data columns (total 24 columns):\n",
            " #   Column            Non-Null Count  Dtype  \n",
            "---  ------            --------------  -----  \n",
            " 0   CodigoEstacion    5714 non-null   int64  \n",
            " 1   NombreEstacion    5714 non-null   object \n",
            " 2   Latitud           5714 non-null   float64\n",
            " 3   Longitud          5714 non-null   float64\n",
            " 4   Altitud           5714 non-null   int64  \n",
            " 5   Categoria         5714 non-null   object \n",
            " 6   Entidad           5714 non-null   object \n",
            " 7   AreaOperativa     5714 non-null   object \n",
            " 8   Departamento      5714 non-null   object \n",
            " 9   Municipio         5714 non-null   object \n",
            " 10  FechaInstalacion  5714 non-null   object \n",
            " 11  FechaSuspension   0 non-null      float64\n",
            " 12  IdParametro       5714 non-null   object \n",
            " 13  Etiqueta          5714 non-null   object \n",
            " 14  DescripcionSerie  5714 non-null   object \n",
            " 15  Frecuencia        5714 non-null   object \n",
            " 16  Fecha             5714 non-null   object \n",
            " 17  Valor             5714 non-null   int64  \n",
            " 18  Grado             5714 non-null   int64  \n",
            " 19  Calificador       0 non-null      float64\n",
            " 20  NivelAprobacion   5714 non-null   int64  \n",
            " 21  Date              5714 non-null   object \n",
            " 22  Time              5714 non-null   object \n",
            " 23  HumidityValue     5714 non-null   int64  \n",
            "dtypes: float64(4), int64(6), object(14)\n",
            "memory usage: 1.0+ MB\n"
          ]
        }
      ],
      "source": [
        "humidity.info()"
      ]
    },
    {
      "cell_type": "code",
      "execution_count": 188,
      "metadata": {
        "colab": {
          "base_uri": "https://localhost:8080/"
        },
        "id": "lj_R6O8Wcv5_",
        "outputId": "268d9f8e-dbb4-456f-be9a-0b483693188e"
      },
      "outputs": [
        {
          "output_type": "stream",
          "name": "stdout",
          "text": [
            "<class 'pandas.core.frame.DataFrame'>\n",
            "RangeIndex: 6072 entries, 0 to 6071\n",
            "Data columns (total 24 columns):\n",
            " #   Column            Non-Null Count  Dtype  \n",
            "---  ------            --------------  -----  \n",
            " 0   CodigoEstacion    6072 non-null   int64  \n",
            " 1   NombreEstacion    6072 non-null   object \n",
            " 2   Latitud           6072 non-null   float64\n",
            " 3   Longitud          6072 non-null   float64\n",
            " 4   Altitud           6072 non-null   int64  \n",
            " 5   Categoria         6072 non-null   object \n",
            " 6   Entidad           6072 non-null   object \n",
            " 7   AreaOperativa     6072 non-null   object \n",
            " 8   Departamento      6072 non-null   object \n",
            " 9   Municipio         6072 non-null   object \n",
            " 10  FechaInstalacion  6072 non-null   object \n",
            " 11  FechaSuspension   0 non-null      float64\n",
            " 12  IdParametro       6072 non-null   object \n",
            " 13  Etiqueta          6072 non-null   object \n",
            " 14  DescripcionSerie  6072 non-null   object \n",
            " 15  Frecuencia        6072 non-null   object \n",
            " 16  Fecha             6072 non-null   object \n",
            " 17  Valor             6072 non-null   int64  \n",
            " 18  Grado             6072 non-null   int64  \n",
            " 19  Calificador       0 non-null      float64\n",
            " 20  NivelAprobacion   6072 non-null   int64  \n",
            " 21  Date              6072 non-null   object \n",
            " 22  Time              6072 non-null   object \n",
            " 23  EvaporationValue  6072 non-null   int64  \n",
            "dtypes: float64(4), int64(6), object(14)\n",
            "memory usage: 1.1+ MB\n"
          ]
        }
      ],
      "source": [
        "evaporation.info()"
      ]
    },
    {
      "cell_type": "code",
      "execution_count": 189,
      "metadata": {
        "colab": {
          "base_uri": "https://localhost:8080/"
        },
        "id": "Nrt1XRkZdVsk",
        "outputId": "7df844cd-4d1d-4714-881f-49dc4c8920ce"
      },
      "outputs": [
        {
          "output_type": "stream",
          "name": "stdout",
          "text": [
            "<class 'pandas.core.frame.DataFrame'>\n",
            "RangeIndex: 7049 entries, 0 to 7048\n",
            "Data columns (total 24 columns):\n",
            " #   Column            Non-Null Count  Dtype  \n",
            "---  ------            --------------  -----  \n",
            " 0   CodigoEstacion    7049 non-null   int64  \n",
            " 1   NombreEstacion    7049 non-null   object \n",
            " 2   Latitud           7049 non-null   float64\n",
            " 3   Longitud          7049 non-null   float64\n",
            " 4   Altitud           7049 non-null   int64  \n",
            " 5   Categoria         7049 non-null   object \n",
            " 6   Entidad           7049 non-null   object \n",
            " 7   AreaOperativa     7049 non-null   object \n",
            " 8   Departamento      7049 non-null   object \n",
            " 9   Municipio         7049 non-null   object \n",
            " 10  FechaInstalacion  7049 non-null   object \n",
            " 11  FechaSuspension   0 non-null      float64\n",
            " 12  IdParametro       7049 non-null   object \n",
            " 13  Etiqueta          7049 non-null   object \n",
            " 14  DescripcionSerie  7049 non-null   object \n",
            " 15  Frecuencia        7049 non-null   object \n",
            " 16  Fecha             7049 non-null   object \n",
            " 17  Valor             7049 non-null   float64\n",
            " 18  Grado             7049 non-null   int64  \n",
            " 19  Calificador       0 non-null      float64\n",
            " 20  NivelAprobacion   7049 non-null   int64  \n",
            " 21  Date              7049 non-null   object \n",
            " 22  Time              7049 non-null   object \n",
            " 23  TemMinValue       7049 non-null   float64\n",
            "dtypes: float64(6), int64(4), object(14)\n",
            "memory usage: 1.3+ MB\n",
            "<class 'pandas.core.frame.DataFrame'>\n",
            "RangeIndex: 7054 entries, 0 to 7053\n",
            "Data columns (total 24 columns):\n",
            " #   Column            Non-Null Count  Dtype  \n",
            "---  ------            --------------  -----  \n",
            " 0   CodigoEstacion    7054 non-null   int64  \n",
            " 1   NombreEstacion    7054 non-null   object \n",
            " 2   Latitud           7054 non-null   float64\n",
            " 3   Longitud          7054 non-null   float64\n",
            " 4   Altitud           7054 non-null   int64  \n",
            " 5   Categoria         7054 non-null   object \n",
            " 6   Entidad           7054 non-null   object \n",
            " 7   AreaOperativa     7054 non-null   object \n",
            " 8   Departamento      7054 non-null   object \n",
            " 9   Municipio         7054 non-null   object \n",
            " 10  FechaInstalacion  7054 non-null   object \n",
            " 11  FechaSuspension   0 non-null      float64\n",
            " 12  IdParametro       7054 non-null   object \n",
            " 13  Etiqueta          7054 non-null   object \n",
            " 14  DescripcionSerie  7054 non-null   object \n",
            " 15  Frecuencia        7054 non-null   object \n",
            " 16  Fecha             7054 non-null   object \n",
            " 17  Valor             7054 non-null   float64\n",
            " 18  Grado             7054 non-null   int64  \n",
            " 19  Calificador       0 non-null      float64\n",
            " 20  NivelAprobacion   7054 non-null   int64  \n",
            " 21  Date              7054 non-null   object \n",
            " 22  Time              7054 non-null   object \n",
            " 23  TemMaxValue       7054 non-null   float64\n",
            "dtypes: float64(6), int64(4), object(14)\n",
            "memory usage: 1.3+ MB\n"
          ]
        }
      ],
      "source": [
        "temmin.info()\n",
        "temmax.info()"
      ]
    },
    {
      "cell_type": "code",
      "execution_count": 190,
      "metadata": {
        "colab": {
          "base_uri": "https://localhost:8080/"
        },
        "id": "MZJSNxMxoKYB",
        "outputId": "ef75cd0d-36dc-449d-9335-cc42693d4ae1"
      },
      "outputs": [
        {
          "output_type": "stream",
          "name": "stdout",
          "text": [
            "<class 'pandas.core.frame.DataFrame'>\n",
            "Int64Index: 210641 entries, 80 to 10989964\n",
            "Data columns (total 12 columns):\n",
            " #   Column             Non-Null Count   Dtype  \n",
            "---  ------             --------------   -----  \n",
            " 0   CodigoEstacion     210641 non-null  int64  \n",
            " 1   CodigoSensor       210641 non-null  int64  \n",
            " 2   FechaObservacion   210641 non-null  object \n",
            " 3   ValorObservado     210641 non-null  float64\n",
            " 4   NombreEstacion     210641 non-null  object \n",
            " 5   Departamento       210641 non-null  object \n",
            " 6   Municipio          210641 non-null  object \n",
            " 7   ZonaHidrografica   210641 non-null  object \n",
            " 8   Latitud            210641 non-null  float64\n",
            " 9   Longitud           210641 non-null  float64\n",
            " 10  DescripcionSensor  210641 non-null  object \n",
            " 11  UnidadMedida       210641 non-null  object \n",
            "dtypes: float64(3), int64(2), object(7)\n",
            "memory usage: 20.9+ MB\n"
          ]
        }
      ],
      "source": [
        "precipitation_open_data.info()"
      ]
    },
    {
      "cell_type": "code",
      "execution_count": 191,
      "metadata": {
        "colab": {
          "base_uri": "https://localhost:8080/"
        },
        "id": "JTblHIQUoYvQ",
        "outputId": "27f29c14-3399-43a2-d284-0023ee66384f"
      },
      "outputs": [
        {
          "output_type": "stream",
          "name": "stdout",
          "text": [
            "Min: 01/01/2017 01:00:00 PM Max: 12/31/2021 12:50:00 PM\n"
          ]
        }
      ],
      "source": [
        "column_precipitation_open_data = precipitation_open_data[\"FechaObservacion\"]\n",
        "max_value_precipitation_open_data = column_precipitation_open_data.max()\n",
        "min_value_precipitation_open_data = column_precipitation_open_data.min()\n",
        "\n",
        "print(\"Min: \" + min_value_precipitation_open_data + \" Max: \" + max_value_precipitation_open_data)"
      ]
    },
    {
      "cell_type": "code",
      "source": [
        "precipitation_open_data.describe()"
      ],
      "metadata": {
        "colab": {
          "base_uri": "https://localhost:8080/",
          "height": 300
        },
        "id": "hpgEsssNQxkn",
        "outputId": "67f22472-6ebf-4bb4-faff-ed35f23059d4"
      },
      "execution_count": 192,
      "outputs": [
        {
          "output_type": "execute_result",
          "data": {
            "text/plain": [
              "       CodigoEstacion  CodigoSensor  ValorObservado       Latitud  \\\n",
              "count        210641.0      210641.0   210641.000000  2.106410e+05   \n",
              "mean       24035430.0         240.0        0.014248  5.745917e+00   \n",
              "std               0.0           0.0        0.160308  8.881805e-16   \n",
              "min        24035430.0         240.0        0.000000  5.745917e+00   \n",
              "25%        24035430.0         240.0        0.000000  5.745917e+00   \n",
              "50%        24035430.0         240.0        0.000000  5.745917e+00   \n",
              "75%        24035430.0         240.0        0.000000  5.745917e+00   \n",
              "max        24035430.0         240.0       12.900000  5.745917e+00   \n",
              "\n",
              "           Longitud  \n",
              "count  2.106410e+05  \n",
              "mean  -7.311636e+01  \n",
              "std    1.421089e-14  \n",
              "min   -7.311636e+01  \n",
              "25%   -7.311636e+01  \n",
              "50%   -7.311636e+01  \n",
              "75%   -7.311636e+01  \n",
              "max   -7.311636e+01  "
            ],
            "text/html": [
              "\n",
              "  <div id=\"df-8f0fe53e-aa45-4fa1-8ad2-eae0e4d79ced\">\n",
              "    <div class=\"colab-df-container\">\n",
              "      <div>\n",
              "<style scoped>\n",
              "    .dataframe tbody tr th:only-of-type {\n",
              "        vertical-align: middle;\n",
              "    }\n",
              "\n",
              "    .dataframe tbody tr th {\n",
              "        vertical-align: top;\n",
              "    }\n",
              "\n",
              "    .dataframe thead th {\n",
              "        text-align: right;\n",
              "    }\n",
              "</style>\n",
              "<table border=\"1\" class=\"dataframe\">\n",
              "  <thead>\n",
              "    <tr style=\"text-align: right;\">\n",
              "      <th></th>\n",
              "      <th>CodigoEstacion</th>\n",
              "      <th>CodigoSensor</th>\n",
              "      <th>ValorObservado</th>\n",
              "      <th>Latitud</th>\n",
              "      <th>Longitud</th>\n",
              "    </tr>\n",
              "  </thead>\n",
              "  <tbody>\n",
              "    <tr>\n",
              "      <th>count</th>\n",
              "      <td>210641.0</td>\n",
              "      <td>210641.0</td>\n",
              "      <td>210641.000000</td>\n",
              "      <td>2.106410e+05</td>\n",
              "      <td>2.106410e+05</td>\n",
              "    </tr>\n",
              "    <tr>\n",
              "      <th>mean</th>\n",
              "      <td>24035430.0</td>\n",
              "      <td>240.0</td>\n",
              "      <td>0.014248</td>\n",
              "      <td>5.745917e+00</td>\n",
              "      <td>-7.311636e+01</td>\n",
              "    </tr>\n",
              "    <tr>\n",
              "      <th>std</th>\n",
              "      <td>0.0</td>\n",
              "      <td>0.0</td>\n",
              "      <td>0.160308</td>\n",
              "      <td>8.881805e-16</td>\n",
              "      <td>1.421089e-14</td>\n",
              "    </tr>\n",
              "    <tr>\n",
              "      <th>min</th>\n",
              "      <td>24035430.0</td>\n",
              "      <td>240.0</td>\n",
              "      <td>0.000000</td>\n",
              "      <td>5.745917e+00</td>\n",
              "      <td>-7.311636e+01</td>\n",
              "    </tr>\n",
              "    <tr>\n",
              "      <th>25%</th>\n",
              "      <td>24035430.0</td>\n",
              "      <td>240.0</td>\n",
              "      <td>0.000000</td>\n",
              "      <td>5.745917e+00</td>\n",
              "      <td>-7.311636e+01</td>\n",
              "    </tr>\n",
              "    <tr>\n",
              "      <th>50%</th>\n",
              "      <td>24035430.0</td>\n",
              "      <td>240.0</td>\n",
              "      <td>0.000000</td>\n",
              "      <td>5.745917e+00</td>\n",
              "      <td>-7.311636e+01</td>\n",
              "    </tr>\n",
              "    <tr>\n",
              "      <th>75%</th>\n",
              "      <td>24035430.0</td>\n",
              "      <td>240.0</td>\n",
              "      <td>0.000000</td>\n",
              "      <td>5.745917e+00</td>\n",
              "      <td>-7.311636e+01</td>\n",
              "    </tr>\n",
              "    <tr>\n",
              "      <th>max</th>\n",
              "      <td>24035430.0</td>\n",
              "      <td>240.0</td>\n",
              "      <td>12.900000</td>\n",
              "      <td>5.745917e+00</td>\n",
              "      <td>-7.311636e+01</td>\n",
              "    </tr>\n",
              "  </tbody>\n",
              "</table>\n",
              "</div>\n",
              "      <button class=\"colab-df-convert\" onclick=\"convertToInteractive('df-8f0fe53e-aa45-4fa1-8ad2-eae0e4d79ced')\"\n",
              "              title=\"Convert this dataframe to an interactive table.\"\n",
              "              style=\"display:none;\">\n",
              "        \n",
              "  <svg xmlns=\"http://www.w3.org/2000/svg\" height=\"24px\"viewBox=\"0 0 24 24\"\n",
              "       width=\"24px\">\n",
              "    <path d=\"M0 0h24v24H0V0z\" fill=\"none\"/>\n",
              "    <path d=\"M18.56 5.44l.94 2.06.94-2.06 2.06-.94-2.06-.94-.94-2.06-.94 2.06-2.06.94zm-11 1L8.5 8.5l.94-2.06 2.06-.94-2.06-.94L8.5 2.5l-.94 2.06-2.06.94zm10 10l.94 2.06.94-2.06 2.06-.94-2.06-.94-.94-2.06-.94 2.06-2.06.94z\"/><path d=\"M17.41 7.96l-1.37-1.37c-.4-.4-.92-.59-1.43-.59-.52 0-1.04.2-1.43.59L10.3 9.45l-7.72 7.72c-.78.78-.78 2.05 0 2.83L4 21.41c.39.39.9.59 1.41.59.51 0 1.02-.2 1.41-.59l7.78-7.78 2.81-2.81c.8-.78.8-2.07 0-2.86zM5.41 20L4 18.59l7.72-7.72 1.47 1.35L5.41 20z\"/>\n",
              "  </svg>\n",
              "      </button>\n",
              "      \n",
              "  <style>\n",
              "    .colab-df-container {\n",
              "      display:flex;\n",
              "      flex-wrap:wrap;\n",
              "      gap: 12px;\n",
              "    }\n",
              "\n",
              "    .colab-df-convert {\n",
              "      background-color: #E8F0FE;\n",
              "      border: none;\n",
              "      border-radius: 50%;\n",
              "      cursor: pointer;\n",
              "      display: none;\n",
              "      fill: #1967D2;\n",
              "      height: 32px;\n",
              "      padding: 0 0 0 0;\n",
              "      width: 32px;\n",
              "    }\n",
              "\n",
              "    .colab-df-convert:hover {\n",
              "      background-color: #E2EBFA;\n",
              "      box-shadow: 0px 1px 2px rgba(60, 64, 67, 0.3), 0px 1px 3px 1px rgba(60, 64, 67, 0.15);\n",
              "      fill: #174EA6;\n",
              "    }\n",
              "\n",
              "    [theme=dark] .colab-df-convert {\n",
              "      background-color: #3B4455;\n",
              "      fill: #D2E3FC;\n",
              "    }\n",
              "\n",
              "    [theme=dark] .colab-df-convert:hover {\n",
              "      background-color: #434B5C;\n",
              "      box-shadow: 0px 1px 3px 1px rgba(0, 0, 0, 0.15);\n",
              "      filter: drop-shadow(0px 1px 2px rgba(0, 0, 0, 0.3));\n",
              "      fill: #FFFFFF;\n",
              "    }\n",
              "  </style>\n",
              "\n",
              "      <script>\n",
              "        const buttonEl =\n",
              "          document.querySelector('#df-8f0fe53e-aa45-4fa1-8ad2-eae0e4d79ced button.colab-df-convert');\n",
              "        buttonEl.style.display =\n",
              "          google.colab.kernel.accessAllowed ? 'block' : 'none';\n",
              "\n",
              "        async function convertToInteractive(key) {\n",
              "          const element = document.querySelector('#df-8f0fe53e-aa45-4fa1-8ad2-eae0e4d79ced');\n",
              "          const dataTable =\n",
              "            await google.colab.kernel.invokeFunction('convertToInteractive',\n",
              "                                                     [key], {});\n",
              "          if (!dataTable) return;\n",
              "\n",
              "          const docLinkHtml = 'Like what you see? Visit the ' +\n",
              "            '<a target=\"_blank\" href=https://colab.research.google.com/notebooks/data_table.ipynb>data table notebook</a>'\n",
              "            + ' to learn more about interactive tables.';\n",
              "          element.innerHTML = '';\n",
              "          dataTable['output_type'] = 'display_data';\n",
              "          await google.colab.output.renderOutput(dataTable, element);\n",
              "          const docLink = document.createElement('div');\n",
              "          docLink.innerHTML = docLinkHtml;\n",
              "          element.appendChild(docLink);\n",
              "        }\n",
              "      </script>\n",
              "    </div>\n",
              "  </div>\n",
              "  "
            ]
          },
          "metadata": {},
          "execution_count": 192
        }
      ]
    },
    {
      "cell_type": "code",
      "execution_count": 193,
      "metadata": {
        "id": "Eqk5KMv2ovsr"
      },
      "outputs": [],
      "source": [
        "precipitation_open_data['Date'] = pd.to_datetime(precipitation_open_data['FechaObservacion']).dt.date\n",
        "precipitation_open_data = precipitation_open_data.groupby(['Date']).sum('ValorObservado')"
      ]
    },
    {
      "cell_type": "code",
      "execution_count": 194,
      "metadata": {
        "id": "5pgoMJjWW-iU"
      },
      "outputs": [],
      "source": [
        "precipitation_open_data['PrecipitationValue'] = precipitation_open_data['ValorObservado']"
      ]
    },
    {
      "cell_type": "code",
      "execution_count": 195,
      "metadata": {
        "colab": {
          "base_uri": "https://localhost:8080/"
        },
        "id": "QSGDeAprtoyl",
        "outputId": "af38e097-a598-41c5-c087-383de9323906"
      },
      "outputs": [
        {
          "output_type": "stream",
          "name": "stdout",
          "text": [
            "<class 'pandas.core.frame.DataFrame'>\n",
            "Index: 1543 entries, 2017-01-01 to 2022-06-28\n",
            "Data columns (total 6 columns):\n",
            " #   Column              Non-Null Count  Dtype  \n",
            "---  ------              --------------  -----  \n",
            " 0   CodigoEstacion      1543 non-null   int64  \n",
            " 1   CodigoSensor        1543 non-null   int64  \n",
            " 2   ValorObservado      1543 non-null   float64\n",
            " 3   Latitud             1543 non-null   float64\n",
            " 4   Longitud            1543 non-null   float64\n",
            " 5   PrecipitationValue  1543 non-null   float64\n",
            "dtypes: float64(4), int64(2)\n",
            "memory usage: 84.4+ KB\n"
          ]
        }
      ],
      "source": [
        "precipitation_open_data.info()"
      ]
    },
    {
      "cell_type": "code",
      "source": [
        "column_precipitation = precipitation[\"Fecha\"]\n",
        "max_value_precipitation = column_precipitation.max()\n",
        "min_value_precipitation = column_precipitation.min()\n",
        "\n",
        "print(\"Min: \" + min_value_precipitation + \" Max: \" + max_value_precipitation)\n",
        "\n",
        "precipitation['Date'] = pd.to_datetime(precipitation['Fecha']).dt.date"
      ],
      "metadata": {
        "colab": {
          "base_uri": "https://localhost:8080/"
        },
        "id": "y99y4SLgLxjB",
        "outputId": "833a12b2-3b09-4990-92e2-fc9a500d4579"
      },
      "execution_count": 196,
      "outputs": [
        {
          "output_type": "stream",
          "name": "stdout",
          "text": [
            "Min: 2017-01-02 00:00 Max: 2022-01-01 00:00\n"
          ]
        }
      ]
    },
    {
      "cell_type": "code",
      "execution_count": 197,
      "metadata": {
        "colab": {
          "base_uri": "https://localhost:8080/"
        },
        "id": "YkgdiCLzufBx",
        "outputId": "d1111665-5949-4a23-ec35-7f161980916b"
      },
      "outputs": [
        {
          "output_type": "stream",
          "name": "stdout",
          "text": [
            "<class 'pandas.core.frame.DataFrame'>\n",
            "Index: 7291 entries, 2000-12-31 to 2021-12-31\n",
            "Data columns (total 10 columns):\n",
            " #   Column           Non-Null Count  Dtype  \n",
            "---  ------           --------------  -----  \n",
            " 0   CodigoEstacion   7291 non-null   float64\n",
            " 1   Latitud          7291 non-null   float64\n",
            " 2   Longitud         7291 non-null   float64\n",
            " 3   Altitud          7291 non-null   float64\n",
            " 4   FechaSuspension  0 non-null      float64\n",
            " 5   Valor            7291 non-null   float64\n",
            " 6   Grado            7291 non-null   float64\n",
            " 7   Calificador      0 non-null      float64\n",
            " 8   NivelAprobacion  7291 non-null   float64\n",
            " 9   SunValue         7291 non-null   float64\n",
            "dtypes: float64(10)\n",
            "memory usage: 626.6+ KB\n"
          ]
        }
      ],
      "source": [
        "sun.info()"
      ]
    },
    {
      "cell_type": "code",
      "execution_count": 198,
      "metadata": {
        "colab": {
          "base_uri": "https://localhost:8080/"
        },
        "id": "R0j6EG0Tv_1b",
        "outputId": "9fb03118-5fb1-4b18-8c2a-1f054617fe8c"
      },
      "outputs": [
        {
          "output_type": "execute_result",
          "data": {
            "text/plain": [
              "datetime.date(2021, 7, 31)"
            ]
          },
          "metadata": {},
          "execution_count": 198
        }
      ],
      "source": [
        "humidity.Date.max()"
      ]
    },
    {
      "cell_type": "code",
      "execution_count": 199,
      "metadata": {
        "colab": {
          "base_uri": "https://localhost:8080/"
        },
        "id": "FRHqOQ6HwtK-",
        "outputId": "38239bea-3c91-4b78-c378-abc939b50766"
      },
      "outputs": [
        {
          "output_type": "execute_result",
          "data": {
            "text/plain": [
              "datetime.date(2001, 1, 1)"
            ]
          },
          "metadata": {},
          "execution_count": 199
        }
      ],
      "source": [
        "humidity.Date.min()"
      ]
    },
    {
      "cell_type": "code",
      "execution_count": 200,
      "metadata": {
        "colab": {
          "base_uri": "https://localhost:8080/"
        },
        "id": "j3My2BIZygLU",
        "outputId": "e339f1c5-bbbe-4ee3-a521-d6dac3b074e0"
      },
      "outputs": [
        {
          "output_type": "execute_result",
          "data": {
            "text/plain": [
              "datetime.date(2022, 1, 1)"
            ]
          },
          "metadata": {},
          "execution_count": 200
        }
      ],
      "source": [
        "temmax.Date.max()"
      ]
    },
    {
      "cell_type": "code",
      "execution_count": 201,
      "metadata": {
        "colab": {
          "base_uri": "https://localhost:8080/"
        },
        "id": "Iz3cTNXDyjP8",
        "outputId": "02e6db00-7d3d-47a9-97f8-d3e85ffb93ff"
      },
      "outputs": [
        {
          "output_type": "execute_result",
          "data": {
            "text/plain": [
              "datetime.date(2001, 1, 1)"
            ]
          },
          "metadata": {},
          "execution_count": 201
        }
      ],
      "source": [
        "temmax.Date.min()"
      ]
    },
    {
      "cell_type": "code",
      "execution_count": 202,
      "metadata": {
        "colab": {
          "base_uri": "https://localhost:8080/"
        },
        "id": "H4igp0sbyu6-",
        "outputId": "2cb06de8-d12e-4b84-d54e-72d112295129"
      },
      "outputs": [
        {
          "output_type": "execute_result",
          "data": {
            "text/plain": [
              "datetime.date(2022, 1, 1)"
            ]
          },
          "metadata": {},
          "execution_count": 202
        }
      ],
      "source": [
        "temmin.Date.max()"
      ]
    },
    {
      "cell_type": "code",
      "execution_count": 203,
      "metadata": {
        "colab": {
          "base_uri": "https://localhost:8080/"
        },
        "id": "OfpDCRQLyxk5",
        "outputId": "a8a68c28-6262-4cf7-afa8-29af8400d5a6"
      },
      "outputs": [
        {
          "output_type": "execute_result",
          "data": {
            "text/plain": [
              "datetime.date(2001, 1, 1)"
            ]
          },
          "metadata": {},
          "execution_count": 203
        }
      ],
      "source": [
        "temmin.Date.min()"
      ]
    },
    {
      "cell_type": "markdown",
      "metadata": {
        "id": "DRrrM9_vdYuD"
      },
      "source": [
        "# Build Data Set"
      ]
    },
    {
      "cell_type": "markdown",
      "metadata": {
        "id": "YRhbrdX9dlzF"
      },
      "source": [
        "## Sun"
      ]
    },
    {
      "cell_type": "code",
      "execution_count": 204,
      "metadata": {
        "id": "AqMXL3nwdlgJ"
      },
      "outputs": [],
      "source": [
        "x_sun = sun[['SunValue']]"
      ]
    },
    {
      "cell_type": "code",
      "execution_count": 205,
      "metadata": {
        "colab": {
          "base_uri": "https://localhost:8080/"
        },
        "id": "QZLx9Si2mIc7",
        "outputId": "7f533a2e-0a03-4b3e-cba0-cd98d1c9efd1"
      },
      "outputs": [
        {
          "output_type": "stream",
          "name": "stdout",
          "text": [
            "<class 'pandas.core.frame.DataFrame'>\n",
            "Index: 7291 entries, 2000-12-31 to 2021-12-31\n",
            "Data columns (total 1 columns):\n",
            " #   Column    Non-Null Count  Dtype  \n",
            "---  ------    --------------  -----  \n",
            " 0   SunValue  7291 non-null   float64\n",
            "dtypes: float64(1)\n",
            "memory usage: 113.9+ KB\n"
          ]
        }
      ],
      "source": [
        "x_sun.info()"
      ]
    },
    {
      "cell_type": "code",
      "execution_count": 206,
      "metadata": {
        "colab": {
          "base_uri": "https://localhost:8080/",
          "height": 300
        },
        "id": "MN3bVHLn3HwW",
        "outputId": "a5ec3650-bbc9-4b0f-d829-9316aeda6eb1"
      },
      "outputs": [
        {
          "output_type": "execute_result",
          "data": {
            "text/plain": [
              "          SunValue\n",
              "count  7291.000000\n",
              "mean      0.299643\n",
              "std       0.183576\n",
              "min       0.000000\n",
              "25%       0.150000\n",
              "50%       0.292857\n",
              "75%       0.435714\n",
              "max       0.757143"
            ],
            "text/html": [
              "\n",
              "  <div id=\"df-a5167514-8996-4d3d-a4ab-4adb1329fffd\">\n",
              "    <div class=\"colab-df-container\">\n",
              "      <div>\n",
              "<style scoped>\n",
              "    .dataframe tbody tr th:only-of-type {\n",
              "        vertical-align: middle;\n",
              "    }\n",
              "\n",
              "    .dataframe tbody tr th {\n",
              "        vertical-align: top;\n",
              "    }\n",
              "\n",
              "    .dataframe thead th {\n",
              "        text-align: right;\n",
              "    }\n",
              "</style>\n",
              "<table border=\"1\" class=\"dataframe\">\n",
              "  <thead>\n",
              "    <tr style=\"text-align: right;\">\n",
              "      <th></th>\n",
              "      <th>SunValue</th>\n",
              "    </tr>\n",
              "  </thead>\n",
              "  <tbody>\n",
              "    <tr>\n",
              "      <th>count</th>\n",
              "      <td>7291.000000</td>\n",
              "    </tr>\n",
              "    <tr>\n",
              "      <th>mean</th>\n",
              "      <td>0.299643</td>\n",
              "    </tr>\n",
              "    <tr>\n",
              "      <th>std</th>\n",
              "      <td>0.183576</td>\n",
              "    </tr>\n",
              "    <tr>\n",
              "      <th>min</th>\n",
              "      <td>0.000000</td>\n",
              "    </tr>\n",
              "    <tr>\n",
              "      <th>25%</th>\n",
              "      <td>0.150000</td>\n",
              "    </tr>\n",
              "    <tr>\n",
              "      <th>50%</th>\n",
              "      <td>0.292857</td>\n",
              "    </tr>\n",
              "    <tr>\n",
              "      <th>75%</th>\n",
              "      <td>0.435714</td>\n",
              "    </tr>\n",
              "    <tr>\n",
              "      <th>max</th>\n",
              "      <td>0.757143</td>\n",
              "    </tr>\n",
              "  </tbody>\n",
              "</table>\n",
              "</div>\n",
              "      <button class=\"colab-df-convert\" onclick=\"convertToInteractive('df-a5167514-8996-4d3d-a4ab-4adb1329fffd')\"\n",
              "              title=\"Convert this dataframe to an interactive table.\"\n",
              "              style=\"display:none;\">\n",
              "        \n",
              "  <svg xmlns=\"http://www.w3.org/2000/svg\" height=\"24px\"viewBox=\"0 0 24 24\"\n",
              "       width=\"24px\">\n",
              "    <path d=\"M0 0h24v24H0V0z\" fill=\"none\"/>\n",
              "    <path d=\"M18.56 5.44l.94 2.06.94-2.06 2.06-.94-2.06-.94-.94-2.06-.94 2.06-2.06.94zm-11 1L8.5 8.5l.94-2.06 2.06-.94-2.06-.94L8.5 2.5l-.94 2.06-2.06.94zm10 10l.94 2.06.94-2.06 2.06-.94-2.06-.94-.94-2.06-.94 2.06-2.06.94z\"/><path d=\"M17.41 7.96l-1.37-1.37c-.4-.4-.92-.59-1.43-.59-.52 0-1.04.2-1.43.59L10.3 9.45l-7.72 7.72c-.78.78-.78 2.05 0 2.83L4 21.41c.39.39.9.59 1.41.59.51 0 1.02-.2 1.41-.59l7.78-7.78 2.81-2.81c.8-.78.8-2.07 0-2.86zM5.41 20L4 18.59l7.72-7.72 1.47 1.35L5.41 20z\"/>\n",
              "  </svg>\n",
              "      </button>\n",
              "      \n",
              "  <style>\n",
              "    .colab-df-container {\n",
              "      display:flex;\n",
              "      flex-wrap:wrap;\n",
              "      gap: 12px;\n",
              "    }\n",
              "\n",
              "    .colab-df-convert {\n",
              "      background-color: #E8F0FE;\n",
              "      border: none;\n",
              "      border-radius: 50%;\n",
              "      cursor: pointer;\n",
              "      display: none;\n",
              "      fill: #1967D2;\n",
              "      height: 32px;\n",
              "      padding: 0 0 0 0;\n",
              "      width: 32px;\n",
              "    }\n",
              "\n",
              "    .colab-df-convert:hover {\n",
              "      background-color: #E2EBFA;\n",
              "      box-shadow: 0px 1px 2px rgba(60, 64, 67, 0.3), 0px 1px 3px 1px rgba(60, 64, 67, 0.15);\n",
              "      fill: #174EA6;\n",
              "    }\n",
              "\n",
              "    [theme=dark] .colab-df-convert {\n",
              "      background-color: #3B4455;\n",
              "      fill: #D2E3FC;\n",
              "    }\n",
              "\n",
              "    [theme=dark] .colab-df-convert:hover {\n",
              "      background-color: #434B5C;\n",
              "      box-shadow: 0px 1px 3px 1px rgba(0, 0, 0, 0.15);\n",
              "      filter: drop-shadow(0px 1px 2px rgba(0, 0, 0, 0.3));\n",
              "      fill: #FFFFFF;\n",
              "    }\n",
              "  </style>\n",
              "\n",
              "      <script>\n",
              "        const buttonEl =\n",
              "          document.querySelector('#df-a5167514-8996-4d3d-a4ab-4adb1329fffd button.colab-df-convert');\n",
              "        buttonEl.style.display =\n",
              "          google.colab.kernel.accessAllowed ? 'block' : 'none';\n",
              "\n",
              "        async function convertToInteractive(key) {\n",
              "          const element = document.querySelector('#df-a5167514-8996-4d3d-a4ab-4adb1329fffd');\n",
              "          const dataTable =\n",
              "            await google.colab.kernel.invokeFunction('convertToInteractive',\n",
              "                                                     [key], {});\n",
              "          if (!dataTable) return;\n",
              "\n",
              "          const docLinkHtml = 'Like what you see? Visit the ' +\n",
              "            '<a target=\"_blank\" href=https://colab.research.google.com/notebooks/data_table.ipynb>data table notebook</a>'\n",
              "            + ' to learn more about interactive tables.';\n",
              "          element.innerHTML = '';\n",
              "          dataTable['output_type'] = 'display_data';\n",
              "          await google.colab.output.renderOutput(dataTable, element);\n",
              "          const docLink = document.createElement('div');\n",
              "          docLink.innerHTML = docLinkHtml;\n",
              "          element.appendChild(docLink);\n",
              "        }\n",
              "      </script>\n",
              "    </div>\n",
              "  </div>\n",
              "  "
            ]
          },
          "metadata": {},
          "execution_count": 206
        }
      ],
      "source": [
        "x_sun.describe()"
      ]
    },
    {
      "cell_type": "markdown",
      "metadata": {
        "id": "_IFcishido7u"
      },
      "source": [
        "## Temperature Min"
      ]
    },
    {
      "cell_type": "code",
      "execution_count": 207,
      "metadata": {
        "id": "51pq7aBhdcLo"
      },
      "outputs": [],
      "source": [
        "x_temmin = temmin[['Date', 'TemMinValue']]"
      ]
    },
    {
      "cell_type": "code",
      "execution_count": 208,
      "metadata": {
        "colab": {
          "base_uri": "https://localhost:8080/"
        },
        "id": "4DLUikygmWyF",
        "outputId": "b45986fd-6f7c-47c9-98de-ba04041e69b2"
      },
      "outputs": [
        {
          "output_type": "stream",
          "name": "stdout",
          "text": [
            "<class 'pandas.core.frame.DataFrame'>\n",
            "RangeIndex: 7049 entries, 0 to 7048\n",
            "Data columns (total 2 columns):\n",
            " #   Column       Non-Null Count  Dtype  \n",
            "---  ------       --------------  -----  \n",
            " 0   Date         7049 non-null   object \n",
            " 1   TemMinValue  7049 non-null   float64\n",
            "dtypes: float64(1), object(1)\n",
            "memory usage: 110.3+ KB\n"
          ]
        }
      ],
      "source": [
        "x_temmin.info()"
      ]
    },
    {
      "cell_type": "code",
      "execution_count": 209,
      "metadata": {
        "colab": {
          "base_uri": "https://localhost:8080/",
          "height": 300
        },
        "id": "9FK5Mwjl3Q-k",
        "outputId": "48b77666-7611-497b-fc27-7c1a98e9ccaf"
      },
      "outputs": [
        {
          "output_type": "execute_result",
          "data": {
            "text/plain": [
              "       TemMinValue\n",
              "count  7049.000000\n",
              "mean      7.260817\n",
              "std       2.669100\n",
              "min      -5.200000\n",
              "25%       5.400000\n",
              "50%       7.400000\n",
              "75%       9.400000\n",
              "max      13.600000"
            ],
            "text/html": [
              "\n",
              "  <div id=\"df-aad9d586-8688-4fac-88a1-8ad013aa7edc\">\n",
              "    <div class=\"colab-df-container\">\n",
              "      <div>\n",
              "<style scoped>\n",
              "    .dataframe tbody tr th:only-of-type {\n",
              "        vertical-align: middle;\n",
              "    }\n",
              "\n",
              "    .dataframe tbody tr th {\n",
              "        vertical-align: top;\n",
              "    }\n",
              "\n",
              "    .dataframe thead th {\n",
              "        text-align: right;\n",
              "    }\n",
              "</style>\n",
              "<table border=\"1\" class=\"dataframe\">\n",
              "  <thead>\n",
              "    <tr style=\"text-align: right;\">\n",
              "      <th></th>\n",
              "      <th>TemMinValue</th>\n",
              "    </tr>\n",
              "  </thead>\n",
              "  <tbody>\n",
              "    <tr>\n",
              "      <th>count</th>\n",
              "      <td>7049.000000</td>\n",
              "    </tr>\n",
              "    <tr>\n",
              "      <th>mean</th>\n",
              "      <td>7.260817</td>\n",
              "    </tr>\n",
              "    <tr>\n",
              "      <th>std</th>\n",
              "      <td>2.669100</td>\n",
              "    </tr>\n",
              "    <tr>\n",
              "      <th>min</th>\n",
              "      <td>-5.200000</td>\n",
              "    </tr>\n",
              "    <tr>\n",
              "      <th>25%</th>\n",
              "      <td>5.400000</td>\n",
              "    </tr>\n",
              "    <tr>\n",
              "      <th>50%</th>\n",
              "      <td>7.400000</td>\n",
              "    </tr>\n",
              "    <tr>\n",
              "      <th>75%</th>\n",
              "      <td>9.400000</td>\n",
              "    </tr>\n",
              "    <tr>\n",
              "      <th>max</th>\n",
              "      <td>13.600000</td>\n",
              "    </tr>\n",
              "  </tbody>\n",
              "</table>\n",
              "</div>\n",
              "      <button class=\"colab-df-convert\" onclick=\"convertToInteractive('df-aad9d586-8688-4fac-88a1-8ad013aa7edc')\"\n",
              "              title=\"Convert this dataframe to an interactive table.\"\n",
              "              style=\"display:none;\">\n",
              "        \n",
              "  <svg xmlns=\"http://www.w3.org/2000/svg\" height=\"24px\"viewBox=\"0 0 24 24\"\n",
              "       width=\"24px\">\n",
              "    <path d=\"M0 0h24v24H0V0z\" fill=\"none\"/>\n",
              "    <path d=\"M18.56 5.44l.94 2.06.94-2.06 2.06-.94-2.06-.94-.94-2.06-.94 2.06-2.06.94zm-11 1L8.5 8.5l.94-2.06 2.06-.94-2.06-.94L8.5 2.5l-.94 2.06-2.06.94zm10 10l.94 2.06.94-2.06 2.06-.94-2.06-.94-.94-2.06-.94 2.06-2.06.94z\"/><path d=\"M17.41 7.96l-1.37-1.37c-.4-.4-.92-.59-1.43-.59-.52 0-1.04.2-1.43.59L10.3 9.45l-7.72 7.72c-.78.78-.78 2.05 0 2.83L4 21.41c.39.39.9.59 1.41.59.51 0 1.02-.2 1.41-.59l7.78-7.78 2.81-2.81c.8-.78.8-2.07 0-2.86zM5.41 20L4 18.59l7.72-7.72 1.47 1.35L5.41 20z\"/>\n",
              "  </svg>\n",
              "      </button>\n",
              "      \n",
              "  <style>\n",
              "    .colab-df-container {\n",
              "      display:flex;\n",
              "      flex-wrap:wrap;\n",
              "      gap: 12px;\n",
              "    }\n",
              "\n",
              "    .colab-df-convert {\n",
              "      background-color: #E8F0FE;\n",
              "      border: none;\n",
              "      border-radius: 50%;\n",
              "      cursor: pointer;\n",
              "      display: none;\n",
              "      fill: #1967D2;\n",
              "      height: 32px;\n",
              "      padding: 0 0 0 0;\n",
              "      width: 32px;\n",
              "    }\n",
              "\n",
              "    .colab-df-convert:hover {\n",
              "      background-color: #E2EBFA;\n",
              "      box-shadow: 0px 1px 2px rgba(60, 64, 67, 0.3), 0px 1px 3px 1px rgba(60, 64, 67, 0.15);\n",
              "      fill: #174EA6;\n",
              "    }\n",
              "\n",
              "    [theme=dark] .colab-df-convert {\n",
              "      background-color: #3B4455;\n",
              "      fill: #D2E3FC;\n",
              "    }\n",
              "\n",
              "    [theme=dark] .colab-df-convert:hover {\n",
              "      background-color: #434B5C;\n",
              "      box-shadow: 0px 1px 3px 1px rgba(0, 0, 0, 0.15);\n",
              "      filter: drop-shadow(0px 1px 2px rgba(0, 0, 0, 0.3));\n",
              "      fill: #FFFFFF;\n",
              "    }\n",
              "  </style>\n",
              "\n",
              "      <script>\n",
              "        const buttonEl =\n",
              "          document.querySelector('#df-aad9d586-8688-4fac-88a1-8ad013aa7edc button.colab-df-convert');\n",
              "        buttonEl.style.display =\n",
              "          google.colab.kernel.accessAllowed ? 'block' : 'none';\n",
              "\n",
              "        async function convertToInteractive(key) {\n",
              "          const element = document.querySelector('#df-aad9d586-8688-4fac-88a1-8ad013aa7edc');\n",
              "          const dataTable =\n",
              "            await google.colab.kernel.invokeFunction('convertToInteractive',\n",
              "                                                     [key], {});\n",
              "          if (!dataTable) return;\n",
              "\n",
              "          const docLinkHtml = 'Like what you see? Visit the ' +\n",
              "            '<a target=\"_blank\" href=https://colab.research.google.com/notebooks/data_table.ipynb>data table notebook</a>'\n",
              "            + ' to learn more about interactive tables.';\n",
              "          element.innerHTML = '';\n",
              "          dataTable['output_type'] = 'display_data';\n",
              "          await google.colab.output.renderOutput(dataTable, element);\n",
              "          const docLink = document.createElement('div');\n",
              "          docLink.innerHTML = docLinkHtml;\n",
              "          element.appendChild(docLink);\n",
              "        }\n",
              "      </script>\n",
              "    </div>\n",
              "  </div>\n",
              "  "
            ]
          },
          "metadata": {},
          "execution_count": 209
        }
      ],
      "source": [
        "x_temmin.describe()"
      ]
    },
    {
      "cell_type": "markdown",
      "metadata": {
        "id": "uK3Aid5Hdzc-"
      },
      "source": [
        "## Temperature Max"
      ]
    },
    {
      "cell_type": "code",
      "execution_count": 210,
      "metadata": {
        "id": "IWi50w8bd02b"
      },
      "outputs": [],
      "source": [
        "x_temmax = temmax[['Date', 'TemMaxValue']]"
      ]
    },
    {
      "cell_type": "code",
      "execution_count": 211,
      "metadata": {
        "colab": {
          "base_uri": "https://localhost:8080/"
        },
        "id": "w3Y3Tw_Um-hT",
        "outputId": "4fc4fe1f-a3ec-4b86-80eb-1bfb5cc67631"
      },
      "outputs": [
        {
          "output_type": "stream",
          "name": "stdout",
          "text": [
            "<class 'pandas.core.frame.DataFrame'>\n",
            "RangeIndex: 7054 entries, 0 to 7053\n",
            "Data columns (total 2 columns):\n",
            " #   Column       Non-Null Count  Dtype  \n",
            "---  ------       --------------  -----  \n",
            " 0   Date         7054 non-null   object \n",
            " 1   TemMaxValue  7054 non-null   float64\n",
            "dtypes: float64(1), object(1)\n",
            "memory usage: 110.3+ KB\n"
          ]
        }
      ],
      "source": [
        "x_temmax.info()"
      ]
    },
    {
      "cell_type": "code",
      "execution_count": 212,
      "metadata": {
        "colab": {
          "base_uri": "https://localhost:8080/",
          "height": 300
        },
        "id": "cj2iCeq73TC6",
        "outputId": "af48b0b9-2448-424c-e818-b4d281459d23"
      },
      "outputs": [
        {
          "output_type": "execute_result",
          "data": {
            "text/plain": [
              "       TemMaxValue\n",
              "count  7054.000000\n",
              "mean     22.174936\n",
              "std       1.856672\n",
              "min      11.800000\n",
              "25%      21.000000\n",
              "50%      22.200000\n",
              "75%      23.400000\n",
              "max      29.000000"
            ],
            "text/html": [
              "\n",
              "  <div id=\"df-39980c0c-02e9-47a0-8948-62b85edc1ea4\">\n",
              "    <div class=\"colab-df-container\">\n",
              "      <div>\n",
              "<style scoped>\n",
              "    .dataframe tbody tr th:only-of-type {\n",
              "        vertical-align: middle;\n",
              "    }\n",
              "\n",
              "    .dataframe tbody tr th {\n",
              "        vertical-align: top;\n",
              "    }\n",
              "\n",
              "    .dataframe thead th {\n",
              "        text-align: right;\n",
              "    }\n",
              "</style>\n",
              "<table border=\"1\" class=\"dataframe\">\n",
              "  <thead>\n",
              "    <tr style=\"text-align: right;\">\n",
              "      <th></th>\n",
              "      <th>TemMaxValue</th>\n",
              "    </tr>\n",
              "  </thead>\n",
              "  <tbody>\n",
              "    <tr>\n",
              "      <th>count</th>\n",
              "      <td>7054.000000</td>\n",
              "    </tr>\n",
              "    <tr>\n",
              "      <th>mean</th>\n",
              "      <td>22.174936</td>\n",
              "    </tr>\n",
              "    <tr>\n",
              "      <th>std</th>\n",
              "      <td>1.856672</td>\n",
              "    </tr>\n",
              "    <tr>\n",
              "      <th>min</th>\n",
              "      <td>11.800000</td>\n",
              "    </tr>\n",
              "    <tr>\n",
              "      <th>25%</th>\n",
              "      <td>21.000000</td>\n",
              "    </tr>\n",
              "    <tr>\n",
              "      <th>50%</th>\n",
              "      <td>22.200000</td>\n",
              "    </tr>\n",
              "    <tr>\n",
              "      <th>75%</th>\n",
              "      <td>23.400000</td>\n",
              "    </tr>\n",
              "    <tr>\n",
              "      <th>max</th>\n",
              "      <td>29.000000</td>\n",
              "    </tr>\n",
              "  </tbody>\n",
              "</table>\n",
              "</div>\n",
              "      <button class=\"colab-df-convert\" onclick=\"convertToInteractive('df-39980c0c-02e9-47a0-8948-62b85edc1ea4')\"\n",
              "              title=\"Convert this dataframe to an interactive table.\"\n",
              "              style=\"display:none;\">\n",
              "        \n",
              "  <svg xmlns=\"http://www.w3.org/2000/svg\" height=\"24px\"viewBox=\"0 0 24 24\"\n",
              "       width=\"24px\">\n",
              "    <path d=\"M0 0h24v24H0V0z\" fill=\"none\"/>\n",
              "    <path d=\"M18.56 5.44l.94 2.06.94-2.06 2.06-.94-2.06-.94-.94-2.06-.94 2.06-2.06.94zm-11 1L8.5 8.5l.94-2.06 2.06-.94-2.06-.94L8.5 2.5l-.94 2.06-2.06.94zm10 10l.94 2.06.94-2.06 2.06-.94-2.06-.94-.94-2.06-.94 2.06-2.06.94z\"/><path d=\"M17.41 7.96l-1.37-1.37c-.4-.4-.92-.59-1.43-.59-.52 0-1.04.2-1.43.59L10.3 9.45l-7.72 7.72c-.78.78-.78 2.05 0 2.83L4 21.41c.39.39.9.59 1.41.59.51 0 1.02-.2 1.41-.59l7.78-7.78 2.81-2.81c.8-.78.8-2.07 0-2.86zM5.41 20L4 18.59l7.72-7.72 1.47 1.35L5.41 20z\"/>\n",
              "  </svg>\n",
              "      </button>\n",
              "      \n",
              "  <style>\n",
              "    .colab-df-container {\n",
              "      display:flex;\n",
              "      flex-wrap:wrap;\n",
              "      gap: 12px;\n",
              "    }\n",
              "\n",
              "    .colab-df-convert {\n",
              "      background-color: #E8F0FE;\n",
              "      border: none;\n",
              "      border-radius: 50%;\n",
              "      cursor: pointer;\n",
              "      display: none;\n",
              "      fill: #1967D2;\n",
              "      height: 32px;\n",
              "      padding: 0 0 0 0;\n",
              "      width: 32px;\n",
              "    }\n",
              "\n",
              "    .colab-df-convert:hover {\n",
              "      background-color: #E2EBFA;\n",
              "      box-shadow: 0px 1px 2px rgba(60, 64, 67, 0.3), 0px 1px 3px 1px rgba(60, 64, 67, 0.15);\n",
              "      fill: #174EA6;\n",
              "    }\n",
              "\n",
              "    [theme=dark] .colab-df-convert {\n",
              "      background-color: #3B4455;\n",
              "      fill: #D2E3FC;\n",
              "    }\n",
              "\n",
              "    [theme=dark] .colab-df-convert:hover {\n",
              "      background-color: #434B5C;\n",
              "      box-shadow: 0px 1px 3px 1px rgba(0, 0, 0, 0.15);\n",
              "      filter: drop-shadow(0px 1px 2px rgba(0, 0, 0, 0.3));\n",
              "      fill: #FFFFFF;\n",
              "    }\n",
              "  </style>\n",
              "\n",
              "      <script>\n",
              "        const buttonEl =\n",
              "          document.querySelector('#df-39980c0c-02e9-47a0-8948-62b85edc1ea4 button.colab-df-convert');\n",
              "        buttonEl.style.display =\n",
              "          google.colab.kernel.accessAllowed ? 'block' : 'none';\n",
              "\n",
              "        async function convertToInteractive(key) {\n",
              "          const element = document.querySelector('#df-39980c0c-02e9-47a0-8948-62b85edc1ea4');\n",
              "          const dataTable =\n",
              "            await google.colab.kernel.invokeFunction('convertToInteractive',\n",
              "                                                     [key], {});\n",
              "          if (!dataTable) return;\n",
              "\n",
              "          const docLinkHtml = 'Like what you see? Visit the ' +\n",
              "            '<a target=\"_blank\" href=https://colab.research.google.com/notebooks/data_table.ipynb>data table notebook</a>'\n",
              "            + ' to learn more about interactive tables.';\n",
              "          element.innerHTML = '';\n",
              "          dataTable['output_type'] = 'display_data';\n",
              "          await google.colab.output.renderOutput(dataTable, element);\n",
              "          const docLink = document.createElement('div');\n",
              "          docLink.innerHTML = docLinkHtml;\n",
              "          element.appendChild(docLink);\n",
              "        }\n",
              "      </script>\n",
              "    </div>\n",
              "  </div>\n",
              "  "
            ]
          },
          "metadata": {},
          "execution_count": 212
        }
      ],
      "source": [
        "x_temmax.describe()"
      ]
    },
    {
      "cell_type": "markdown",
      "metadata": {
        "id": "7XbqxyQBd1e_"
      },
      "source": [
        "## Humidity"
      ]
    },
    {
      "cell_type": "code",
      "execution_count": 213,
      "metadata": {
        "id": "4xYz7_j8d47n"
      },
      "outputs": [],
      "source": [
        "x_humidity = humidity[['Date', 'HumidityValue']]"
      ]
    },
    {
      "cell_type": "code",
      "execution_count": 214,
      "metadata": {
        "colab": {
          "base_uri": "https://localhost:8080/"
        },
        "id": "bo19wjaunCZ8",
        "outputId": "ee17450b-de2c-4603-88c6-976015b86992"
      },
      "outputs": [
        {
          "output_type": "stream",
          "name": "stdout",
          "text": [
            "<class 'pandas.core.frame.DataFrame'>\n",
            "RangeIndex: 5714 entries, 0 to 5713\n",
            "Data columns (total 2 columns):\n",
            " #   Column         Non-Null Count  Dtype \n",
            "---  ------         --------------  ----- \n",
            " 0   Date           5714 non-null   object\n",
            " 1   HumidityValue  5714 non-null   int64 \n",
            "dtypes: int64(1), object(1)\n",
            "memory usage: 89.4+ KB\n"
          ]
        }
      ],
      "source": [
        "x_humidity.info()"
      ]
    },
    {
      "cell_type": "code",
      "execution_count": 215,
      "metadata": {
        "colab": {
          "base_uri": "https://localhost:8080/",
          "height": 300
        },
        "id": "1oXhDeLQ3Vic",
        "outputId": "248efb01-8771-4afe-ab78-924bcaf2ba77"
      },
      "outputs": [
        {
          "output_type": "execute_result",
          "data": {
            "text/plain": [
              "       HumidityValue\n",
              "count    5714.000000\n",
              "mean       55.136857\n",
              "std        13.800160\n",
              "min       -24.000000\n",
              "25%        46.000000\n",
              "50%        55.000000\n",
              "75%        64.000000\n",
              "max       100.000000"
            ],
            "text/html": [
              "\n",
              "  <div id=\"df-02ec6ed3-4956-4ea2-949c-6b13335d2322\">\n",
              "    <div class=\"colab-df-container\">\n",
              "      <div>\n",
              "<style scoped>\n",
              "    .dataframe tbody tr th:only-of-type {\n",
              "        vertical-align: middle;\n",
              "    }\n",
              "\n",
              "    .dataframe tbody tr th {\n",
              "        vertical-align: top;\n",
              "    }\n",
              "\n",
              "    .dataframe thead th {\n",
              "        text-align: right;\n",
              "    }\n",
              "</style>\n",
              "<table border=\"1\" class=\"dataframe\">\n",
              "  <thead>\n",
              "    <tr style=\"text-align: right;\">\n",
              "      <th></th>\n",
              "      <th>HumidityValue</th>\n",
              "    </tr>\n",
              "  </thead>\n",
              "  <tbody>\n",
              "    <tr>\n",
              "      <th>count</th>\n",
              "      <td>5714.000000</td>\n",
              "    </tr>\n",
              "    <tr>\n",
              "      <th>mean</th>\n",
              "      <td>55.136857</td>\n",
              "    </tr>\n",
              "    <tr>\n",
              "      <th>std</th>\n",
              "      <td>13.800160</td>\n",
              "    </tr>\n",
              "    <tr>\n",
              "      <th>min</th>\n",
              "      <td>-24.000000</td>\n",
              "    </tr>\n",
              "    <tr>\n",
              "      <th>25%</th>\n",
              "      <td>46.000000</td>\n",
              "    </tr>\n",
              "    <tr>\n",
              "      <th>50%</th>\n",
              "      <td>55.000000</td>\n",
              "    </tr>\n",
              "    <tr>\n",
              "      <th>75%</th>\n",
              "      <td>64.000000</td>\n",
              "    </tr>\n",
              "    <tr>\n",
              "      <th>max</th>\n",
              "      <td>100.000000</td>\n",
              "    </tr>\n",
              "  </tbody>\n",
              "</table>\n",
              "</div>\n",
              "      <button class=\"colab-df-convert\" onclick=\"convertToInteractive('df-02ec6ed3-4956-4ea2-949c-6b13335d2322')\"\n",
              "              title=\"Convert this dataframe to an interactive table.\"\n",
              "              style=\"display:none;\">\n",
              "        \n",
              "  <svg xmlns=\"http://www.w3.org/2000/svg\" height=\"24px\"viewBox=\"0 0 24 24\"\n",
              "       width=\"24px\">\n",
              "    <path d=\"M0 0h24v24H0V0z\" fill=\"none\"/>\n",
              "    <path d=\"M18.56 5.44l.94 2.06.94-2.06 2.06-.94-2.06-.94-.94-2.06-.94 2.06-2.06.94zm-11 1L8.5 8.5l.94-2.06 2.06-.94-2.06-.94L8.5 2.5l-.94 2.06-2.06.94zm10 10l.94 2.06.94-2.06 2.06-.94-2.06-.94-.94-2.06-.94 2.06-2.06.94z\"/><path d=\"M17.41 7.96l-1.37-1.37c-.4-.4-.92-.59-1.43-.59-.52 0-1.04.2-1.43.59L10.3 9.45l-7.72 7.72c-.78.78-.78 2.05 0 2.83L4 21.41c.39.39.9.59 1.41.59.51 0 1.02-.2 1.41-.59l7.78-7.78 2.81-2.81c.8-.78.8-2.07 0-2.86zM5.41 20L4 18.59l7.72-7.72 1.47 1.35L5.41 20z\"/>\n",
              "  </svg>\n",
              "      </button>\n",
              "      \n",
              "  <style>\n",
              "    .colab-df-container {\n",
              "      display:flex;\n",
              "      flex-wrap:wrap;\n",
              "      gap: 12px;\n",
              "    }\n",
              "\n",
              "    .colab-df-convert {\n",
              "      background-color: #E8F0FE;\n",
              "      border: none;\n",
              "      border-radius: 50%;\n",
              "      cursor: pointer;\n",
              "      display: none;\n",
              "      fill: #1967D2;\n",
              "      height: 32px;\n",
              "      padding: 0 0 0 0;\n",
              "      width: 32px;\n",
              "    }\n",
              "\n",
              "    .colab-df-convert:hover {\n",
              "      background-color: #E2EBFA;\n",
              "      box-shadow: 0px 1px 2px rgba(60, 64, 67, 0.3), 0px 1px 3px 1px rgba(60, 64, 67, 0.15);\n",
              "      fill: #174EA6;\n",
              "    }\n",
              "\n",
              "    [theme=dark] .colab-df-convert {\n",
              "      background-color: #3B4455;\n",
              "      fill: #D2E3FC;\n",
              "    }\n",
              "\n",
              "    [theme=dark] .colab-df-convert:hover {\n",
              "      background-color: #434B5C;\n",
              "      box-shadow: 0px 1px 3px 1px rgba(0, 0, 0, 0.15);\n",
              "      filter: drop-shadow(0px 1px 2px rgba(0, 0, 0, 0.3));\n",
              "      fill: #FFFFFF;\n",
              "    }\n",
              "  </style>\n",
              "\n",
              "      <script>\n",
              "        const buttonEl =\n",
              "          document.querySelector('#df-02ec6ed3-4956-4ea2-949c-6b13335d2322 button.colab-df-convert');\n",
              "        buttonEl.style.display =\n",
              "          google.colab.kernel.accessAllowed ? 'block' : 'none';\n",
              "\n",
              "        async function convertToInteractive(key) {\n",
              "          const element = document.querySelector('#df-02ec6ed3-4956-4ea2-949c-6b13335d2322');\n",
              "          const dataTable =\n",
              "            await google.colab.kernel.invokeFunction('convertToInteractive',\n",
              "                                                     [key], {});\n",
              "          if (!dataTable) return;\n",
              "\n",
              "          const docLinkHtml = 'Like what you see? Visit the ' +\n",
              "            '<a target=\"_blank\" href=https://colab.research.google.com/notebooks/data_table.ipynb>data table notebook</a>'\n",
              "            + ' to learn more about interactive tables.';\n",
              "          element.innerHTML = '';\n",
              "          dataTable['output_type'] = 'display_data';\n",
              "          await google.colab.output.renderOutput(dataTable, element);\n",
              "          const docLink = document.createElement('div');\n",
              "          docLink.innerHTML = docLinkHtml;\n",
              "          element.appendChild(docLink);\n",
              "        }\n",
              "      </script>\n",
              "    </div>\n",
              "  </div>\n",
              "  "
            ]
          },
          "metadata": {},
          "execution_count": 215
        }
      ],
      "source": [
        "x_humidity.describe()"
      ]
    },
    {
      "cell_type": "markdown",
      "metadata": {
        "id": "5Jectp4vd5ka"
      },
      "source": [
        "## Precipitation"
      ]
    },
    {
      "cell_type": "code",
      "execution_count": 216,
      "metadata": {
        "id": "9gULnTSwd7GJ"
      },
      "outputs": [],
      "source": [
        "x_precipitation = precipitation_open_data['PrecipitationValue']"
      ]
    },
    {
      "cell_type": "code",
      "execution_count": 217,
      "metadata": {
        "colab": {
          "base_uri": "https://localhost:8080/"
        },
        "id": "pCESFUkPnUXw",
        "outputId": "10e06383-1588-43d2-c6b4-7e84d6240cb3"
      },
      "outputs": [
        {
          "output_type": "execute_result",
          "data": {
            "text/plain": [
              "Date\n",
              "2017-01-01     0.0\n",
              "2017-01-02     0.0\n",
              "2017-01-03     0.0\n",
              "2017-01-04     0.0\n",
              "2017-01-05     0.4\n",
              "              ... \n",
              "2022-06-24     3.5\n",
              "2022-06-25     2.0\n",
              "2022-06-26    10.6\n",
              "2022-06-27     7.6\n",
              "2022-06-28     8.9\n",
              "Name: PrecipitationValue, Length: 1543, dtype: float64"
            ]
          },
          "metadata": {},
          "execution_count": 217
        }
      ],
      "source": [
        "x_precipitation"
      ]
    },
    {
      "cell_type": "code",
      "execution_count": 218,
      "metadata": {
        "colab": {
          "base_uri": "https://localhost:8080/"
        },
        "id": "qaj-VJuC3ZKF",
        "outputId": "9252459a-5e74-4a99-af20-30e95d8d1318"
      },
      "outputs": [
        {
          "output_type": "execute_result",
          "data": {
            "text/plain": [
              "count    1543.000000\n",
              "mean        1.945042\n",
              "std         4.158717\n",
              "min         0.000000\n",
              "25%         0.000000\n",
              "50%         0.100000\n",
              "75%         1.600000\n",
              "max        36.700000\n",
              "Name: PrecipitationValue, dtype: float64"
            ]
          },
          "metadata": {},
          "execution_count": 218
        }
      ],
      "source": [
        "x_precipitation.describe()"
      ]
    },
    {
      "cell_type": "markdown",
      "metadata": {
        "id": "m-Gd-uY7erMX"
      },
      "source": [
        "## Join Datasets"
      ]
    },
    {
      "cell_type": "code",
      "execution_count": 219,
      "metadata": {
        "id": "3lbKS9HIppkH"
      },
      "outputs": [],
      "source": [
        "dataset = pd.merge(pd.merge(pd.merge(pd.merge(x_sun,x_temmin,on='Date'),x_temmax,on='Date'),x_humidity,on='Date'),x_precipitation,on='Date')"
      ]
    },
    {
      "cell_type": "code",
      "execution_count": 220,
      "metadata": {
        "colab": {
          "base_uri": "https://localhost:8080/",
          "height": 300
        },
        "id": "8CA-tbc_ADeG",
        "outputId": "22bc729d-86ee-490c-9c22-4ec2e30069eb"
      },
      "outputs": [
        {
          "output_type": "execute_result",
          "data": {
            "text/plain": [
              "          SunValue  TemMinValue  TemMaxValue  HumidityValue  \\\n",
              "count  1024.000000  1024.000000  1024.000000    1024.000000   \n",
              "mean      0.294662     7.822168    22.635938      52.551758   \n",
              "std       0.177637     2.658818     1.721350      13.172710   \n",
              "min       0.000000    -3.000000    11.800000       9.000000   \n",
              "25%       0.150000     6.150000    21.600000      45.000000   \n",
              "50%       0.278571     8.000000    22.600000      52.000000   \n",
              "75%       0.428571    10.000000    23.800000      59.250000   \n",
              "max       0.735714    13.600000    28.000000     100.000000   \n",
              "\n",
              "       PrecipitationValue  \n",
              "count         1024.000000  \n",
              "mean             1.937598  \n",
              "std              4.276621  \n",
              "min              0.000000  \n",
              "25%              0.000000  \n",
              "50%              0.100000  \n",
              "75%              1.500000  \n",
              "max             36.700000  "
            ],
            "text/html": [
              "\n",
              "  <div id=\"df-68f75832-fd80-4ab5-9924-fa7dafebe908\">\n",
              "    <div class=\"colab-df-container\">\n",
              "      <div>\n",
              "<style scoped>\n",
              "    .dataframe tbody tr th:only-of-type {\n",
              "        vertical-align: middle;\n",
              "    }\n",
              "\n",
              "    .dataframe tbody tr th {\n",
              "        vertical-align: top;\n",
              "    }\n",
              "\n",
              "    .dataframe thead th {\n",
              "        text-align: right;\n",
              "    }\n",
              "</style>\n",
              "<table border=\"1\" class=\"dataframe\">\n",
              "  <thead>\n",
              "    <tr style=\"text-align: right;\">\n",
              "      <th></th>\n",
              "      <th>SunValue</th>\n",
              "      <th>TemMinValue</th>\n",
              "      <th>TemMaxValue</th>\n",
              "      <th>HumidityValue</th>\n",
              "      <th>PrecipitationValue</th>\n",
              "    </tr>\n",
              "  </thead>\n",
              "  <tbody>\n",
              "    <tr>\n",
              "      <th>count</th>\n",
              "      <td>1024.000000</td>\n",
              "      <td>1024.000000</td>\n",
              "      <td>1024.000000</td>\n",
              "      <td>1024.000000</td>\n",
              "      <td>1024.000000</td>\n",
              "    </tr>\n",
              "    <tr>\n",
              "      <th>mean</th>\n",
              "      <td>0.294662</td>\n",
              "      <td>7.822168</td>\n",
              "      <td>22.635938</td>\n",
              "      <td>52.551758</td>\n",
              "      <td>1.937598</td>\n",
              "    </tr>\n",
              "    <tr>\n",
              "      <th>std</th>\n",
              "      <td>0.177637</td>\n",
              "      <td>2.658818</td>\n",
              "      <td>1.721350</td>\n",
              "      <td>13.172710</td>\n",
              "      <td>4.276621</td>\n",
              "    </tr>\n",
              "    <tr>\n",
              "      <th>min</th>\n",
              "      <td>0.000000</td>\n",
              "      <td>-3.000000</td>\n",
              "      <td>11.800000</td>\n",
              "      <td>9.000000</td>\n",
              "      <td>0.000000</td>\n",
              "    </tr>\n",
              "    <tr>\n",
              "      <th>25%</th>\n",
              "      <td>0.150000</td>\n",
              "      <td>6.150000</td>\n",
              "      <td>21.600000</td>\n",
              "      <td>45.000000</td>\n",
              "      <td>0.000000</td>\n",
              "    </tr>\n",
              "    <tr>\n",
              "      <th>50%</th>\n",
              "      <td>0.278571</td>\n",
              "      <td>8.000000</td>\n",
              "      <td>22.600000</td>\n",
              "      <td>52.000000</td>\n",
              "      <td>0.100000</td>\n",
              "    </tr>\n",
              "    <tr>\n",
              "      <th>75%</th>\n",
              "      <td>0.428571</td>\n",
              "      <td>10.000000</td>\n",
              "      <td>23.800000</td>\n",
              "      <td>59.250000</td>\n",
              "      <td>1.500000</td>\n",
              "    </tr>\n",
              "    <tr>\n",
              "      <th>max</th>\n",
              "      <td>0.735714</td>\n",
              "      <td>13.600000</td>\n",
              "      <td>28.000000</td>\n",
              "      <td>100.000000</td>\n",
              "      <td>36.700000</td>\n",
              "    </tr>\n",
              "  </tbody>\n",
              "</table>\n",
              "</div>\n",
              "      <button class=\"colab-df-convert\" onclick=\"convertToInteractive('df-68f75832-fd80-4ab5-9924-fa7dafebe908')\"\n",
              "              title=\"Convert this dataframe to an interactive table.\"\n",
              "              style=\"display:none;\">\n",
              "        \n",
              "  <svg xmlns=\"http://www.w3.org/2000/svg\" height=\"24px\"viewBox=\"0 0 24 24\"\n",
              "       width=\"24px\">\n",
              "    <path d=\"M0 0h24v24H0V0z\" fill=\"none\"/>\n",
              "    <path d=\"M18.56 5.44l.94 2.06.94-2.06 2.06-.94-2.06-.94-.94-2.06-.94 2.06-2.06.94zm-11 1L8.5 8.5l.94-2.06 2.06-.94-2.06-.94L8.5 2.5l-.94 2.06-2.06.94zm10 10l.94 2.06.94-2.06 2.06-.94-2.06-.94-.94-2.06-.94 2.06-2.06.94z\"/><path d=\"M17.41 7.96l-1.37-1.37c-.4-.4-.92-.59-1.43-.59-.52 0-1.04.2-1.43.59L10.3 9.45l-7.72 7.72c-.78.78-.78 2.05 0 2.83L4 21.41c.39.39.9.59 1.41.59.51 0 1.02-.2 1.41-.59l7.78-7.78 2.81-2.81c.8-.78.8-2.07 0-2.86zM5.41 20L4 18.59l7.72-7.72 1.47 1.35L5.41 20z\"/>\n",
              "  </svg>\n",
              "      </button>\n",
              "      \n",
              "  <style>\n",
              "    .colab-df-container {\n",
              "      display:flex;\n",
              "      flex-wrap:wrap;\n",
              "      gap: 12px;\n",
              "    }\n",
              "\n",
              "    .colab-df-convert {\n",
              "      background-color: #E8F0FE;\n",
              "      border: none;\n",
              "      border-radius: 50%;\n",
              "      cursor: pointer;\n",
              "      display: none;\n",
              "      fill: #1967D2;\n",
              "      height: 32px;\n",
              "      padding: 0 0 0 0;\n",
              "      width: 32px;\n",
              "    }\n",
              "\n",
              "    .colab-df-convert:hover {\n",
              "      background-color: #E2EBFA;\n",
              "      box-shadow: 0px 1px 2px rgba(60, 64, 67, 0.3), 0px 1px 3px 1px rgba(60, 64, 67, 0.15);\n",
              "      fill: #174EA6;\n",
              "    }\n",
              "\n",
              "    [theme=dark] .colab-df-convert {\n",
              "      background-color: #3B4455;\n",
              "      fill: #D2E3FC;\n",
              "    }\n",
              "\n",
              "    [theme=dark] .colab-df-convert:hover {\n",
              "      background-color: #434B5C;\n",
              "      box-shadow: 0px 1px 3px 1px rgba(0, 0, 0, 0.15);\n",
              "      filter: drop-shadow(0px 1px 2px rgba(0, 0, 0, 0.3));\n",
              "      fill: #FFFFFF;\n",
              "    }\n",
              "  </style>\n",
              "\n",
              "      <script>\n",
              "        const buttonEl =\n",
              "          document.querySelector('#df-68f75832-fd80-4ab5-9924-fa7dafebe908 button.colab-df-convert');\n",
              "        buttonEl.style.display =\n",
              "          google.colab.kernel.accessAllowed ? 'block' : 'none';\n",
              "\n",
              "        async function convertToInteractive(key) {\n",
              "          const element = document.querySelector('#df-68f75832-fd80-4ab5-9924-fa7dafebe908');\n",
              "          const dataTable =\n",
              "            await google.colab.kernel.invokeFunction('convertToInteractive',\n",
              "                                                     [key], {});\n",
              "          if (!dataTable) return;\n",
              "\n",
              "          const docLinkHtml = 'Like what you see? Visit the ' +\n",
              "            '<a target=\"_blank\" href=https://colab.research.google.com/notebooks/data_table.ipynb>data table notebook</a>'\n",
              "            + ' to learn more about interactive tables.';\n",
              "          element.innerHTML = '';\n",
              "          dataTable['output_type'] = 'display_data';\n",
              "          await google.colab.output.renderOutput(dataTable, element);\n",
              "          const docLink = document.createElement('div');\n",
              "          docLink.innerHTML = docLinkHtml;\n",
              "          element.appendChild(docLink);\n",
              "        }\n",
              "      </script>\n",
              "    </div>\n",
              "  </div>\n",
              "  "
            ]
          },
          "metadata": {},
          "execution_count": 220
        }
      ],
      "source": [
        "dataset.describe()"
      ]
    },
    {
      "cell_type": "markdown",
      "metadata": {
        "id": "1z_Jet0yzNPx"
      },
      "source": [
        "## Export Dataset General"
      ]
    },
    {
      "cell_type": "code",
      "execution_count": 221,
      "metadata": {
        "colab": {
          "base_uri": "https://localhost:8080/"
        },
        "id": "-ghHDrlODsiK",
        "outputId": "c56afec3-0948-47c1-f7b0-9eadf06b6537"
      },
      "outputs": [
        {
          "output_type": "stream",
          "name": "stdout",
          "text": [
            "Requirement already satisfied: netCDF4 in /usr/local/lib/python3.10/dist-packages (1.6.4)\n",
            "Requirement already satisfied: cftime in /usr/local/lib/python3.10/dist-packages (from netCDF4) (1.6.2)\n",
            "Requirement already satisfied: certifi in /usr/local/lib/python3.10/dist-packages (from netCDF4) (2023.5.7)\n",
            "Requirement already satisfied: numpy in /usr/local/lib/python3.10/dist-packages (from netCDF4) (1.22.4)\n"
          ]
        }
      ],
      "source": [
        "!pip install netCDF4"
      ]
    },
    {
      "cell_type": "code",
      "execution_count": 222,
      "metadata": {
        "id": "YuXh4OjZzQh0"
      },
      "outputs": [],
      "source": [
        "import xarray\n",
        "import netCDF4 as nc4\n",
        "\n",
        "dataset_export = dataset\n",
        "dataset_export['latitude']= 5.724998\n",
        "dataset_export['longitude']= -73.125008\n",
        "\n",
        "# convert the 'Date' column to datetime format\n",
        "dataset_export['Date']= pd.to_datetime(dataset_export['Date'])\n",
        "\n",
        "dataset_export.rename(columns = {'Date':'time'}, inplace = True)\n",
        "dataset_export.rename(columns = {'SunValue':'sun'}, inplace = True)\n",
        "dataset_export.rename(columns = {'TemMinValue':'temmin'}, inplace = True)\n",
        "dataset_export.rename(columns = {'TemMaxValue':'temmax'}, inplace = True)\n",
        "dataset_export.rename(columns = {'HumidityValue':'humidity'}, inplace = True)\n",
        "dataset_export.rename(columns = {'PrecipitationValue':'precip'}, inplace = True)\n",
        "\n",
        "# Create xray Dataset from Pandas DataFrame\n",
        "xr = dataset_export.set_index(['time']).to_xarray()\n",
        "\n",
        "# add variable attribute metadata\n",
        "xr['latitude'].attrs={'units':'degrees', 'long_name':'Latitude'}\n",
        "xr['longitude'].attrs={'units':'degrees', 'long_name':'Longitude'}\n",
        "xr['precip'].attrs={'units':'mm/day', 'long_name':'Precipitation'}\n",
        "\n",
        "\n",
        "# add global attribute metadata\n",
        "xr.attrs={'Conventions':'CF-1.6', 'title':'Data IDEAM', 'summary':'Data generated'}\n",
        "\n",
        "# save to netCDF\n",
        "xr.to_netcdf('/content/drive/MyDrive/phd/deployment proyect/phd/Rainfall Prediction UPTC/Data/Stations Boyacá 2022/datos/IDEAM_2017_2021.nc', engine='netcdf4')"
      ]
    },
    {
      "cell_type": "markdown",
      "source": [
        "## Export alone Precipitation: Datos abiertos"
      ],
      "metadata": {
        "id": "J2nttAQ7Je--"
      }
    },
    {
      "cell_type": "code",
      "source": [
        "dataset_export_precip = precipitation_open_data\n",
        "\n",
        "dataset_export_precip.rename(columns = {'Date':'time'}, inplace = True)\n",
        "dataset_export_precip.rename(columns = {'Longitud':'longitude'}, inplace = True)\n",
        "dataset_export_precip.rename(columns = {'Latitud':'latitude'}, inplace = True)\n",
        "dataset_export_precip.rename(columns = {'ValorObservado':'precip'}, inplace = True)\n",
        "\n",
        "# Create xray Dataset from Pandas DataFrame\n",
        "xr = dataset_export.set_index(['time']).to_xarray()\n",
        "\n",
        "# add variable attribute metadata\n",
        "xr['latitude'].attrs={'units':'degrees', 'long_name':'Latitude'}\n",
        "xr['longitude'].attrs={'units':'degrees', 'long_name':'Longitude'}\n",
        "xr['precip'].attrs={'units':'mm/day', 'long_name':'Precipitation'}\n",
        "\n",
        "\n",
        "# add global attribute metadata\n",
        "xr.attrs={'Conventions':'CF-1.6', 'title':'Data IDEAM', 'summary':'Data generated'}\n",
        "\n",
        "# save to netCDF\n",
        "xr.to_netcdf('/content/drive/MyDrive/phd/deployment proyect/phd/Rainfall Prediction UPTC/Data/Stations Boyacá 2022/datos/IDEAM_2017_2021_PRECIP.nc', engine='netcdf4')"
      ],
      "metadata": {
        "id": "NdsORI42Ja8w"
      },
      "execution_count": 223,
      "outputs": []
    },
    {
      "cell_type": "markdown",
      "source": [
        "## Export alone Precipitation: IDEAM"
      ],
      "metadata": {
        "id": "ffnpEf8TM-PK"
      }
    },
    {
      "cell_type": "code",
      "source": [
        "dataset_export_precip_ideam = precipitation\n",
        "\n",
        "dataset_export_precip_ideam.rename(columns = {'Date':'time'}, inplace = True)\n",
        "dataset_export_precip_ideam.rename(columns = {'Longitud':'longitude'}, inplace = True)\n",
        "dataset_export_precip_ideam.rename(columns = {'Latitud':'latitude'}, inplace = True)\n",
        "dataset_export_precip_ideam.rename(columns = {'Valor':'precip'}, inplace = True)\n",
        "\n",
        "# Create xray Dataset from Pandas DataFrame\n",
        "xr = dataset_export.set_index(['time']).to_xarray()\n",
        "\n",
        "# add variable attribute metadata\n",
        "xr['latitude'].attrs={'units':'degrees', 'long_name':'Latitude'}\n",
        "xr['longitude'].attrs={'units':'degrees', 'long_name':'Longitude'}\n",
        "xr['precip'].attrs={'units':'mm/day', 'long_name':'Precipitation'}\n",
        "\n",
        "\n",
        "# add global attribute metadata\n",
        "xr.attrs={'Conventions':'CF-1.6', 'title':'Data IDEAM', 'summary':'Data generated'}\n",
        "\n",
        "# save to netCDF\n",
        "xr.to_netcdf('/content/drive/MyDrive/phd/deployment proyect/phd/Rainfall Prediction UPTC/Data/Stations Boyacá 2022/datos/IDEAM_2017_2021_PRECIP_IDEAM.nc', engine='netcdf4')"
      ],
      "metadata": {
        "id": "KQqLga8hMoqB"
      },
      "execution_count": 224,
      "outputs": []
    },
    {
      "cell_type": "markdown",
      "metadata": {
        "id": "uBFU8HhQ5H5S"
      },
      "source": [
        "## Bulding; Year, Month, Day"
      ]
    },
    {
      "cell_type": "code",
      "source": [
        "dataset"
      ],
      "metadata": {
        "colab": {
          "base_uri": "https://localhost:8080/",
          "height": 424
        },
        "id": "0iO1dLnsWTLd",
        "outputId": "03a7a6c5-8206-44f7-b1d7-c18ced7f1e71"
      },
      "execution_count": 225,
      "outputs": [
        {
          "output_type": "execute_result",
          "data": {
            "text/plain": [
              "           time       sun  temmin  temmax  humidity  precip  latitude  \\\n",
              "0    2017-02-01  0.478571     6.8    26.4        37     0.0  5.724998   \n",
              "1    2017-02-02  0.585714     7.4    22.8        42     0.0  5.724998   \n",
              "2    2017-02-04  0.435714     4.6    24.0        37     0.0  5.724998   \n",
              "3    2017-02-07  0.721429    -0.8    25.4        18     0.1  5.724998   \n",
              "4    2017-02-17  0.578571     0.8    21.4        45     0.1  5.724998   \n",
              "...         ...       ...     ...     ...       ...     ...       ...   \n",
              "1019 2021-07-27  0.228571     7.6    20.4        66     3.8  5.724998   \n",
              "1020 2021-07-28  0.064286    10.8    20.0        62     8.4  5.724998   \n",
              "1021 2021-07-29  0.000000    10.4    22.0        54     0.1  5.724998   \n",
              "1022 2021-07-30  0.207143     9.2    19.6        53     0.0  5.724998   \n",
              "1023 2021-07-31  0.557143     7.0    23.0        46     0.1  5.724998   \n",
              "\n",
              "      longitude  \n",
              "0    -73.125008  \n",
              "1    -73.125008  \n",
              "2    -73.125008  \n",
              "3    -73.125008  \n",
              "4    -73.125008  \n",
              "...         ...  \n",
              "1019 -73.125008  \n",
              "1020 -73.125008  \n",
              "1021 -73.125008  \n",
              "1022 -73.125008  \n",
              "1023 -73.125008  \n",
              "\n",
              "[1024 rows x 8 columns]"
            ],
            "text/html": [
              "\n",
              "  <div id=\"df-799713a2-7b2c-40a7-b689-2a4ab56b29f3\">\n",
              "    <div class=\"colab-df-container\">\n",
              "      <div>\n",
              "<style scoped>\n",
              "    .dataframe tbody tr th:only-of-type {\n",
              "        vertical-align: middle;\n",
              "    }\n",
              "\n",
              "    .dataframe tbody tr th {\n",
              "        vertical-align: top;\n",
              "    }\n",
              "\n",
              "    .dataframe thead th {\n",
              "        text-align: right;\n",
              "    }\n",
              "</style>\n",
              "<table border=\"1\" class=\"dataframe\">\n",
              "  <thead>\n",
              "    <tr style=\"text-align: right;\">\n",
              "      <th></th>\n",
              "      <th>time</th>\n",
              "      <th>sun</th>\n",
              "      <th>temmin</th>\n",
              "      <th>temmax</th>\n",
              "      <th>humidity</th>\n",
              "      <th>precip</th>\n",
              "      <th>latitude</th>\n",
              "      <th>longitude</th>\n",
              "    </tr>\n",
              "  </thead>\n",
              "  <tbody>\n",
              "    <tr>\n",
              "      <th>0</th>\n",
              "      <td>2017-02-01</td>\n",
              "      <td>0.478571</td>\n",
              "      <td>6.8</td>\n",
              "      <td>26.4</td>\n",
              "      <td>37</td>\n",
              "      <td>0.0</td>\n",
              "      <td>5.724998</td>\n",
              "      <td>-73.125008</td>\n",
              "    </tr>\n",
              "    <tr>\n",
              "      <th>1</th>\n",
              "      <td>2017-02-02</td>\n",
              "      <td>0.585714</td>\n",
              "      <td>7.4</td>\n",
              "      <td>22.8</td>\n",
              "      <td>42</td>\n",
              "      <td>0.0</td>\n",
              "      <td>5.724998</td>\n",
              "      <td>-73.125008</td>\n",
              "    </tr>\n",
              "    <tr>\n",
              "      <th>2</th>\n",
              "      <td>2017-02-04</td>\n",
              "      <td>0.435714</td>\n",
              "      <td>4.6</td>\n",
              "      <td>24.0</td>\n",
              "      <td>37</td>\n",
              "      <td>0.0</td>\n",
              "      <td>5.724998</td>\n",
              "      <td>-73.125008</td>\n",
              "    </tr>\n",
              "    <tr>\n",
              "      <th>3</th>\n",
              "      <td>2017-02-07</td>\n",
              "      <td>0.721429</td>\n",
              "      <td>-0.8</td>\n",
              "      <td>25.4</td>\n",
              "      <td>18</td>\n",
              "      <td>0.1</td>\n",
              "      <td>5.724998</td>\n",
              "      <td>-73.125008</td>\n",
              "    </tr>\n",
              "    <tr>\n",
              "      <th>4</th>\n",
              "      <td>2017-02-17</td>\n",
              "      <td>0.578571</td>\n",
              "      <td>0.8</td>\n",
              "      <td>21.4</td>\n",
              "      <td>45</td>\n",
              "      <td>0.1</td>\n",
              "      <td>5.724998</td>\n",
              "      <td>-73.125008</td>\n",
              "    </tr>\n",
              "    <tr>\n",
              "      <th>...</th>\n",
              "      <td>...</td>\n",
              "      <td>...</td>\n",
              "      <td>...</td>\n",
              "      <td>...</td>\n",
              "      <td>...</td>\n",
              "      <td>...</td>\n",
              "      <td>...</td>\n",
              "      <td>...</td>\n",
              "    </tr>\n",
              "    <tr>\n",
              "      <th>1019</th>\n",
              "      <td>2021-07-27</td>\n",
              "      <td>0.228571</td>\n",
              "      <td>7.6</td>\n",
              "      <td>20.4</td>\n",
              "      <td>66</td>\n",
              "      <td>3.8</td>\n",
              "      <td>5.724998</td>\n",
              "      <td>-73.125008</td>\n",
              "    </tr>\n",
              "    <tr>\n",
              "      <th>1020</th>\n",
              "      <td>2021-07-28</td>\n",
              "      <td>0.064286</td>\n",
              "      <td>10.8</td>\n",
              "      <td>20.0</td>\n",
              "      <td>62</td>\n",
              "      <td>8.4</td>\n",
              "      <td>5.724998</td>\n",
              "      <td>-73.125008</td>\n",
              "    </tr>\n",
              "    <tr>\n",
              "      <th>1021</th>\n",
              "      <td>2021-07-29</td>\n",
              "      <td>0.000000</td>\n",
              "      <td>10.4</td>\n",
              "      <td>22.0</td>\n",
              "      <td>54</td>\n",
              "      <td>0.1</td>\n",
              "      <td>5.724998</td>\n",
              "      <td>-73.125008</td>\n",
              "    </tr>\n",
              "    <tr>\n",
              "      <th>1022</th>\n",
              "      <td>2021-07-30</td>\n",
              "      <td>0.207143</td>\n",
              "      <td>9.2</td>\n",
              "      <td>19.6</td>\n",
              "      <td>53</td>\n",
              "      <td>0.0</td>\n",
              "      <td>5.724998</td>\n",
              "      <td>-73.125008</td>\n",
              "    </tr>\n",
              "    <tr>\n",
              "      <th>1023</th>\n",
              "      <td>2021-07-31</td>\n",
              "      <td>0.557143</td>\n",
              "      <td>7.0</td>\n",
              "      <td>23.0</td>\n",
              "      <td>46</td>\n",
              "      <td>0.1</td>\n",
              "      <td>5.724998</td>\n",
              "      <td>-73.125008</td>\n",
              "    </tr>\n",
              "  </tbody>\n",
              "</table>\n",
              "<p>1024 rows × 8 columns</p>\n",
              "</div>\n",
              "      <button class=\"colab-df-convert\" onclick=\"convertToInteractive('df-799713a2-7b2c-40a7-b689-2a4ab56b29f3')\"\n",
              "              title=\"Convert this dataframe to an interactive table.\"\n",
              "              style=\"display:none;\">\n",
              "        \n",
              "  <svg xmlns=\"http://www.w3.org/2000/svg\" height=\"24px\"viewBox=\"0 0 24 24\"\n",
              "       width=\"24px\">\n",
              "    <path d=\"M0 0h24v24H0V0z\" fill=\"none\"/>\n",
              "    <path d=\"M18.56 5.44l.94 2.06.94-2.06 2.06-.94-2.06-.94-.94-2.06-.94 2.06-2.06.94zm-11 1L8.5 8.5l.94-2.06 2.06-.94-2.06-.94L8.5 2.5l-.94 2.06-2.06.94zm10 10l.94 2.06.94-2.06 2.06-.94-2.06-.94-.94-2.06-.94 2.06-2.06.94z\"/><path d=\"M17.41 7.96l-1.37-1.37c-.4-.4-.92-.59-1.43-.59-.52 0-1.04.2-1.43.59L10.3 9.45l-7.72 7.72c-.78.78-.78 2.05 0 2.83L4 21.41c.39.39.9.59 1.41.59.51 0 1.02-.2 1.41-.59l7.78-7.78 2.81-2.81c.8-.78.8-2.07 0-2.86zM5.41 20L4 18.59l7.72-7.72 1.47 1.35L5.41 20z\"/>\n",
              "  </svg>\n",
              "      </button>\n",
              "      \n",
              "  <style>\n",
              "    .colab-df-container {\n",
              "      display:flex;\n",
              "      flex-wrap:wrap;\n",
              "      gap: 12px;\n",
              "    }\n",
              "\n",
              "    .colab-df-convert {\n",
              "      background-color: #E8F0FE;\n",
              "      border: none;\n",
              "      border-radius: 50%;\n",
              "      cursor: pointer;\n",
              "      display: none;\n",
              "      fill: #1967D2;\n",
              "      height: 32px;\n",
              "      padding: 0 0 0 0;\n",
              "      width: 32px;\n",
              "    }\n",
              "\n",
              "    .colab-df-convert:hover {\n",
              "      background-color: #E2EBFA;\n",
              "      box-shadow: 0px 1px 2px rgba(60, 64, 67, 0.3), 0px 1px 3px 1px rgba(60, 64, 67, 0.15);\n",
              "      fill: #174EA6;\n",
              "    }\n",
              "\n",
              "    [theme=dark] .colab-df-convert {\n",
              "      background-color: #3B4455;\n",
              "      fill: #D2E3FC;\n",
              "    }\n",
              "\n",
              "    [theme=dark] .colab-df-convert:hover {\n",
              "      background-color: #434B5C;\n",
              "      box-shadow: 0px 1px 3px 1px rgba(0, 0, 0, 0.15);\n",
              "      filter: drop-shadow(0px 1px 2px rgba(0, 0, 0, 0.3));\n",
              "      fill: #FFFFFF;\n",
              "    }\n",
              "  </style>\n",
              "\n",
              "      <script>\n",
              "        const buttonEl =\n",
              "          document.querySelector('#df-799713a2-7b2c-40a7-b689-2a4ab56b29f3 button.colab-df-convert');\n",
              "        buttonEl.style.display =\n",
              "          google.colab.kernel.accessAllowed ? 'block' : 'none';\n",
              "\n",
              "        async function convertToInteractive(key) {\n",
              "          const element = document.querySelector('#df-799713a2-7b2c-40a7-b689-2a4ab56b29f3');\n",
              "          const dataTable =\n",
              "            await google.colab.kernel.invokeFunction('convertToInteractive',\n",
              "                                                     [key], {});\n",
              "          if (!dataTable) return;\n",
              "\n",
              "          const docLinkHtml = 'Like what you see? Visit the ' +\n",
              "            '<a target=\"_blank\" href=https://colab.research.google.com/notebooks/data_table.ipynb>data table notebook</a>'\n",
              "            + ' to learn more about interactive tables.';\n",
              "          element.innerHTML = '';\n",
              "          dataTable['output_type'] = 'display_data';\n",
              "          await google.colab.output.renderOutput(dataTable, element);\n",
              "          const docLink = document.createElement('div');\n",
              "          docLink.innerHTML = docLinkHtml;\n",
              "          element.appendChild(docLink);\n",
              "        }\n",
              "      </script>\n",
              "    </div>\n",
              "  </div>\n",
              "  "
            ]
          },
          "metadata": {},
          "execution_count": 225
        }
      ]
    },
    {
      "cell_type": "code",
      "execution_count": 226,
      "metadata": {
        "id": "QSM31mkXDND5"
      },
      "outputs": [],
      "source": [
        "dataset['year'] = pd.DatetimeIndex(dataset['time']).year\n",
        "dataset['month'] = pd.DatetimeIndex(dataset['time']).month\n",
        "dataset['day'] = pd.DatetimeIndex(dataset['time']).day"
      ]
    },
    {
      "cell_type": "code",
      "execution_count": 227,
      "metadata": {
        "id": "2_RN5C2ZDorP"
      },
      "outputs": [],
      "source": [
        "x = dataset[['year', 'month', 'day', 'temmax', 'temmin', 'humidity', 'sun']]\n",
        "x_MLR = dataset[['year', 'month', 'day', 'temmax', 'temmin', 'humidity', 'sun']]\n",
        "x_RF = dataset[['year', 'month', 'day', 'temmax', 'temmin', 'humidity', 'sun']]\n",
        "x_XGB = dataset[['year', 'month', 'day', 'temmax', 'temmin', 'humidity', 'sun']]\n",
        "x_MLP = dataset[['year', 'month', 'day', 'temmax', 'temmin', 'humidity', 'sun']]\n",
        "y = dataset[['precip']]"
      ]
    },
    {
      "cell_type": "code",
      "execution_count": 228,
      "metadata": {
        "colab": {
          "base_uri": "https://localhost:8080/",
          "height": 424
        },
        "id": "8Lcys3C4Eek3",
        "outputId": "6eedccac-aef1-4c45-882d-88e7fcf23337"
      },
      "outputs": [
        {
          "output_type": "execute_result",
          "data": {
            "text/plain": [
              "      year  month  day  temmax  temmin  humidity       sun\n",
              "0     2017      2    1    26.4     6.8        37  0.478571\n",
              "1     2017      2    2    22.8     7.4        42  0.585714\n",
              "2     2017      2    4    24.0     4.6        37  0.435714\n",
              "3     2017      2    7    25.4    -0.8        18  0.721429\n",
              "4     2017      2   17    21.4     0.8        45  0.578571\n",
              "...    ...    ...  ...     ...     ...       ...       ...\n",
              "1019  2021      7   27    20.4     7.6        66  0.228571\n",
              "1020  2021      7   28    20.0    10.8        62  0.064286\n",
              "1021  2021      7   29    22.0    10.4        54  0.000000\n",
              "1022  2021      7   30    19.6     9.2        53  0.207143\n",
              "1023  2021      7   31    23.0     7.0        46  0.557143\n",
              "\n",
              "[1024 rows x 7 columns]"
            ],
            "text/html": [
              "\n",
              "  <div id=\"df-827c3a25-34d1-4594-8e3f-14251d60f8b4\">\n",
              "    <div class=\"colab-df-container\">\n",
              "      <div>\n",
              "<style scoped>\n",
              "    .dataframe tbody tr th:only-of-type {\n",
              "        vertical-align: middle;\n",
              "    }\n",
              "\n",
              "    .dataframe tbody tr th {\n",
              "        vertical-align: top;\n",
              "    }\n",
              "\n",
              "    .dataframe thead th {\n",
              "        text-align: right;\n",
              "    }\n",
              "</style>\n",
              "<table border=\"1\" class=\"dataframe\">\n",
              "  <thead>\n",
              "    <tr style=\"text-align: right;\">\n",
              "      <th></th>\n",
              "      <th>year</th>\n",
              "      <th>month</th>\n",
              "      <th>day</th>\n",
              "      <th>temmax</th>\n",
              "      <th>temmin</th>\n",
              "      <th>humidity</th>\n",
              "      <th>sun</th>\n",
              "    </tr>\n",
              "  </thead>\n",
              "  <tbody>\n",
              "    <tr>\n",
              "      <th>0</th>\n",
              "      <td>2017</td>\n",
              "      <td>2</td>\n",
              "      <td>1</td>\n",
              "      <td>26.4</td>\n",
              "      <td>6.8</td>\n",
              "      <td>37</td>\n",
              "      <td>0.478571</td>\n",
              "    </tr>\n",
              "    <tr>\n",
              "      <th>1</th>\n",
              "      <td>2017</td>\n",
              "      <td>2</td>\n",
              "      <td>2</td>\n",
              "      <td>22.8</td>\n",
              "      <td>7.4</td>\n",
              "      <td>42</td>\n",
              "      <td>0.585714</td>\n",
              "    </tr>\n",
              "    <tr>\n",
              "      <th>2</th>\n",
              "      <td>2017</td>\n",
              "      <td>2</td>\n",
              "      <td>4</td>\n",
              "      <td>24.0</td>\n",
              "      <td>4.6</td>\n",
              "      <td>37</td>\n",
              "      <td>0.435714</td>\n",
              "    </tr>\n",
              "    <tr>\n",
              "      <th>3</th>\n",
              "      <td>2017</td>\n",
              "      <td>2</td>\n",
              "      <td>7</td>\n",
              "      <td>25.4</td>\n",
              "      <td>-0.8</td>\n",
              "      <td>18</td>\n",
              "      <td>0.721429</td>\n",
              "    </tr>\n",
              "    <tr>\n",
              "      <th>4</th>\n",
              "      <td>2017</td>\n",
              "      <td>2</td>\n",
              "      <td>17</td>\n",
              "      <td>21.4</td>\n",
              "      <td>0.8</td>\n",
              "      <td>45</td>\n",
              "      <td>0.578571</td>\n",
              "    </tr>\n",
              "    <tr>\n",
              "      <th>...</th>\n",
              "      <td>...</td>\n",
              "      <td>...</td>\n",
              "      <td>...</td>\n",
              "      <td>...</td>\n",
              "      <td>...</td>\n",
              "      <td>...</td>\n",
              "      <td>...</td>\n",
              "    </tr>\n",
              "    <tr>\n",
              "      <th>1019</th>\n",
              "      <td>2021</td>\n",
              "      <td>7</td>\n",
              "      <td>27</td>\n",
              "      <td>20.4</td>\n",
              "      <td>7.6</td>\n",
              "      <td>66</td>\n",
              "      <td>0.228571</td>\n",
              "    </tr>\n",
              "    <tr>\n",
              "      <th>1020</th>\n",
              "      <td>2021</td>\n",
              "      <td>7</td>\n",
              "      <td>28</td>\n",
              "      <td>20.0</td>\n",
              "      <td>10.8</td>\n",
              "      <td>62</td>\n",
              "      <td>0.064286</td>\n",
              "    </tr>\n",
              "    <tr>\n",
              "      <th>1021</th>\n",
              "      <td>2021</td>\n",
              "      <td>7</td>\n",
              "      <td>29</td>\n",
              "      <td>22.0</td>\n",
              "      <td>10.4</td>\n",
              "      <td>54</td>\n",
              "      <td>0.000000</td>\n",
              "    </tr>\n",
              "    <tr>\n",
              "      <th>1022</th>\n",
              "      <td>2021</td>\n",
              "      <td>7</td>\n",
              "      <td>30</td>\n",
              "      <td>19.6</td>\n",
              "      <td>9.2</td>\n",
              "      <td>53</td>\n",
              "      <td>0.207143</td>\n",
              "    </tr>\n",
              "    <tr>\n",
              "      <th>1023</th>\n",
              "      <td>2021</td>\n",
              "      <td>7</td>\n",
              "      <td>31</td>\n",
              "      <td>23.0</td>\n",
              "      <td>7.0</td>\n",
              "      <td>46</td>\n",
              "      <td>0.557143</td>\n",
              "    </tr>\n",
              "  </tbody>\n",
              "</table>\n",
              "<p>1024 rows × 7 columns</p>\n",
              "</div>\n",
              "      <button class=\"colab-df-convert\" onclick=\"convertToInteractive('df-827c3a25-34d1-4594-8e3f-14251d60f8b4')\"\n",
              "              title=\"Convert this dataframe to an interactive table.\"\n",
              "              style=\"display:none;\">\n",
              "        \n",
              "  <svg xmlns=\"http://www.w3.org/2000/svg\" height=\"24px\"viewBox=\"0 0 24 24\"\n",
              "       width=\"24px\">\n",
              "    <path d=\"M0 0h24v24H0V0z\" fill=\"none\"/>\n",
              "    <path d=\"M18.56 5.44l.94 2.06.94-2.06 2.06-.94-2.06-.94-.94-2.06-.94 2.06-2.06.94zm-11 1L8.5 8.5l.94-2.06 2.06-.94-2.06-.94L8.5 2.5l-.94 2.06-2.06.94zm10 10l.94 2.06.94-2.06 2.06-.94-2.06-.94-.94-2.06-.94 2.06-2.06.94z\"/><path d=\"M17.41 7.96l-1.37-1.37c-.4-.4-.92-.59-1.43-.59-.52 0-1.04.2-1.43.59L10.3 9.45l-7.72 7.72c-.78.78-.78 2.05 0 2.83L4 21.41c.39.39.9.59 1.41.59.51 0 1.02-.2 1.41-.59l7.78-7.78 2.81-2.81c.8-.78.8-2.07 0-2.86zM5.41 20L4 18.59l7.72-7.72 1.47 1.35L5.41 20z\"/>\n",
              "  </svg>\n",
              "      </button>\n",
              "      \n",
              "  <style>\n",
              "    .colab-df-container {\n",
              "      display:flex;\n",
              "      flex-wrap:wrap;\n",
              "      gap: 12px;\n",
              "    }\n",
              "\n",
              "    .colab-df-convert {\n",
              "      background-color: #E8F0FE;\n",
              "      border: none;\n",
              "      border-radius: 50%;\n",
              "      cursor: pointer;\n",
              "      display: none;\n",
              "      fill: #1967D2;\n",
              "      height: 32px;\n",
              "      padding: 0 0 0 0;\n",
              "      width: 32px;\n",
              "    }\n",
              "\n",
              "    .colab-df-convert:hover {\n",
              "      background-color: #E2EBFA;\n",
              "      box-shadow: 0px 1px 2px rgba(60, 64, 67, 0.3), 0px 1px 3px 1px rgba(60, 64, 67, 0.15);\n",
              "      fill: #174EA6;\n",
              "    }\n",
              "\n",
              "    [theme=dark] .colab-df-convert {\n",
              "      background-color: #3B4455;\n",
              "      fill: #D2E3FC;\n",
              "    }\n",
              "\n",
              "    [theme=dark] .colab-df-convert:hover {\n",
              "      background-color: #434B5C;\n",
              "      box-shadow: 0px 1px 3px 1px rgba(0, 0, 0, 0.15);\n",
              "      filter: drop-shadow(0px 1px 2px rgba(0, 0, 0, 0.3));\n",
              "      fill: #FFFFFF;\n",
              "    }\n",
              "  </style>\n",
              "\n",
              "      <script>\n",
              "        const buttonEl =\n",
              "          document.querySelector('#df-827c3a25-34d1-4594-8e3f-14251d60f8b4 button.colab-df-convert');\n",
              "        buttonEl.style.display =\n",
              "          google.colab.kernel.accessAllowed ? 'block' : 'none';\n",
              "\n",
              "        async function convertToInteractive(key) {\n",
              "          const element = document.querySelector('#df-827c3a25-34d1-4594-8e3f-14251d60f8b4');\n",
              "          const dataTable =\n",
              "            await google.colab.kernel.invokeFunction('convertToInteractive',\n",
              "                                                     [key], {});\n",
              "          if (!dataTable) return;\n",
              "\n",
              "          const docLinkHtml = 'Like what you see? Visit the ' +\n",
              "            '<a target=\"_blank\" href=https://colab.research.google.com/notebooks/data_table.ipynb>data table notebook</a>'\n",
              "            + ' to learn more about interactive tables.';\n",
              "          element.innerHTML = '';\n",
              "          dataTable['output_type'] = 'display_data';\n",
              "          await google.colab.output.renderOutput(dataTable, element);\n",
              "          const docLink = document.createElement('div');\n",
              "          docLink.innerHTML = docLinkHtml;\n",
              "          element.appendChild(docLink);\n",
              "        }\n",
              "      </script>\n",
              "    </div>\n",
              "  </div>\n",
              "  "
            ]
          },
          "metadata": {},
          "execution_count": 228
        }
      ],
      "source": [
        "x"
      ]
    },
    {
      "cell_type": "code",
      "execution_count": 229,
      "metadata": {
        "colab": {
          "base_uri": "https://localhost:8080/",
          "height": 424
        },
        "id": "I4dBg9vEEh_8",
        "outputId": "9d543054-f2d3-4640-cbac-fa599e7c17f7"
      },
      "outputs": [
        {
          "output_type": "execute_result",
          "data": {
            "text/plain": [
              "      precip\n",
              "0        0.0\n",
              "1        0.0\n",
              "2        0.0\n",
              "3        0.1\n",
              "4        0.1\n",
              "...      ...\n",
              "1019     3.8\n",
              "1020     8.4\n",
              "1021     0.1\n",
              "1022     0.0\n",
              "1023     0.1\n",
              "\n",
              "[1024 rows x 1 columns]"
            ],
            "text/html": [
              "\n",
              "  <div id=\"df-abb23429-a051-4e2c-ae06-d01f038429b7\">\n",
              "    <div class=\"colab-df-container\">\n",
              "      <div>\n",
              "<style scoped>\n",
              "    .dataframe tbody tr th:only-of-type {\n",
              "        vertical-align: middle;\n",
              "    }\n",
              "\n",
              "    .dataframe tbody tr th {\n",
              "        vertical-align: top;\n",
              "    }\n",
              "\n",
              "    .dataframe thead th {\n",
              "        text-align: right;\n",
              "    }\n",
              "</style>\n",
              "<table border=\"1\" class=\"dataframe\">\n",
              "  <thead>\n",
              "    <tr style=\"text-align: right;\">\n",
              "      <th></th>\n",
              "      <th>precip</th>\n",
              "    </tr>\n",
              "  </thead>\n",
              "  <tbody>\n",
              "    <tr>\n",
              "      <th>0</th>\n",
              "      <td>0.0</td>\n",
              "    </tr>\n",
              "    <tr>\n",
              "      <th>1</th>\n",
              "      <td>0.0</td>\n",
              "    </tr>\n",
              "    <tr>\n",
              "      <th>2</th>\n",
              "      <td>0.0</td>\n",
              "    </tr>\n",
              "    <tr>\n",
              "      <th>3</th>\n",
              "      <td>0.1</td>\n",
              "    </tr>\n",
              "    <tr>\n",
              "      <th>4</th>\n",
              "      <td>0.1</td>\n",
              "    </tr>\n",
              "    <tr>\n",
              "      <th>...</th>\n",
              "      <td>...</td>\n",
              "    </tr>\n",
              "    <tr>\n",
              "      <th>1019</th>\n",
              "      <td>3.8</td>\n",
              "    </tr>\n",
              "    <tr>\n",
              "      <th>1020</th>\n",
              "      <td>8.4</td>\n",
              "    </tr>\n",
              "    <tr>\n",
              "      <th>1021</th>\n",
              "      <td>0.1</td>\n",
              "    </tr>\n",
              "    <tr>\n",
              "      <th>1022</th>\n",
              "      <td>0.0</td>\n",
              "    </tr>\n",
              "    <tr>\n",
              "      <th>1023</th>\n",
              "      <td>0.1</td>\n",
              "    </tr>\n",
              "  </tbody>\n",
              "</table>\n",
              "<p>1024 rows × 1 columns</p>\n",
              "</div>\n",
              "      <button class=\"colab-df-convert\" onclick=\"convertToInteractive('df-abb23429-a051-4e2c-ae06-d01f038429b7')\"\n",
              "              title=\"Convert this dataframe to an interactive table.\"\n",
              "              style=\"display:none;\">\n",
              "        \n",
              "  <svg xmlns=\"http://www.w3.org/2000/svg\" height=\"24px\"viewBox=\"0 0 24 24\"\n",
              "       width=\"24px\">\n",
              "    <path d=\"M0 0h24v24H0V0z\" fill=\"none\"/>\n",
              "    <path d=\"M18.56 5.44l.94 2.06.94-2.06 2.06-.94-2.06-.94-.94-2.06-.94 2.06-2.06.94zm-11 1L8.5 8.5l.94-2.06 2.06-.94-2.06-.94L8.5 2.5l-.94 2.06-2.06.94zm10 10l.94 2.06.94-2.06 2.06-.94-2.06-.94-.94-2.06-.94 2.06-2.06.94z\"/><path d=\"M17.41 7.96l-1.37-1.37c-.4-.4-.92-.59-1.43-.59-.52 0-1.04.2-1.43.59L10.3 9.45l-7.72 7.72c-.78.78-.78 2.05 0 2.83L4 21.41c.39.39.9.59 1.41.59.51 0 1.02-.2 1.41-.59l7.78-7.78 2.81-2.81c.8-.78.8-2.07 0-2.86zM5.41 20L4 18.59l7.72-7.72 1.47 1.35L5.41 20z\"/>\n",
              "  </svg>\n",
              "      </button>\n",
              "      \n",
              "  <style>\n",
              "    .colab-df-container {\n",
              "      display:flex;\n",
              "      flex-wrap:wrap;\n",
              "      gap: 12px;\n",
              "    }\n",
              "\n",
              "    .colab-df-convert {\n",
              "      background-color: #E8F0FE;\n",
              "      border: none;\n",
              "      border-radius: 50%;\n",
              "      cursor: pointer;\n",
              "      display: none;\n",
              "      fill: #1967D2;\n",
              "      height: 32px;\n",
              "      padding: 0 0 0 0;\n",
              "      width: 32px;\n",
              "    }\n",
              "\n",
              "    .colab-df-convert:hover {\n",
              "      background-color: #E2EBFA;\n",
              "      box-shadow: 0px 1px 2px rgba(60, 64, 67, 0.3), 0px 1px 3px 1px rgba(60, 64, 67, 0.15);\n",
              "      fill: #174EA6;\n",
              "    }\n",
              "\n",
              "    [theme=dark] .colab-df-convert {\n",
              "      background-color: #3B4455;\n",
              "      fill: #D2E3FC;\n",
              "    }\n",
              "\n",
              "    [theme=dark] .colab-df-convert:hover {\n",
              "      background-color: #434B5C;\n",
              "      box-shadow: 0px 1px 3px 1px rgba(0, 0, 0, 0.15);\n",
              "      filter: drop-shadow(0px 1px 2px rgba(0, 0, 0, 0.3));\n",
              "      fill: #FFFFFF;\n",
              "    }\n",
              "  </style>\n",
              "\n",
              "      <script>\n",
              "        const buttonEl =\n",
              "          document.querySelector('#df-abb23429-a051-4e2c-ae06-d01f038429b7 button.colab-df-convert');\n",
              "        buttonEl.style.display =\n",
              "          google.colab.kernel.accessAllowed ? 'block' : 'none';\n",
              "\n",
              "        async function convertToInteractive(key) {\n",
              "          const element = document.querySelector('#df-abb23429-a051-4e2c-ae06-d01f038429b7');\n",
              "          const dataTable =\n",
              "            await google.colab.kernel.invokeFunction('convertToInteractive',\n",
              "                                                     [key], {});\n",
              "          if (!dataTable) return;\n",
              "\n",
              "          const docLinkHtml = 'Like what you see? Visit the ' +\n",
              "            '<a target=\"_blank\" href=https://colab.research.google.com/notebooks/data_table.ipynb>data table notebook</a>'\n",
              "            + ' to learn more about interactive tables.';\n",
              "          element.innerHTML = '';\n",
              "          dataTable['output_type'] = 'display_data';\n",
              "          await google.colab.output.renderOutput(dataTable, element);\n",
              "          const docLink = document.createElement('div');\n",
              "          docLink.innerHTML = docLinkHtml;\n",
              "          element.appendChild(docLink);\n",
              "        }\n",
              "      </script>\n",
              "    </div>\n",
              "  </div>\n",
              "  "
            ]
          },
          "metadata": {},
          "execution_count": 229
        }
      ],
      "source": [
        "y"
      ]
    },
    {
      "cell_type": "code",
      "execution_count": 230,
      "metadata": {
        "colab": {
          "base_uri": "https://localhost:8080/",
          "height": 300
        },
        "id": "PH82GcUimGjN",
        "outputId": "90668f68-dc12-48df-a768-715160627ecd"
      },
      "outputs": [
        {
          "output_type": "execute_result",
          "data": {
            "text/plain": [
              "            precip\n",
              "count  1024.000000\n",
              "mean      1.937598\n",
              "std       4.276621\n",
              "min       0.000000\n",
              "25%       0.000000\n",
              "50%       0.100000\n",
              "75%       1.500000\n",
              "max      36.700000"
            ],
            "text/html": [
              "\n",
              "  <div id=\"df-cfc7f61f-4dd6-4bca-bc3d-4adc9853df56\">\n",
              "    <div class=\"colab-df-container\">\n",
              "      <div>\n",
              "<style scoped>\n",
              "    .dataframe tbody tr th:only-of-type {\n",
              "        vertical-align: middle;\n",
              "    }\n",
              "\n",
              "    .dataframe tbody tr th {\n",
              "        vertical-align: top;\n",
              "    }\n",
              "\n",
              "    .dataframe thead th {\n",
              "        text-align: right;\n",
              "    }\n",
              "</style>\n",
              "<table border=\"1\" class=\"dataframe\">\n",
              "  <thead>\n",
              "    <tr style=\"text-align: right;\">\n",
              "      <th></th>\n",
              "      <th>precip</th>\n",
              "    </tr>\n",
              "  </thead>\n",
              "  <tbody>\n",
              "    <tr>\n",
              "      <th>count</th>\n",
              "      <td>1024.000000</td>\n",
              "    </tr>\n",
              "    <tr>\n",
              "      <th>mean</th>\n",
              "      <td>1.937598</td>\n",
              "    </tr>\n",
              "    <tr>\n",
              "      <th>std</th>\n",
              "      <td>4.276621</td>\n",
              "    </tr>\n",
              "    <tr>\n",
              "      <th>min</th>\n",
              "      <td>0.000000</td>\n",
              "    </tr>\n",
              "    <tr>\n",
              "      <th>25%</th>\n",
              "      <td>0.000000</td>\n",
              "    </tr>\n",
              "    <tr>\n",
              "      <th>50%</th>\n",
              "      <td>0.100000</td>\n",
              "    </tr>\n",
              "    <tr>\n",
              "      <th>75%</th>\n",
              "      <td>1.500000</td>\n",
              "    </tr>\n",
              "    <tr>\n",
              "      <th>max</th>\n",
              "      <td>36.700000</td>\n",
              "    </tr>\n",
              "  </tbody>\n",
              "</table>\n",
              "</div>\n",
              "      <button class=\"colab-df-convert\" onclick=\"convertToInteractive('df-cfc7f61f-4dd6-4bca-bc3d-4adc9853df56')\"\n",
              "              title=\"Convert this dataframe to an interactive table.\"\n",
              "              style=\"display:none;\">\n",
              "        \n",
              "  <svg xmlns=\"http://www.w3.org/2000/svg\" height=\"24px\"viewBox=\"0 0 24 24\"\n",
              "       width=\"24px\">\n",
              "    <path d=\"M0 0h24v24H0V0z\" fill=\"none\"/>\n",
              "    <path d=\"M18.56 5.44l.94 2.06.94-2.06 2.06-.94-2.06-.94-.94-2.06-.94 2.06-2.06.94zm-11 1L8.5 8.5l.94-2.06 2.06-.94-2.06-.94L8.5 2.5l-.94 2.06-2.06.94zm10 10l.94 2.06.94-2.06 2.06-.94-2.06-.94-.94-2.06-.94 2.06-2.06.94z\"/><path d=\"M17.41 7.96l-1.37-1.37c-.4-.4-.92-.59-1.43-.59-.52 0-1.04.2-1.43.59L10.3 9.45l-7.72 7.72c-.78.78-.78 2.05 0 2.83L4 21.41c.39.39.9.59 1.41.59.51 0 1.02-.2 1.41-.59l7.78-7.78 2.81-2.81c.8-.78.8-2.07 0-2.86zM5.41 20L4 18.59l7.72-7.72 1.47 1.35L5.41 20z\"/>\n",
              "  </svg>\n",
              "      </button>\n",
              "      \n",
              "  <style>\n",
              "    .colab-df-container {\n",
              "      display:flex;\n",
              "      flex-wrap:wrap;\n",
              "      gap: 12px;\n",
              "    }\n",
              "\n",
              "    .colab-df-convert {\n",
              "      background-color: #E8F0FE;\n",
              "      border: none;\n",
              "      border-radius: 50%;\n",
              "      cursor: pointer;\n",
              "      display: none;\n",
              "      fill: #1967D2;\n",
              "      height: 32px;\n",
              "      padding: 0 0 0 0;\n",
              "      width: 32px;\n",
              "    }\n",
              "\n",
              "    .colab-df-convert:hover {\n",
              "      background-color: #E2EBFA;\n",
              "      box-shadow: 0px 1px 2px rgba(60, 64, 67, 0.3), 0px 1px 3px 1px rgba(60, 64, 67, 0.15);\n",
              "      fill: #174EA6;\n",
              "    }\n",
              "\n",
              "    [theme=dark] .colab-df-convert {\n",
              "      background-color: #3B4455;\n",
              "      fill: #D2E3FC;\n",
              "    }\n",
              "\n",
              "    [theme=dark] .colab-df-convert:hover {\n",
              "      background-color: #434B5C;\n",
              "      box-shadow: 0px 1px 3px 1px rgba(0, 0, 0, 0.15);\n",
              "      filter: drop-shadow(0px 1px 2px rgba(0, 0, 0, 0.3));\n",
              "      fill: #FFFFFF;\n",
              "    }\n",
              "  </style>\n",
              "\n",
              "      <script>\n",
              "        const buttonEl =\n",
              "          document.querySelector('#df-cfc7f61f-4dd6-4bca-bc3d-4adc9853df56 button.colab-df-convert');\n",
              "        buttonEl.style.display =\n",
              "          google.colab.kernel.accessAllowed ? 'block' : 'none';\n",
              "\n",
              "        async function convertToInteractive(key) {\n",
              "          const element = document.querySelector('#df-cfc7f61f-4dd6-4bca-bc3d-4adc9853df56');\n",
              "          const dataTable =\n",
              "            await google.colab.kernel.invokeFunction('convertToInteractive',\n",
              "                                                     [key], {});\n",
              "          if (!dataTable) return;\n",
              "\n",
              "          const docLinkHtml = 'Like what you see? Visit the ' +\n",
              "            '<a target=\"_blank\" href=https://colab.research.google.com/notebooks/data_table.ipynb>data table notebook</a>'\n",
              "            + ' to learn more about interactive tables.';\n",
              "          element.innerHTML = '';\n",
              "          dataTable['output_type'] = 'display_data';\n",
              "          await google.colab.output.renderOutput(dataTable, element);\n",
              "          const docLink = document.createElement('div');\n",
              "          docLink.innerHTML = docLinkHtml;\n",
              "          element.appendChild(docLink);\n",
              "        }\n",
              "      </script>\n",
              "    </div>\n",
              "  </div>\n",
              "  "
            ]
          },
          "metadata": {},
          "execution_count": 230
        }
      ],
      "source": [
        "y.describe()"
      ]
    },
    {
      "cell_type": "code",
      "execution_count": 231,
      "metadata": {
        "colab": {
          "base_uri": "https://localhost:8080/",
          "height": 1000
        },
        "id": "jVwW3TSdHeMa",
        "outputId": "3ec8ce62-7d2b-47e4-9c8b-7464cc0da5f4"
      },
      "outputs": [
        {
          "output_type": "display_data",
          "data": {
            "text/plain": [
              "<Figure size 640x480 with 1 Axes>"
            ],
            "image/png": "[encoded data removed]"
          },
          "metadata": {}
        },
        {
          "output_type": "display_data",
          "data": {
            "text/plain": [
              "<Figure size 640x480 with 1 Axes>"
            ],
            "image/png": "[encoded data removed]"
          },
          "metadata": {}
        },
        {
          "output_type": "display_data",
          "data": {
            "text/plain": [
              "<Figure size 640x480 with 1 Axes>"
            ],
            "image/png": "[encoded data removed]"
          },
          "metadata": {}
        },
        {
          "output_type": "display_data",
          "data": {
            "text/plain": [
              "<Figure size 640x480 with 1 Axes>"
            ],
            "image/png": "[encoded data removed]"
          },
          "metadata": {}
        },
        {
          "output_type": "display_data",
          "data": {
            "text/plain": [
              "<Figure size 640x480 with 1 Axes>"
            ],
            "image/png": "[encoded data removed]"
          },
          "metadata": {}
        },
        {
          "output_type": "display_data",
          "data": {
            "text/plain": [
              "<Figure size 640x480 with 1 Axes>"
            ],
            "image/png": "[encoded data removed]"
          },
          "metadata": {}
        },
        {
          "output_type": "display_data",
          "data": {
            "text/plain": [
              "<Figure size 640x480 with 1 Axes>"
            ],
            "image/png": "[encoded data removed]"
          },
          "metadata": {}
        }
      ],
      "source": [
        "import seaborn as sns # Convention alias for Seaborn\n",
        "import matplotlib.pyplot as plt\n",
        "\n",
        "variables = ['year', 'month', 'day', 'sun', 'humidity', 'temmin','temmax']\n",
        "\n",
        "for var in variables:\n",
        "    plt.figure() # Creating a rectangle (figure) for each plot\n",
        "    # Regression Plot also by default includes\n",
        "    # best-fitting regression line\n",
        "    # which can be turned off via `fit_reg=False`\n",
        "    sns.regplot(x=var, y='precip', data=dataset).set(title=f'Regression plot of {var} and Precipitation');"
      ]
    },
    {
      "cell_type": "code",
      "execution_count": 232,
      "metadata": {
        "colab": {
          "base_uri": "https://localhost:8080/",
          "height": 500
        },
        "id": "hEqzK1cOQD4j",
        "outputId": "8dd8f2b8-806a-463f-9aa1-ea0371af9200"
      },
      "outputs": [
        {
          "output_type": "display_data",
          "data": {
            "text/plain": [
              "<Figure size 640x480 with 2 Axes>"
            ],
            "image/png": "[encoded data removed]"
          },
          "metadata": {}
        }
      ],
      "source": [
        "# columns of interest\n",
        "dataset_corr = dataset[['sun', 'temmin', 'temmax', 'humidity', 'precip', 'year', 'month', 'day']].copy()\n",
        "correlations = dataset_corr.corr()\n",
        "# annot=True displays the correlation values\n",
        "sns.heatmap(correlations, annot=True).set(title='Heatmap of Climatic Data - Pearson Correlations');"
      ]
    },
    {
      "cell_type": "markdown",
      "metadata": {
        "id": "kgTG-nN1beei"
      },
      "source": [
        "# Treatment of outlayers"
      ]
    },
    {
      "cell_type": "markdown",
      "metadata": {
        "id": "K-U5pkeKbqV5"
      },
      "source": [
        "## Outlier Detection"
      ]
    },
    {
      "cell_type": "code",
      "execution_count": 233,
      "metadata": {
        "colab": {
          "base_uri": "https://localhost:8080/",
          "height": 206
        },
        "id": "41gFRWbvb3c8",
        "outputId": "d78d8339-1ff9-443e-972e-a18a92bb6c17"
      },
      "outputs": [
        {
          "output_type": "execute_result",
          "data": {
            "text/plain": [
              "        time       sun  temmin  temmax  humidity  precip  latitude  longitude  \\\n",
              "0 2017-02-01  0.478571     6.8    26.4        37     0.0  5.724998 -73.125008   \n",
              "1 2017-02-02  0.585714     7.4    22.8        42     0.0  5.724998 -73.125008   \n",
              "2 2017-02-04  0.435714     4.6    24.0        37     0.0  5.724998 -73.125008   \n",
              "3 2017-02-07  0.721429    -0.8    25.4        18     0.1  5.724998 -73.125008   \n",
              "4 2017-02-17  0.578571     0.8    21.4        45     0.1  5.724998 -73.125008   \n",
              "\n",
              "   year  month  day  \n",
              "0  2017      2    1  \n",
              "1  2017      2    2  \n",
              "2  2017      2    4  \n",
              "3  2017      2    7  \n",
              "4  2017      2   17  "
            ],
            "text/html": [
              "\n",
              "  <div id=\"df-5d70c92e-5df9-46cb-b493-86498cdbcdef\">\n",
              "    <div class=\"colab-df-container\">\n",
              "      <div>\n",
              "<style scoped>\n",
              "    .dataframe tbody tr th:only-of-type {\n",
              "        vertical-align: middle;\n",
              "    }\n",
              "\n",
              "    .dataframe tbody tr th {\n",
              "        vertical-align: top;\n",
              "    }\n",
              "\n",
              "    .dataframe thead th {\n",
              "        text-align: right;\n",
              "    }\n",
              "</style>\n",
              "<table border=\"1\" class=\"dataframe\">\n",
              "  <thead>\n",
              "    <tr style=\"text-align: right;\">\n",
              "      <th></th>\n",
              "      <th>time</th>\n",
              "      <th>sun</th>\n",
              "      <th>temmin</th>\n",
              "      <th>temmax</th>\n",
              "      <th>humidity</th>\n",
              "      <th>precip</th>\n",
              "      <th>latitude</th>\n",
              "      <th>longitude</th>\n",
              "      <th>year</th>\n",
              "      <th>month</th>\n",
              "      <th>day</th>\n",
              "    </tr>\n",
              "  </thead>\n",
              "  <tbody>\n",
              "    <tr>\n",
              "      <th>0</th>\n",
              "      <td>2017-02-01</td>\n",
              "      <td>0.478571</td>\n",
              "      <td>6.8</td>\n",
              "      <td>26.4</td>\n",
              "      <td>37</td>\n",
              "      <td>0.0</td>\n",
              "      <td>5.724998</td>\n",
              "      <td>-73.125008</td>\n",
              "      <td>2017</td>\n",
              "      <td>2</td>\n",
              "      <td>1</td>\n",
              "    </tr>\n",
              "    <tr>\n",
              "      <th>1</th>\n",
              "      <td>2017-02-02</td>\n",
              "      <td>0.585714</td>\n",
              "      <td>7.4</td>\n",
              "      <td>22.8</td>\n",
              "      <td>42</td>\n",
              "      <td>0.0</td>\n",
              "      <td>5.724998</td>\n",
              "      <td>-73.125008</td>\n",
              "      <td>2017</td>\n",
              "      <td>2</td>\n",
              "      <td>2</td>\n",
              "    </tr>\n",
              "    <tr>\n",
              "      <th>2</th>\n",
              "      <td>2017-02-04</td>\n",
              "      <td>0.435714</td>\n",
              "      <td>4.6</td>\n",
              "      <td>24.0</td>\n",
              "      <td>37</td>\n",
              "      <td>0.0</td>\n",
              "      <td>5.724998</td>\n",
              "      <td>-73.125008</td>\n",
              "      <td>2017</td>\n",
              "      <td>2</td>\n",
              "      <td>4</td>\n",
              "    </tr>\n",
              "    <tr>\n",
              "      <th>3</th>\n",
              "      <td>2017-02-07</td>\n",
              "      <td>0.721429</td>\n",
              "      <td>-0.8</td>\n",
              "      <td>25.4</td>\n",
              "      <td>18</td>\n",
              "      <td>0.1</td>\n",
              "      <td>5.724998</td>\n",
              "      <td>-73.125008</td>\n",
              "      <td>2017</td>\n",
              "      <td>2</td>\n",
              "      <td>7</td>\n",
              "    </tr>\n",
              "    <tr>\n",
              "      <th>4</th>\n",
              "      <td>2017-02-17</td>\n",
              "      <td>0.578571</td>\n",
              "      <td>0.8</td>\n",
              "      <td>21.4</td>\n",
              "      <td>45</td>\n",
              "      <td>0.1</td>\n",
              "      <td>5.724998</td>\n",
              "      <td>-73.125008</td>\n",
              "      <td>2017</td>\n",
              "      <td>2</td>\n",
              "      <td>17</td>\n",
              "    </tr>\n",
              "  </tbody>\n",
              "</table>\n",
              "</div>\n",
              "      <button class=\"colab-df-convert\" onclick=\"convertToInteractive('df-5d70c92e-5df9-46cb-b493-86498cdbcdef')\"\n",
              "              title=\"Convert this dataframe to an interactive table.\"\n",
              "              style=\"display:none;\">\n",
              "        \n",
              "  <svg xmlns=\"http://www.w3.org/2000/svg\" height=\"24px\"viewBox=\"0 0 24 24\"\n",
              "       width=\"24px\">\n",
              "    <path d=\"M0 0h24v24H0V0z\" fill=\"none\"/>\n",
              "    <path d=\"M18.56 5.44l.94 2.06.94-2.06 2.06-.94-2.06-.94-.94-2.06-.94 2.06-2.06.94zm-11 1L8.5 8.5l.94-2.06 2.06-.94-2.06-.94L8.5 2.5l-.94 2.06-2.06.94zm10 10l.94 2.06.94-2.06 2.06-.94-2.06-.94-.94-2.06-.94 2.06-2.06.94z\"/><path d=\"M17.41 7.96l-1.37-1.37c-.4-.4-.92-.59-1.43-.59-.52 0-1.04.2-1.43.59L10.3 9.45l-7.72 7.72c-.78.78-.78 2.05 0 2.83L4 21.41c.39.39.9.59 1.41.59.51 0 1.02-.2 1.41-.59l7.78-7.78 2.81-2.81c.8-.78.8-2.07 0-2.86zM5.41 20L4 18.59l7.72-7.72 1.47 1.35L5.41 20z\"/>\n",
              "  </svg>\n",
              "      </button>\n",
              "      \n",
              "  <style>\n",
              "    .colab-df-container {\n",
              "      display:flex;\n",
              "      flex-wrap:wrap;\n",
              "      gap: 12px;\n",
              "    }\n",
              "\n",
              "    .colab-df-convert {\n",
              "      background-color: #E8F0FE;\n",
              "      border: none;\n",
              "      border-radius: 50%;\n",
              "      cursor: pointer;\n",
              "      display: none;\n",
              "      fill: #1967D2;\n",
              "      height: 32px;\n",
              "      padding: 0 0 0 0;\n",
              "      width: 32px;\n",
              "    }\n",
              "\n",
              "    .colab-df-convert:hover {\n",
              "      background-color: #E2EBFA;\n",
              "      box-shadow: 0px 1px 2px rgba(60, 64, 67, 0.3), 0px 1px 3px 1px rgba(60, 64, 67, 0.15);\n",
              "      fill: #174EA6;\n",
              "    }\n",
              "\n",
              "    [theme=dark] .colab-df-convert {\n",
              "      background-color: #3B4455;\n",
              "      fill: #D2E3FC;\n",
              "    }\n",
              "\n",
              "    [theme=dark] .colab-df-convert:hover {\n",
              "      background-color: #434B5C;\n",
              "      box-shadow: 0px 1px 3px 1px rgba(0, 0, 0, 0.15);\n",
              "      filter: drop-shadow(0px 1px 2px rgba(0, 0, 0, 0.3));\n",
              "      fill: #FFFFFF;\n",
              "    }\n",
              "  </style>\n",
              "\n",
              "      <script>\n",
              "        const buttonEl =\n",
              "          document.querySelector('#df-5d70c92e-5df9-46cb-b493-86498cdbcdef button.colab-df-convert');\n",
              "        buttonEl.style.display =\n",
              "          google.colab.kernel.accessAllowed ? 'block' : 'none';\n",
              "\n",
              "        async function convertToInteractive(key) {\n",
              "          const element = document.querySelector('#df-5d70c92e-5df9-46cb-b493-86498cdbcdef');\n",
              "          const dataTable =\n",
              "            await google.colab.kernel.invokeFunction('convertToInteractive',\n",
              "                                                     [key], {});\n",
              "          if (!dataTable) return;\n",
              "\n",
              "          const docLinkHtml = 'Like what you see? Visit the ' +\n",
              "            '<a target=\"_blank\" href=https://colab.research.google.com/notebooks/data_table.ipynb>data table notebook</a>'\n",
              "            + ' to learn more about interactive tables.';\n",
              "          element.innerHTML = '';\n",
              "          dataTable['output_type'] = 'display_data';\n",
              "          await google.colab.output.renderOutput(dataTable, element);\n",
              "          const docLink = document.createElement('div');\n",
              "          docLink.innerHTML = docLinkHtml;\n",
              "          element.appendChild(docLink);\n",
              "        }\n",
              "      </script>\n",
              "    </div>\n",
              "  </div>\n",
              "  "
            ]
          },
          "metadata": {},
          "execution_count": 233
        }
      ],
      "source": [
        "# Importing\n",
        "import sklearn\n",
        "from sklearn.datasets import load_diabetes\n",
        "import pandas as pd\n",
        "import matplotlib.pyplot as plt\n",
        "\n",
        "# Create the dataframe\n",
        "dataset.head()"
      ]
    },
    {
      "cell_type": "code",
      "execution_count": 234,
      "metadata": {
        "colab": {
          "base_uri": "https://localhost:8080/",
          "height": 300
        },
        "id": "g2QNyfjyp7Uw",
        "outputId": "5a45474a-1dfe-4ffa-8ebc-156cb310c392"
      },
      "outputs": [
        {
          "output_type": "execute_result",
          "data": {
            "text/plain": [
              "               sun       temmin       temmax     humidity       precip  \\\n",
              "count  1024.000000  1024.000000  1024.000000  1024.000000  1024.000000   \n",
              "mean      0.294662     7.822168    22.635938    52.551758     1.937598   \n",
              "std       0.177637     2.658818     1.721350    13.172710     4.276621   \n",
              "min       0.000000    -3.000000    11.800000     9.000000     0.000000   \n",
              "25%       0.150000     6.150000    21.600000    45.000000     0.000000   \n",
              "50%       0.278571     8.000000    22.600000    52.000000     0.100000   \n",
              "75%       0.428571    10.000000    23.800000    59.250000     1.500000   \n",
              "max       0.735714    13.600000    28.000000   100.000000    36.700000   \n",
              "\n",
              "          latitude    longitude         year        month          day  \n",
              "count  1024.000000  1024.000000  1024.000000  1024.000000  1024.000000  \n",
              "mean      5.724998   -73.125008  2019.069336     6.751953    15.937500  \n",
              "std       0.000000     0.000000     1.096550     3.405044     8.924578  \n",
              "min       5.724998   -73.125008  2017.000000     1.000000     1.000000  \n",
              "25%       5.724998   -73.125008  2018.000000     4.000000     8.000000  \n",
              "50%       5.724998   -73.125008  2019.000000     7.000000    16.000000  \n",
              "75%       5.724998   -73.125008  2020.000000    10.000000    24.000000  \n",
              "max       5.724998   -73.125008  2021.000000    12.000000    31.000000  "
            ],
            "text/html": [
              "\n",
              "  <div id=\"df-376fee95-3dd1-4839-b3d5-e2e362b2c587\">\n",
              "    <div class=\"colab-df-container\">\n",
              "      <div>\n",
              "<style scoped>\n",
              "    .dataframe tbody tr th:only-of-type {\n",
              "        vertical-align: middle;\n",
              "    }\n",
              "\n",
              "    .dataframe tbody tr th {\n",
              "        vertical-align: top;\n",
              "    }\n",
              "\n",
              "    .dataframe thead th {\n",
              "        text-align: right;\n",
              "    }\n",
              "</style>\n",
              "<table border=\"1\" class=\"dataframe\">\n",
              "  <thead>\n",
              "    <tr style=\"text-align: right;\">\n",
              "      <th></th>\n",
              "      <th>sun</th>\n",
              "      <th>temmin</th>\n",
              "      <th>temmax</th>\n",
              "      <th>humidity</th>\n",
              "      <th>precip</th>\n",
              "      <th>latitude</th>\n",
              "      <th>longitude</th>\n",
              "      <th>year</th>\n",
              "      <th>month</th>\n",
              "      <th>day</th>\n",
              "    </tr>\n",
              "  </thead>\n",
              "  <tbody>\n",
              "    <tr>\n",
              "      <th>count</th>\n",
              "      <td>1024.000000</td>\n",
              "      <td>1024.000000</td>\n",
              "      <td>1024.000000</td>\n",
              "      <td>1024.000000</td>\n",
              "      <td>1024.000000</td>\n",
              "      <td>1024.000000</td>\n",
              "      <td>1024.000000</td>\n",
              "      <td>1024.000000</td>\n",
              "      <td>1024.000000</td>\n",
              "      <td>1024.000000</td>\n",
              "    </tr>\n",
              "    <tr>\n",
              "      <th>mean</th>\n",
              "      <td>0.294662</td>\n",
              "      <td>7.822168</td>\n",
              "      <td>22.635938</td>\n",
              "      <td>52.551758</td>\n",
              "      <td>1.937598</td>\n",
              "      <td>5.724998</td>\n",
              "      <td>-73.125008</td>\n",
              "      <td>2019.069336</td>\n",
              "      <td>6.751953</td>\n",
              "      <td>15.937500</td>\n",
              "    </tr>\n",
              "    <tr>\n",
              "      <th>std</th>\n",
              "      <td>0.177637</td>\n",
              "      <td>2.658818</td>\n",
              "      <td>1.721350</td>\n",
              "      <td>13.172710</td>\n",
              "      <td>4.276621</td>\n",
              "      <td>0.000000</td>\n",
              "      <td>0.000000</td>\n",
              "      <td>1.096550</td>\n",
              "      <td>3.405044</td>\n",
              "      <td>8.924578</td>\n",
              "    </tr>\n",
              "    <tr>\n",
              "      <th>min</th>\n",
              "      <td>0.000000</td>\n",
              "      <td>-3.000000</td>\n",
              "      <td>11.800000</td>\n",
              "      <td>9.000000</td>\n",
              "      <td>0.000000</td>\n",
              "      <td>5.724998</td>\n",
              "      <td>-73.125008</td>\n",
              "      <td>2017.000000</td>\n",
              "      <td>1.000000</td>\n",
              "      <td>1.000000</td>\n",
              "    </tr>\n",
              "    <tr>\n",
              "      <th>25%</th>\n",
              "      <td>0.150000</td>\n",
              "      <td>6.150000</td>\n",
              "      <td>21.600000</td>\n",
              "      <td>45.000000</td>\n",
              "      <td>0.000000</td>\n",
              "      <td>5.724998</td>\n",
              "      <td>-73.125008</td>\n",
              "      <td>2018.000000</td>\n",
              "      <td>4.000000</td>\n",
              "      <td>8.000000</td>\n",
              "    </tr>\n",
              "    <tr>\n",
              "      <th>50%</th>\n",
              "      <td>0.278571</td>\n",
              "      <td>8.000000</td>\n",
              "      <td>22.600000</td>\n",
              "      <td>52.000000</td>\n",
              "      <td>0.100000</td>\n",
              "      <td>5.724998</td>\n",
              "      <td>-73.125008</td>\n",
              "      <td>2019.000000</td>\n",
              "      <td>7.000000</td>\n",
              "      <td>16.000000</td>\n",
              "    </tr>\n",
              "    <tr>\n",
              "      <th>75%</th>\n",
              "      <td>0.428571</td>\n",
              "      <td>10.000000</td>\n",
              "      <td>23.800000</td>\n",
              "      <td>59.250000</td>\n",
              "      <td>1.500000</td>\n",
              "      <td>5.724998</td>\n",
              "      <td>-73.125008</td>\n",
              "      <td>2020.000000</td>\n",
              "      <td>10.000000</td>\n",
              "      <td>24.000000</td>\n",
              "    </tr>\n",
              "    <tr>\n",
              "      <th>max</th>\n",
              "      <td>0.735714</td>\n",
              "      <td>13.600000</td>\n",
              "      <td>28.000000</td>\n",
              "      <td>100.000000</td>\n",
              "      <td>36.700000</td>\n",
              "      <td>5.724998</td>\n",
              "      <td>-73.125008</td>\n",
              "      <td>2021.000000</td>\n",
              "      <td>12.000000</td>\n",
              "      <td>31.000000</td>\n",
              "    </tr>\n",
              "  </tbody>\n",
              "</table>\n",
              "</div>\n",
              "      <button class=\"colab-df-convert\" onclick=\"convertToInteractive('df-376fee95-3dd1-4839-b3d5-e2e362b2c587')\"\n",
              "              title=\"Convert this dataframe to an interactive table.\"\n",
              "              style=\"display:none;\">\n",
              "        \n",
              "  <svg xmlns=\"http://www.w3.org/2000/svg\" height=\"24px\"viewBox=\"0 0 24 24\"\n",
              "       width=\"24px\">\n",
              "    <path d=\"M0 0h24v24H0V0z\" fill=\"none\"/>\n",
              "    <path d=\"M18.56 5.44l.94 2.06.94-2.06 2.06-.94-2.06-.94-.94-2.06-.94 2.06-2.06.94zm-11 1L8.5 8.5l.94-2.06 2.06-.94-2.06-.94L8.5 2.5l-.94 2.06-2.06.94zm10 10l.94 2.06.94-2.06 2.06-.94-2.06-.94-.94-2.06-.94 2.06-2.06.94z\"/><path d=\"M17.41 7.96l-1.37-1.37c-.4-.4-.92-.59-1.43-.59-.52 0-1.04.2-1.43.59L10.3 9.45l-7.72 7.72c-.78.78-.78 2.05 0 2.83L4 21.41c.39.39.9.59 1.41.59.51 0 1.02-.2 1.41-.59l7.78-7.78 2.81-2.81c.8-.78.8-2.07 0-2.86zM5.41 20L4 18.59l7.72-7.72 1.47 1.35L5.41 20z\"/>\n",
              "  </svg>\n",
              "      </button>\n",
              "      \n",
              "  <style>\n",
              "    .colab-df-container {\n",
              "      display:flex;\n",
              "      flex-wrap:wrap;\n",
              "      gap: 12px;\n",
              "    }\n",
              "\n",
              "    .colab-df-convert {\n",
              "      background-color: #E8F0FE;\n",
              "      border: none;\n",
              "      border-radius: 50%;\n",
              "      cursor: pointer;\n",
              "      display: none;\n",
              "      fill: #1967D2;\n",
              "      height: 32px;\n",
              "      padding: 0 0 0 0;\n",
              "      width: 32px;\n",
              "    }\n",
              "\n",
              "    .colab-df-convert:hover {\n",
              "      background-color: #E2EBFA;\n",
              "      box-shadow: 0px 1px 2px rgba(60, 64, 67, 0.3), 0px 1px 3px 1px rgba(60, 64, 67, 0.15);\n",
              "      fill: #174EA6;\n",
              "    }\n",
              "\n",
              "    [theme=dark] .colab-df-convert {\n",
              "      background-color: #3B4455;\n",
              "      fill: #D2E3FC;\n",
              "    }\n",
              "\n",
              "    [theme=dark] .colab-df-convert:hover {\n",
              "      background-color: #434B5C;\n",
              "      box-shadow: 0px 1px 3px 1px rgba(0, 0, 0, 0.15);\n",
              "      filter: drop-shadow(0px 1px 2px rgba(0, 0, 0, 0.3));\n",
              "      fill: #FFFFFF;\n",
              "    }\n",
              "  </style>\n",
              "\n",
              "      <script>\n",
              "        const buttonEl =\n",
              "          document.querySelector('#df-376fee95-3dd1-4839-b3d5-e2e362b2c587 button.colab-df-convert');\n",
              "        buttonEl.style.display =\n",
              "          google.colab.kernel.accessAllowed ? 'block' : 'none';\n",
              "\n",
              "        async function convertToInteractive(key) {\n",
              "          const element = document.querySelector('#df-376fee95-3dd1-4839-b3d5-e2e362b2c587');\n",
              "          const dataTable =\n",
              "            await google.colab.kernel.invokeFunction('convertToInteractive',\n",
              "                                                     [key], {});\n",
              "          if (!dataTable) return;\n",
              "\n",
              "          const docLinkHtml = 'Like what you see? Visit the ' +\n",
              "            '<a target=\"_blank\" href=https://colab.research.google.com/notebooks/data_table.ipynb>data table notebook</a>'\n",
              "            + ' to learn more about interactive tables.';\n",
              "          element.innerHTML = '';\n",
              "          dataTable['output_type'] = 'display_data';\n",
              "          await google.colab.output.renderOutput(dataTable, element);\n",
              "          const docLink = document.createElement('div');\n",
              "          docLink.innerHTML = docLinkHtml;\n",
              "          element.appendChild(docLink);\n",
              "        }\n",
              "      </script>\n",
              "    </div>\n",
              "  </div>\n",
              "  "
            ]
          },
          "metadata": {},
          "execution_count": 234
        }
      ],
      "source": [
        "dataset.describe()"
      ]
    },
    {
      "cell_type": "code",
      "execution_count": 235,
      "metadata": {
        "colab": {
          "base_uri": "https://localhost:8080/",
          "height": 447
        },
        "id": "tflXv-yDcTSO",
        "outputId": "af772ef6-feb4-437f-c431-a278ee56da79"
      },
      "outputs": [
        {
          "output_type": "execute_result",
          "data": {
            "text/plain": [
              "<Axes: >"
            ]
          },
          "metadata": {},
          "execution_count": 235
        },
        {
          "output_type": "display_data",
          "data": {
            "text/plain": [
              "<Figure size 640x480 with 1 Axes>"
            ],
            "image/png": "[encoded data removed]"
          },
          "metadata": {}
        }
      ],
      "source": [
        "# Box Plot\n",
        "import seaborn as sns\n",
        "sns.boxplot(dataset['precip'])"
      ]
    },
    {
      "cell_type": "code",
      "execution_count": 236,
      "metadata": {
        "colab": {
          "base_uri": "https://localhost:8080/"
        },
        "id": "qX6xH5KeyRwZ",
        "outputId": "fa405034-1f36-4eaa-be3c-17b1f53d32e8"
      },
      "outputs": [
        {
          "output_type": "stream",
          "name": "stdout",
          "text": [
            "(array([   7,    8,    9,   10,   11,   12,   17,   18,   19,   21,   22,\n",
            "         23,   24,   29,   33,   34,   42,   47,   54,   57,   59,   61,\n",
            "         72,  108,  113,  114,  118,  119,  120,  123,  124,  125,  130,\n",
            "        138,  140,  142,  143,  144,  145,  146,  147,  150,  154,  157,\n",
            "        159,  162,  167,  172,  174,  175,  176,  179,  180,  183,  184,\n",
            "        186,  188,  189,  193,  195,  198,  202,  204,  205,  208,  212,\n",
            "        213,  224,  226,  227,  229,  230,  234,  235,  236,  248,  252,\n",
            "        255,  256,  259,  261,  262,  263,  264,  265,  268,  269,  272,\n",
            "        273,  274,  275,  277,  282,  285,  288,  289,  290,  291,  293,\n",
            "        295,  296,  297,  298,  308,  309,  321,  340,  341,  345,  379,\n",
            "        380,  381,  382,  383,  384,  385,  386,  387,  388,  389,  390,\n",
            "        391,  392,  393,  394,  399,  400,  401,  402,  403,  404,  405,\n",
            "        406,  407,  408,  409,  410,  411,  412,  426,  427,  429,  430,\n",
            "        431,  433,  435,  438,  445,  453,  454,  461,  462,  463,  471,\n",
            "        472,  475,  478,  479,  485,  486,  496,  497,  502,  503,  504,\n",
            "        506,  511,  512,  514,  515,  520,  527,  529,  530,  531,  532,\n",
            "        533,  534,  535,  536,  539,  540,  544,  546,  547,  549,  552,\n",
            "        553,  554,  556,  557,  559,  560,  562,  563,  564,  565,  566,\n",
            "        568,  573,  575,  576,  581,  582,  583,  584,  585,  594,  595,\n",
            "        610,  616,  617,  626,  630,  633,  653,  657,  658,  662,  671,\n",
            "        673,  680,  682,  683,  684,  694,  696,  697,  698,  702,  703,\n",
            "        704,  708,  709,  712,  713,  718,  719,  725,  727,  731,  732,\n",
            "        740,  752,  757,  761,  763,  765,  766,  771,  775,  776,  777,\n",
            "        779,  780,  781,  782,  783,  785,  793,  796,  797,  799,  800,\n",
            "        801,  805,  806,  808,  810,  814,  816,  817,  818,  819,  822,\n",
            "        827,  830,  833,  838,  839,  841,  842,  844,  845,  846,  847,\n",
            "        848,  859,  860,  866,  875,  877,  878,  879,  880,  882,  883,\n",
            "        886,  887,  888,  890,  891,  892,  893,  894,  895,  896,  899,\n",
            "        902,  903,  904,  905,  906,  907,  908,  920,  922,  928,  929,\n",
            "        930,  934,  937,  939,  941,  942,  943,  944,  945,  946,  949,\n",
            "        950,  951,  953,  954,  955,  956,  957,  959,  960,  961,  967,\n",
            "        968,  970,  971,  972,  974,  979,  980,  988,  989,  990,  991,\n",
            "        993,  994,  995,  997,  998,  999, 1001, 1003, 1004, 1005, 1006,\n",
            "       1010, 1016, 1017, 1018, 1019, 1020]),)\n"
          ]
        }
      ],
      "source": [
        "import numpy as np\n",
        "print(np.where((dataset['precip']>0.6)))"
      ]
    },
    {
      "cell_type": "markdown",
      "metadata": {
        "id": "--b-CiEJoTus"
      },
      "source": [
        "## Nulls"
      ]
    },
    {
      "cell_type": "code",
      "execution_count": 237,
      "metadata": {
        "colab": {
          "base_uri": "https://localhost:8080/"
        },
        "id": "_KJLBt0FoZ-K",
        "outputId": "e22505ab-60e0-4a85-e833-a17e84affd9d"
      },
      "outputs": [
        {
          "output_type": "execute_result",
          "data": {
            "text/plain": [
              "time         0\n",
              "sun          0\n",
              "temmin       0\n",
              "temmax       0\n",
              "humidity     0\n",
              "precip       0\n",
              "latitude     0\n",
              "longitude    0\n",
              "year         0\n",
              "month        0\n",
              "day          0\n",
              "dtype: int64"
            ]
          },
          "metadata": {},
          "execution_count": 237
        }
      ],
      "source": [
        "dataset.isnull().sum()"
      ]
    }
  ],
  "metadata": {
    "colab": {
      "provenance": [],
      "toc_visible": true
    },
    "kernelspec": {
      "display_name": "Python 3",
      "name": "python3"
    },
    "language_info": {
      "name": "python"
    }
  },
  "nbformat": 4,
  "nbformat_minor": 0
}
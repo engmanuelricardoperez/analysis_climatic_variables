{
 "cells": [
  {
   "cell_type": "markdown",
   "id": "66932145",
   "metadata": {},
   "source": [
    "# Exploratory Data Analysis\n",
    "\n",
    "The steps for the process EDA is:\n",
    "\n",
    "## 1. Load the file of IDEAM stations in Colombia and filter by the department of Boyacá"
   ]
  },
  {
   "cell_type": "code",
   "execution_count": 3,
   "id": "76472b88",
   "metadata": {},
   "outputs": [],
   "source": [
    "import pandas as pd\n",
    "# Read Excel file\n",
    "df = pd.read_excel('D:\\Temp\\IDEAM_2022\\CNE_IDEAM.xls')\n",
    "df_boyaca = df[df['DEPARTAMENTO'] == 'Boyacá']"
   ]
  },
  {
   "cell_type": "markdown",
   "id": "4e24c90e",
   "metadata": {},
   "source": [
    "## 2. Search for files corresponding to the daily accumulated precipitation"
   ]
  },
  {
   "cell_type": "code",
   "execution_count": 7,
   "id": "85a7e571",
   "metadata": {},
   "outputs": [],
   "source": [
    "# PT_10_TT_D: Precipitación total diaria, filtrado por esta etiqueta en los archivos y por las estaciones de Boyacá\n",
    "import os\n",
    "nombre_carpeta = 'D:\\Temp\\IDEAM_2022\\RAD_20229050172462'\n",
    "contenido = os.listdir(nombre_carpeta)\n",
    "files = []\n",
    "for elemento in contenido:\n",
    "    if elemento != 'desktop.ini' and 'PT_10_TT_D' in elemento:\n",
    "        files.append(elemento)"
   ]
  },
  {
   "cell_type": "markdown",
   "id": "ae374ec1",
   "metadata": {},
   "source": [
    "## 3. Creation of a dataframe with station data\n",
    "\n",
    "Separate data from file names: TYPE_SENSOR@STATION.data as follows:\n",
    "\n",
    "| SENSOR | STATION | DATE | VALUE |\n",
    "\n",
    "the original date format is yyyy-mm-dd hh:mm:ss as it is total cumulative it is not worth having time so the idea is to convert only to yyyy-mm-dd"
   ]
  },
  {
   "cell_type": "code",
   "execution_count": 59,
   "id": "5b1e8288",
   "metadata": {},
   "outputs": [
    {
     "data": {
      "text/html": [
       "<div>\n",
       "<style scoped>\n",
       "    .dataframe tbody tr th:only-of-type {\n",
       "        vertical-align: middle;\n",
       "    }\n",
       "\n",
       "    .dataframe tbody tr th {\n",
       "        vertical-align: top;\n",
       "    }\n",
       "\n",
       "    .dataframe thead th {\n",
       "        text-align: right;\n",
       "    }\n",
       "</style>\n",
       "<table border=\"1\" class=\"dataframe\">\n",
       "  <thead>\n",
       "    <tr style=\"text-align: right;\">\n",
       "      <th></th>\n",
       "      <th>SENSOR</th>\n",
       "      <th>STATION</th>\n",
       "      <th>DATE</th>\n",
       "      <th>VALUE</th>\n",
       "    </tr>\n",
       "  </thead>\n",
       "  <tbody>\n",
       "    <tr>\n",
       "      <th>0</th>\n",
       "      <td>23125160</td>\n",
       "      <td>PT_10_TT_D</td>\n",
       "      <td>2005-04-20</td>\n",
       "      <td>5.8999999999999995</td>\n",
       "    </tr>\n",
       "    <tr>\n",
       "      <th>1</th>\n",
       "      <td>23125160</td>\n",
       "      <td>PT_10_TT_D</td>\n",
       "      <td>2005-04-21</td>\n",
       "      <td>2.5000000000000004</td>\n",
       "    </tr>\n",
       "    <tr>\n",
       "      <th>2</th>\n",
       "      <td>23125160</td>\n",
       "      <td>PT_10_TT_D</td>\n",
       "      <td>2005-04-22</td>\n",
       "      <td>0.0</td>\n",
       "    </tr>\n",
       "    <tr>\n",
       "      <th>3</th>\n",
       "      <td>23125160</td>\n",
       "      <td>PT_10_TT_D</td>\n",
       "      <td>2005-04-23</td>\n",
       "      <td>0.0</td>\n",
       "    </tr>\n",
       "    <tr>\n",
       "      <th>4</th>\n",
       "      <td>23125160</td>\n",
       "      <td>PT_10_TT_D</td>\n",
       "      <td>2005-04-24</td>\n",
       "      <td>8.2</td>\n",
       "    </tr>\n",
       "    <tr>\n",
       "      <th>...</th>\n",
       "      <td>...</td>\n",
       "      <td>...</td>\n",
       "      <td>...</td>\n",
       "      <td>...</td>\n",
       "    </tr>\n",
       "    <tr>\n",
       "      <th>55144</th>\n",
       "      <td>35217090</td>\n",
       "      <td>PT_10_TT_D</td>\n",
       "      <td>2022-08-28</td>\n",
       "      <td>37.79999999999999</td>\n",
       "    </tr>\n",
       "    <tr>\n",
       "      <th>55145</th>\n",
       "      <td>35217090</td>\n",
       "      <td>PT_10_TT_D</td>\n",
       "      <td>2022-08-29</td>\n",
       "      <td>29.199999999999996</td>\n",
       "    </tr>\n",
       "    <tr>\n",
       "      <th>55146</th>\n",
       "      <td>35217090</td>\n",
       "      <td>PT_10_TT_D</td>\n",
       "      <td>2022-08-30</td>\n",
       "      <td>10.200000000000001</td>\n",
       "    </tr>\n",
       "    <tr>\n",
       "      <th>55147</th>\n",
       "      <td>35217090</td>\n",
       "      <td>PT_10_TT_D</td>\n",
       "      <td>2022-08-31</td>\n",
       "      <td>0.0</td>\n",
       "    </tr>\n",
       "    <tr>\n",
       "      <th>55148</th>\n",
       "      <td>35217090</td>\n",
       "      <td>PT_10_TT_D</td>\n",
       "      <td>2022-09-01</td>\n",
       "      <td>0.9000000000000001</td>\n",
       "    </tr>\n",
       "  </tbody>\n",
       "</table>\n",
       "<p>55149 rows × 4 columns</p>\n",
       "</div>"
      ],
      "text/plain": [
       "         SENSOR     STATION        DATE               VALUE\n",
       "0      23125160  PT_10_TT_D  2005-04-20  5.8999999999999995\n",
       "1      23125160  PT_10_TT_D  2005-04-21  2.5000000000000004\n",
       "2      23125160  PT_10_TT_D  2005-04-22                 0.0\n",
       "3      23125160  PT_10_TT_D  2005-04-23                 0.0\n",
       "4      23125160  PT_10_TT_D  2005-04-24                 8.2\n",
       "...         ...         ...         ...                 ...\n",
       "55144  35217090  PT_10_TT_D  2022-08-28   37.79999999999999\n",
       "55145  35217090  PT_10_TT_D  2022-08-29  29.199999999999996\n",
       "55146  35217090  PT_10_TT_D  2022-08-30  10.200000000000001\n",
       "55147  35217090  PT_10_TT_D  2022-08-31                 0.0\n",
       "55148  35217090  PT_10_TT_D  2022-09-01  0.9000000000000001\n",
       "\n",
       "[55149 rows x 4 columns]"
      ]
     },
     "execution_count": 59,
     "metadata": {},
     "output_type": "execute_result"
    }
   ],
   "source": [
    "data = []\n",
    "list_dataframes = []\n",
    "for f in files:\n",
    "    sensor = f[0:str(f).index('@')]\n",
    "    station = f[str(f).index('@')+1:-5]\n",
    "    data = pd.read_fwf(os.path.join(nombre_carpeta, f))\n",
    "    data['SENSOR'] = station\n",
    "    data['STATION'] = sensor\n",
    "    list_dataframes.append(data)\n",
    "\n",
    "frame_station = pd.concat(list_dataframes, axis=0, ignore_index=True)\n",
    "frame_station[['DATE','VALUE']] = frame_station['Fecha|Valor'].str.split('|',expand=True)\n",
    "frame_station_final = frame_station.drop(['Fecha|Valor'], axis=1)\n",
    "frame_station_final['DATE'] = frame_station_final['DATE'].str[:10]\n",
    "frame_station_final"
   ]
  },
  {
   "cell_type": "code",
   "execution_count": null,
   "id": "e4a32fc9",
   "metadata": {},
   "outputs": [],
   "source": []
  }
 ],
 "metadata": {
  "kernelspec": {
   "display_name": "Python 3 (ipykernel)",
   "language": "python",
   "name": "python3"
  },
  "language_info": {
   "codemirror_mode": {
    "name": "ipython",
    "version": 3
   },
   "file_extension": ".py",
   "mimetype": "text/x-python",
   "name": "python",
   "nbconvert_exporter": "python",
   "pygments_lexer": "ipython3",
   "version": "3.9.13"
  },
  "vscode": {
   "interpreter": {
    "hash": "e2a6dae1680d5d703b715907ac46bd7a3965acafb3f09cc0a45412b83daff840"
   }
  }
 },
 "nbformat": 4,
 "nbformat_minor": 5
}

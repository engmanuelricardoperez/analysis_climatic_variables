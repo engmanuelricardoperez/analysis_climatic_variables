{
 "cells": [
  {
   "cell_type": "markdown",
   "id": "f4e67af6",
   "metadata": {},
   "source": [
    "# Exploratory Data Analysis\n",
    "\n",
    "The steps for the process EDA is:\n",
    "\n",
    "## 1. Load the file of IDEAM stations in Colombia and filter by the department of Boyacá"
   ]
  },
  {
   "cell_type": "code",
   "execution_count": 77,
   "id": "76472b88",
   "metadata": {},
   "outputs": [],
   "source": [
    "import pandas as pd\n",
    "# Read Excel file\n",
    "df = pd.read_excel('D:\\Temp\\IDEAM_2022\\CNE_IDEAM.xls')\n",
    "df_boyaca = df[df['DEPARTAMENTO'] == 'Boyacá']"
   ]
  },
  {
   "cell_type": "markdown",
   "id": "f9830cc2",
   "metadata": {},
   "source": [
    "## 2. Search for files corresponding to daily weather variables\n",
    "Some variables of importance to the subject of the study are:\n",
    "- evaporation: EV_TT_D: Total daily evaporation\n",
    "- sun: BSHG_TT_D: Total daily sunshine\n",
    "- temmax: THSM_MX_D: daily Maximum humid temperature\n",
    "- temmin: THSM_MN_D: Daily minimum humid temperature\n",
    "- humidity: HRHG_MEDIA_D: Average daily relative humidity\n",
    "- speed-wind: VVAG_MEDIA_D: Average daily wind speed\n",
    "- precipitation: PT_10_TT_D: Total daily precipitation"
   ]
  },
  {
   "cell_type": "code",
   "execution_count": 78,
   "id": "38f9af5c",
   "metadata": {},
   "outputs": [],
   "source": [
    "import os\n",
    "nombre_carpeta = 'D:\\Temp\\IDEAM_2022\\RAD_20229050172462'\n",
    "contenido = os.listdir(nombre_carpeta)\n",
    "files = []\n",
    "for elemento in contenido:\n",
    "    if elemento != 'desktop.ini' and 'EV_TT_D' in elemento:\n",
    "        files.append(elemento)\n",
    "    if elemento != 'desktop.ini' and 'BSHG_TT_D' in elemento:\n",
    "        files.append(elemento)\n",
    "    if elemento != 'desktop.ini' and 'THSM_MX_D' in elemento:\n",
    "        files.append(elemento)\n",
    "    if elemento != 'desktop.ini' and 'THSM_MN_D' in elemento:\n",
    "        files.append(elemento)\n",
    "    if elemento != 'desktop.ini' and 'HRHG_MEDIA_D' in elemento:\n",
    "        files.append(elemento)\n",
    "    if elemento != 'desktop.ini' and 'VVAG_MEDIA_D' in elemento:\n",
    "        files.append(elemento)\n",
    "    if elemento != 'desktop.ini' and 'PT_10_TT_D' in elemento:\n",
    "        files.append(elemento)"
   ]
  },
  {
   "cell_type": "markdown",
   "id": "fb91a426",
   "metadata": {},
   "source": [
    "## 3. Creation of a dataframe with station data\n",
    "\n",
    "Separate data from file names: TYPE_SENSOR@STATION.data as follows:\n",
    "\n",
    "| sensor | station | date | value |\n",
    "\n",
    "the original date format is yyyy-mm-dd hh:mm:ss as it is total cumulative it is not worth having time so the idea is to convert only to yyyy-mm-dd"
   ]
  },
  {
   "cell_type": "code",
   "execution_count": 79,
   "id": "50621190",
   "metadata": {},
   "outputs": [
    {
     "data": {
      "text/html": [
       "<div>\n",
       "<style scoped>\n",
       "    .dataframe tbody tr th:only-of-type {\n",
       "        vertical-align: middle;\n",
       "    }\n",
       "\n",
       "    .dataframe tbody tr th {\n",
       "        vertical-align: top;\n",
       "    }\n",
       "\n",
       "    .dataframe thead th {\n",
       "        text-align: right;\n",
       "    }\n",
       "</style>\n",
       "<table border=\"1\" class=\"dataframe\">\n",
       "  <thead>\n",
       "    <tr style=\"text-align: right;\">\n",
       "      <th></th>\n",
       "      <th>sensor</th>\n",
       "      <th>station</th>\n",
       "      <th>date</th>\n",
       "      <th>value</th>\n",
       "    </tr>\n",
       "  </thead>\n",
       "  <tbody>\n",
       "    <tr>\n",
       "      <th>0</th>\n",
       "      <td>PT_10_TT_D</td>\n",
       "      <td>23125160</td>\n",
       "      <td>2005-04-20</td>\n",
       "      <td>5.8999999999999995</td>\n",
       "    </tr>\n",
       "    <tr>\n",
       "      <th>1</th>\n",
       "      <td>PT_10_TT_D</td>\n",
       "      <td>23125160</td>\n",
       "      <td>2005-04-21</td>\n",
       "      <td>2.5000000000000004</td>\n",
       "    </tr>\n",
       "    <tr>\n",
       "      <th>2</th>\n",
       "      <td>PT_10_TT_D</td>\n",
       "      <td>23125160</td>\n",
       "      <td>2005-04-22</td>\n",
       "      <td>0.0</td>\n",
       "    </tr>\n",
       "    <tr>\n",
       "      <th>3</th>\n",
       "      <td>PT_10_TT_D</td>\n",
       "      <td>23125160</td>\n",
       "      <td>2005-04-23</td>\n",
       "      <td>0.0</td>\n",
       "    </tr>\n",
       "    <tr>\n",
       "      <th>4</th>\n",
       "      <td>PT_10_TT_D</td>\n",
       "      <td>23125160</td>\n",
       "      <td>2005-04-24</td>\n",
       "      <td>8.2</td>\n",
       "    </tr>\n",
       "    <tr>\n",
       "      <th>...</th>\n",
       "      <td>...</td>\n",
       "      <td>...</td>\n",
       "      <td>...</td>\n",
       "      <td>...</td>\n",
       "    </tr>\n",
       "    <tr>\n",
       "      <th>55144</th>\n",
       "      <td>PT_10_TT_D</td>\n",
       "      <td>35217090</td>\n",
       "      <td>2022-08-28</td>\n",
       "      <td>37.79999999999999</td>\n",
       "    </tr>\n",
       "    <tr>\n",
       "      <th>55145</th>\n",
       "      <td>PT_10_TT_D</td>\n",
       "      <td>35217090</td>\n",
       "      <td>2022-08-29</td>\n",
       "      <td>29.199999999999996</td>\n",
       "    </tr>\n",
       "    <tr>\n",
       "      <th>55146</th>\n",
       "      <td>PT_10_TT_D</td>\n",
       "      <td>35217090</td>\n",
       "      <td>2022-08-30</td>\n",
       "      <td>10.200000000000001</td>\n",
       "    </tr>\n",
       "    <tr>\n",
       "      <th>55147</th>\n",
       "      <td>PT_10_TT_D</td>\n",
       "      <td>35217090</td>\n",
       "      <td>2022-08-31</td>\n",
       "      <td>0.0</td>\n",
       "    </tr>\n",
       "    <tr>\n",
       "      <th>55148</th>\n",
       "      <td>PT_10_TT_D</td>\n",
       "      <td>35217090</td>\n",
       "      <td>2022-09-01</td>\n",
       "      <td>0.9000000000000001</td>\n",
       "    </tr>\n",
       "  </tbody>\n",
       "</table>\n",
       "<p>55149 rows × 4 columns</p>\n",
       "</div>"
      ],
      "text/plain": [
       "           sensor   station        date               value\n",
       "0      PT_10_TT_D  23125160  2005-04-20  5.8999999999999995\n",
       "1      PT_10_TT_D  23125160  2005-04-21  2.5000000000000004\n",
       "2      PT_10_TT_D  23125160  2005-04-22                 0.0\n",
       "3      PT_10_TT_D  23125160  2005-04-23                 0.0\n",
       "4      PT_10_TT_D  23125160  2005-04-24                 8.2\n",
       "...           ...       ...         ...                 ...\n",
       "55144  PT_10_TT_D  35217090  2022-08-28   37.79999999999999\n",
       "55145  PT_10_TT_D  35217090  2022-08-29  29.199999999999996\n",
       "55146  PT_10_TT_D  35217090  2022-08-30  10.200000000000001\n",
       "55147  PT_10_TT_D  35217090  2022-08-31                 0.0\n",
       "55148  PT_10_TT_D  35217090  2022-09-01  0.9000000000000001\n",
       "\n",
       "[55149 rows x 4 columns]"
      ]
     },
     "execution_count": 79,
     "metadata": {},
     "output_type": "execute_result"
    }
   ],
   "source": [
    "data = []\n",
    "list_dataframes = []\n",
    "for f in files:\n",
    "    sensor = f[0:str(f).index('@')]\n",
    "    station = f[str(f).index('@')+1:-5]\n",
    "    data = pd.read_fwf(os.path.join(nombre_carpeta, f))\n",
    "    data['sensor'] = sensor\n",
    "    data['station'] = station\n",
    "    list_dataframes.append(data)\n",
    "\n",
    "frame_station = pd.concat(list_dataframes, axis=0, ignore_index=True)\n",
    "frame_station[['date','value']] = frame_station['Fecha|Valor'].str.split('|',expand=True)\n",
    "frame_station_final = frame_station.drop(['Fecha|Valor'], axis=1)\n",
    "frame_station_final['date'] = frame_station_final['date'].str[:10]\n",
    "frame_station_final"
   ]
  },
  {
   "cell_type": "code",
   "execution_count": 80,
   "id": "e3150291",
   "metadata": {},
   "outputs": [
    {
     "data": {
      "text/html": [
       "<div>\n",
       "<style scoped>\n",
       "    .dataframe tbody tr th:only-of-type {\n",
       "        vertical-align: middle;\n",
       "    }\n",
       "\n",
       "    .dataframe tbody tr th {\n",
       "        vertical-align: top;\n",
       "    }\n",
       "\n",
       "    .dataframe thead th {\n",
       "        text-align: right;\n",
       "    }\n",
       "</style>\n",
       "<table border=\"1\" class=\"dataframe\">\n",
       "  <thead>\n",
       "    <tr style=\"text-align: right;\">\n",
       "      <th></th>\n",
       "      <th>sensor</th>\n",
       "      <th>station</th>\n",
       "      <th>date</th>\n",
       "      <th>value</th>\n",
       "    </tr>\n",
       "  </thead>\n",
       "  <tbody>\n",
       "    <tr>\n",
       "      <th>count</th>\n",
       "      <td>55149</td>\n",
       "      <td>55149</td>\n",
       "      <td>55149</td>\n",
       "      <td>55149</td>\n",
       "    </tr>\n",
       "    <tr>\n",
       "      <th>unique</th>\n",
       "      <td>1</td>\n",
       "      <td>21</td>\n",
       "      <td>6345</td>\n",
       "      <td>3389</td>\n",
       "    </tr>\n",
       "    <tr>\n",
       "      <th>top</th>\n",
       "      <td>PT_10_TT_D</td>\n",
       "      <td>24035360</td>\n",
       "      <td>2018-05-01</td>\n",
       "      <td>0.0</td>\n",
       "    </tr>\n",
       "    <tr>\n",
       "      <th>freq</th>\n",
       "      <td>55149</td>\n",
       "      <td>6345</td>\n",
       "      <td>21</td>\n",
       "      <td>27124</td>\n",
       "    </tr>\n",
       "  </tbody>\n",
       "</table>\n",
       "</div>"
      ],
      "text/plain": [
       "            sensor   station        date  value\n",
       "count        55149     55149       55149  55149\n",
       "unique           1        21        6345   3389\n",
       "top     PT_10_TT_D  24035360  2018-05-01    0.0\n",
       "freq         55149      6345          21  27124"
      ]
     },
     "execution_count": 80,
     "metadata": {},
     "output_type": "execute_result"
    }
   ],
   "source": [
    "frame_station_final.describe()"
   ]
  },
  {
   "cell_type": "code",
   "execution_count": 73,
   "id": "0eb08a5d",
   "metadata": {},
   "outputs": [
    {
     "data": {
      "text/plain": [
       "count          55149\n",
       "unique          6345\n",
       "top       2018-05-01\n",
       "freq              21\n",
       "Name: date, dtype: object"
      ]
     },
     "execution_count": 73,
     "metadata": {},
     "output_type": "execute_result"
    }
   ],
   "source": [
    "frame_station_final.date.describe()"
   ]
  },
  {
   "cell_type": "code",
   "execution_count": null,
   "id": "0b8e8c8a",
   "metadata": {},
   "outputs": [],
   "source": []
  }
 ],
 "metadata": {
  "kernelspec": {
   "display_name": "Python 3 (ipykernel)",
   "language": "python",
   "name": "python3"
  },
  "language_info": {
   "codemirror_mode": {
    "name": "ipython",
    "version": 3
   },
   "file_extension": ".py",
   "mimetype": "text/x-python",
   "name": "python",
   "nbconvert_exporter": "python",
   "pygments_lexer": "ipython3",
   "version": "3.9.13"
  },
  "vscode": {
   "interpreter": {
    "hash": "e2a6dae1680d5d703b715907ac46bd7a3965acafb3f09cc0a45412b83daff840"
   }
  }
 },
 "nbformat": 4,
 "nbformat_minor": 5
}

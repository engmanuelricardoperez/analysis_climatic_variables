{
 "cells": [
  {
   "cell_type": "markdown",
   "id": "f4e67af6",
   "metadata": {
    "id": "f4e67af6"
   },
   "source": [
    "# Exploratory Data Analysis\n",
    "\n",
    "The steps for the process EDA is:\n",
    "\n",
    "## 1. Load the file of IDEAM stations in Colombia and filter by the department of Boyacá"
   ]
  },
  {
   "cell_type": "code",
   "execution_count": 1,
   "id": "LyhjWqisYN8H",
   "metadata": {
    "colab": {
     "base_uri": "https://localhost:8080/"
    },
    "id": "LyhjWqisYN8H",
    "outputId": "4eb747b6-405f-458c-8f08-d23e44a53a22"
   },
   "outputs": [
    {
     "ename": "ModuleNotFoundError",
     "evalue": "No module named 'google'",
     "output_type": "error",
     "traceback": [
      "\u001b[1;31m---------------------------------------------------------------------------\u001b[0m",
      "\u001b[1;31mModuleNotFoundError\u001b[0m                       Traceback (most recent call last)",
      "\u001b[1;32m~\\AppData\\Local\\Temp\\ipykernel_24880\\1202616687.py\u001b[0m in \u001b[0;36m<module>\u001b[1;34m\u001b[0m\n\u001b[0;32m      1\u001b[0m \u001b[1;31m#Start by connecting gdrive into the google colab\u001b[0m\u001b[1;33m\u001b[0m\u001b[1;33m\u001b[0m\u001b[0m\n\u001b[1;32m----> 2\u001b[1;33m \u001b[1;32mfrom\u001b[0m \u001b[0mgoogle\u001b[0m\u001b[1;33m.\u001b[0m\u001b[0mcolab\u001b[0m \u001b[1;32mimport\u001b[0m \u001b[0mdrive\u001b[0m\u001b[1;33m\u001b[0m\u001b[1;33m\u001b[0m\u001b[0m\n\u001b[0m\u001b[0;32m      3\u001b[0m \u001b[0mdrive\u001b[0m\u001b[1;33m.\u001b[0m\u001b[0mmount\u001b[0m\u001b[1;33m(\u001b[0m\u001b[1;34m'/content/gdrive'\u001b[0m\u001b[1;33m)\u001b[0m\u001b[1;33m\u001b[0m\u001b[1;33m\u001b[0m\u001b[0m\n",
      "\u001b[1;31mModuleNotFoundError\u001b[0m: No module named 'google'"
     ]
    }
   ],
   "source": [
    "#Start by connecting gdrive into the google colab\n",
    "from google.colab import drive\n",
    "drive.mount('/content/gdrive') "
   ]
  },
  {
   "cell_type": "code",
   "execution_count": 6,
   "id": "9aa2yFG2ZUXE",
   "metadata": {
    "colab": {
     "base_uri": "https://localhost:8080/"
    },
    "id": "9aa2yFG2ZUXE",
    "outputId": "a03b8dbe-ff86-40a4-8b27-d5ce690bd681"
   },
   "outputs": [
    {
     "name": "stdout",
     "output_type": "stream",
     "text": [
      " BoyacaPrecipitation.rar\n",
      " CNE_IDEAM.xlsx\n",
      "'Configuración Regional de Números en Windows.pdf'\n",
      " GlosarioVariables.xlsx\n",
      "'Instructivo Lectura de archivos .Data.pdf'\n",
      " RAD_20229050172462\n",
      " RAD_20229050172462.zip\n"
     ]
    }
   ],
   "source": [
    "!ls \"/content/gdrive/MyDrive/phd/deployment proyect/Data/IDEAM_2022\""
   ]
  },
  {
   "cell_type": "code",
   "execution_count": 7,
   "id": "76472b88",
   "metadata": {
    "id": "76472b88"
   },
   "outputs": [],
   "source": [
    "import pandas as pd\n",
    "# Read Excel file\n",
    "df = pd.read_excel('/content/gdrive/MyDrive/phd/deployment proyect/Data/IDEAM_2022/CNE_IDEAM.xlsx')\n",
    "df_boyaca = df[df['DEPARTAMENTO'] == 'Boyacá']"
   ]
  },
  {
   "cell_type": "markdown",
   "id": "f9830cc2",
   "metadata": {
    "id": "f9830cc2"
   },
   "source": [
    "## 2. Search for files corresponding to daily weather variables\n",
    "Some variables of importance to the subject of the study are:\n",
    "- evaporation: EV_TT_D: Total daily evaporation\n",
    "- sun: BSHG_TT_D: Total daily sunshine\n",
    "- temmax: THSM_MX_D: daily Maximum humid temperature\n",
    "- temmin: THSM_MN_D: Daily minimum humid temperature\n",
    "- humidity: HRHG_MEDIA_D: Average daily relative humidity\n",
    "- speed-wind: VVAG_MEDIA_D: Average daily wind speed\n",
    "- precipitation: PT_10_TT_D: Total daily precipitation"
   ]
  },
  {
   "cell_type": "code",
   "execution_count": 9,
   "id": "38f9af5c",
   "metadata": {
    "id": "38f9af5c"
   },
   "outputs": [],
   "source": [
    "import os\n",
    "nombre_carpeta = '/content/gdrive/MyDrive/phd/deployment proyect/Data/IDEAM_2022/RAD_20229050172462'\n",
    "contenido = os.listdir(nombre_carpeta)\n",
    "files = []\n",
    "for elemento in contenido:\n",
    "    if elemento != 'desktop.ini' and 'EV_TT_D' in elemento:\n",
    "        files.append(elemento)\n",
    "    if elemento != 'desktop.ini' and 'BSHG_TT_D' in elemento:\n",
    "        files.append(elemento)\n",
    "    if elemento != 'desktop.ini' and 'THSM_MX_D' in elemento:\n",
    "        files.append(elemento)\n",
    "    if elemento != 'desktop.ini' and 'THSM_MN_D' in elemento:\n",
    "        files.append(elemento)\n",
    "    if elemento != 'desktop.ini' and 'HRHG_MEDIA_D' in elemento:\n",
    "        files.append(elemento)\n",
    "    if elemento != 'desktop.ini' and 'VVAG_MEDIA_D' in elemento:\n",
    "        files.append(elemento)\n",
    "    if elemento != 'desktop.ini' and 'PT_10_TT_D' in elemento:\n",
    "        files.append(elemento)"
   ]
  },
  {
   "cell_type": "markdown",
   "id": "fb91a426",
   "metadata": {
    "id": "fb91a426"
   },
   "source": [
    "## 3. Creation of a dataframe with station data\n",
    "\n",
    "Separate data from file names: TYPE_SENSOR@STATION.data as follows:\n",
    "\n",
    "| sensor | station | date | value |\n",
    "\n",
    "the original date format is yyyy-mm-dd hh:mm:ss as it is total cumulative it is not worth having time so the idea is to convert only to yyyy-mm-dd"
   ]
  },
  {
   "cell_type": "code",
   "execution_count": 10,
   "id": "50621190",
   "metadata": {
    "colab": {
     "base_uri": "https://localhost:8080/",
     "height": 424
    },
    "id": "50621190",
    "outputId": "f9dbaabe-649f-4418-8a31-7fd48c8aa65c"
   },
   "outputs": [
    {
     "data": {
      "text/html": [
       "\n",
       "  <div id=\"df-e8b9ffde-34ba-4874-9e4d-ab04a51175f5\">\n",
       "    <div class=\"colab-df-container\">\n",
       "      <div>\n",
       "<style scoped>\n",
       "    .dataframe tbody tr th:only-of-type {\n",
       "        vertical-align: middle;\n",
       "    }\n",
       "\n",
       "    .dataframe tbody tr th {\n",
       "        vertical-align: top;\n",
       "    }\n",
       "\n",
       "    .dataframe thead th {\n",
       "        text-align: right;\n",
       "    }\n",
       "</style>\n",
       "<table border=\"1\" class=\"dataframe\">\n",
       "  <thead>\n",
       "    <tr style=\"text-align: right;\">\n",
       "      <th></th>\n",
       "      <th>sensor</th>\n",
       "      <th>station</th>\n",
       "      <th>date</th>\n",
       "      <th>value</th>\n",
       "    </tr>\n",
       "  </thead>\n",
       "  <tbody>\n",
       "    <tr>\n",
       "      <th>0</th>\n",
       "      <td>PT_10_TT_D</td>\n",
       "      <td>35215030</td>\n",
       "      <td>2017-08-19</td>\n",
       "      <td>0.0</td>\n",
       "    </tr>\n",
       "    <tr>\n",
       "      <th>1</th>\n",
       "      <td>PT_10_TT_D</td>\n",
       "      <td>35215030</td>\n",
       "      <td>2017-08-20</td>\n",
       "      <td>35.79999999895</td>\n",
       "    </tr>\n",
       "    <tr>\n",
       "      <th>2</th>\n",
       "      <td>PT_10_TT_D</td>\n",
       "      <td>35215030</td>\n",
       "      <td>2017-08-21</td>\n",
       "      <td>8.1</td>\n",
       "    </tr>\n",
       "    <tr>\n",
       "      <th>3</th>\n",
       "      <td>PT_10_TT_D</td>\n",
       "      <td>35215030</td>\n",
       "      <td>2017-08-22</td>\n",
       "      <td>6.6000000000000005</td>\n",
       "    </tr>\n",
       "    <tr>\n",
       "      <th>4</th>\n",
       "      <td>PT_10_TT_D</td>\n",
       "      <td>35215030</td>\n",
       "      <td>2017-08-23</td>\n",
       "      <td>0.0</td>\n",
       "    </tr>\n",
       "    <tr>\n",
       "      <th>...</th>\n",
       "      <td>...</td>\n",
       "      <td>...</td>\n",
       "      <td>...</td>\n",
       "      <td>...</td>\n",
       "    </tr>\n",
       "    <tr>\n",
       "      <th>55144</th>\n",
       "      <td>PT_10_TT_D</td>\n",
       "      <td>24035360</td>\n",
       "      <td>2022-08-28</td>\n",
       "      <td>6.2</td>\n",
       "    </tr>\n",
       "    <tr>\n",
       "      <th>55145</th>\n",
       "      <td>PT_10_TT_D</td>\n",
       "      <td>24035360</td>\n",
       "      <td>2022-08-29</td>\n",
       "      <td>4.7</td>\n",
       "    </tr>\n",
       "    <tr>\n",
       "      <th>55146</th>\n",
       "      <td>PT_10_TT_D</td>\n",
       "      <td>24035360</td>\n",
       "      <td>2022-08-30</td>\n",
       "      <td>0.5</td>\n",
       "    </tr>\n",
       "    <tr>\n",
       "      <th>55147</th>\n",
       "      <td>PT_10_TT_D</td>\n",
       "      <td>24035360</td>\n",
       "      <td>2022-08-31</td>\n",
       "      <td>0.0</td>\n",
       "    </tr>\n",
       "    <tr>\n",
       "      <th>55148</th>\n",
       "      <td>PT_10_TT_D</td>\n",
       "      <td>24035360</td>\n",
       "      <td>2022-09-01</td>\n",
       "      <td>0.0</td>\n",
       "    </tr>\n",
       "  </tbody>\n",
       "</table>\n",
       "<p>55149 rows × 4 columns</p>\n",
       "</div>\n",
       "      <button class=\"colab-df-convert\" onclick=\"convertToInteractive('df-e8b9ffde-34ba-4874-9e4d-ab04a51175f5')\"\n",
       "              title=\"Convert this dataframe to an interactive table.\"\n",
       "              style=\"display:none;\">\n",
       "        \n",
       "  <svg xmlns=\"http://www.w3.org/2000/svg\" height=\"24px\"viewBox=\"0 0 24 24\"\n",
       "       width=\"24px\">\n",
       "    <path d=\"M0 0h24v24H0V0z\" fill=\"none\"/>\n",
       "    <path d=\"M18.56 5.44l.94 2.06.94-2.06 2.06-.94-2.06-.94-.94-2.06-.94 2.06-2.06.94zm-11 1L8.5 8.5l.94-2.06 2.06-.94-2.06-.94L8.5 2.5l-.94 2.06-2.06.94zm10 10l.94 2.06.94-2.06 2.06-.94-2.06-.94-.94-2.06-.94 2.06-2.06.94z\"/><path d=\"M17.41 7.96l-1.37-1.37c-.4-.4-.92-.59-1.43-.59-.52 0-1.04.2-1.43.59L10.3 9.45l-7.72 7.72c-.78.78-.78 2.05 0 2.83L4 21.41c.39.39.9.59 1.41.59.51 0 1.02-.2 1.41-.59l7.78-7.78 2.81-2.81c.8-.78.8-2.07 0-2.86zM5.41 20L4 18.59l7.72-7.72 1.47 1.35L5.41 20z\"/>\n",
       "  </svg>\n",
       "      </button>\n",
       "      \n",
       "  <style>\n",
       "    .colab-df-container {\n",
       "      display:flex;\n",
       "      flex-wrap:wrap;\n",
       "      gap: 12px;\n",
       "    }\n",
       "\n",
       "    .colab-df-convert {\n",
       "      background-color: #E8F0FE;\n",
       "      border: none;\n",
       "      border-radius: 50%;\n",
       "      cursor: pointer;\n",
       "      display: none;\n",
       "      fill: #1967D2;\n",
       "      height: 32px;\n",
       "      padding: 0 0 0 0;\n",
       "      width: 32px;\n",
       "    }\n",
       "\n",
       "    .colab-df-convert:hover {\n",
       "      background-color: #E2EBFA;\n",
       "      box-shadow: 0px 1px 2px rgba(60, 64, 67, 0.3), 0px 1px 3px 1px rgba(60, 64, 67, 0.15);\n",
       "      fill: #174EA6;\n",
       "    }\n",
       "\n",
       "    [theme=dark] .colab-df-convert {\n",
       "      background-color: #3B4455;\n",
       "      fill: #D2E3FC;\n",
       "    }\n",
       "\n",
       "    [theme=dark] .colab-df-convert:hover {\n",
       "      background-color: #434B5C;\n",
       "      box-shadow: 0px 1px 3px 1px rgba(0, 0, 0, 0.15);\n",
       "      filter: drop-shadow(0px 1px 2px rgba(0, 0, 0, 0.3));\n",
       "      fill: #FFFFFF;\n",
       "    }\n",
       "  </style>\n",
       "\n",
       "      <script>\n",
       "        const buttonEl =\n",
       "          document.querySelector('#df-e8b9ffde-34ba-4874-9e4d-ab04a51175f5 button.colab-df-convert');\n",
       "        buttonEl.style.display =\n",
       "          google.colab.kernel.accessAllowed ? 'block' : 'none';\n",
       "\n",
       "        async function convertToInteractive(key) {\n",
       "          const element = document.querySelector('#df-e8b9ffde-34ba-4874-9e4d-ab04a51175f5');\n",
       "          const dataTable =\n",
       "            await google.colab.kernel.invokeFunction('convertToInteractive',\n",
       "                                                     [key], {});\n",
       "          if (!dataTable) return;\n",
       "\n",
       "          const docLinkHtml = 'Like what you see? Visit the ' +\n",
       "            '<a target=\"_blank\" href=https://colab.research.google.com/notebooks/data_table.ipynb>data table notebook</a>'\n",
       "            + ' to learn more about interactive tables.';\n",
       "          element.innerHTML = '';\n",
       "          dataTable['output_type'] = 'display_data';\n",
       "          await google.colab.output.renderOutput(dataTable, element);\n",
       "          const docLink = document.createElement('div');\n",
       "          docLink.innerHTML = docLinkHtml;\n",
       "          element.appendChild(docLink);\n",
       "        }\n",
       "      </script>\n",
       "    </div>\n",
       "  </div>\n",
       "  "
      ],
      "text/plain": [
       "           sensor   station        date               value\n",
       "0      PT_10_TT_D  35215030  2017-08-19                 0.0\n",
       "1      PT_10_TT_D  35215030  2017-08-20      35.79999999895\n",
       "2      PT_10_TT_D  35215030  2017-08-21                 8.1\n",
       "3      PT_10_TT_D  35215030  2017-08-22  6.6000000000000005\n",
       "4      PT_10_TT_D  35215030  2017-08-23                 0.0\n",
       "...           ...       ...         ...                 ...\n",
       "55144  PT_10_TT_D  24035360  2022-08-28                 6.2\n",
       "55145  PT_10_TT_D  24035360  2022-08-29                 4.7\n",
       "55146  PT_10_TT_D  24035360  2022-08-30                 0.5\n",
       "55147  PT_10_TT_D  24035360  2022-08-31                 0.0\n",
       "55148  PT_10_TT_D  24035360  2022-09-01                 0.0\n",
       "\n",
       "[55149 rows x 4 columns]"
      ]
     },
     "execution_count": 10,
     "metadata": {},
     "output_type": "execute_result"
    }
   ],
   "source": [
    "data = []\n",
    "list_dataframes = []\n",
    "for f in files:\n",
    "    sensor = f[0:str(f).index('@')]\n",
    "    station = f[str(f).index('@')+1:-5]\n",
    "    data = pd.read_fwf(os.path.join(nombre_carpeta, f))\n",
    "    data['sensor'] = sensor\n",
    "    data['station'] = station\n",
    "    list_dataframes.append(data)\n",
    "\n",
    "frame_station = pd.concat(list_dataframes, axis=0, ignore_index=True)\n",
    "frame_station[['date','value']] = frame_station['Fecha|Valor'].str.split('|',expand=True)\n",
    "frame_station_final = frame_station.drop(['Fecha|Valor'], axis=1)\n",
    "frame_station_final['date'] = frame_station_final['date'].str[:10]\n",
    "frame_station_final"
   ]
  },
  {
   "cell_type": "code",
   "execution_count": 11,
   "id": "e3150291",
   "metadata": {
    "colab": {
     "base_uri": "https://localhost:8080/",
     "height": 175
    },
    "id": "e3150291",
    "outputId": "b8d572a7-cd09-484c-e86c-ce1632aafefd"
   },
   "outputs": [
    {
     "data": {
      "text/html": [
       "\n",
       "  <div id=\"df-725bedbc-187c-4e8f-9022-63ef5ad916e7\">\n",
       "    <div class=\"colab-df-container\">\n",
       "      <div>\n",
       "<style scoped>\n",
       "    .dataframe tbody tr th:only-of-type {\n",
       "        vertical-align: middle;\n",
       "    }\n",
       "\n",
       "    .dataframe tbody tr th {\n",
       "        vertical-align: top;\n",
       "    }\n",
       "\n",
       "    .dataframe thead th {\n",
       "        text-align: right;\n",
       "    }\n",
       "</style>\n",
       "<table border=\"1\" class=\"dataframe\">\n",
       "  <thead>\n",
       "    <tr style=\"text-align: right;\">\n",
       "      <th></th>\n",
       "      <th>sensor</th>\n",
       "      <th>station</th>\n",
       "      <th>date</th>\n",
       "      <th>value</th>\n",
       "    </tr>\n",
       "  </thead>\n",
       "  <tbody>\n",
       "    <tr>\n",
       "      <th>count</th>\n",
       "      <td>55149</td>\n",
       "      <td>55149</td>\n",
       "      <td>55149</td>\n",
       "      <td>55149</td>\n",
       "    </tr>\n",
       "    <tr>\n",
       "      <th>unique</th>\n",
       "      <td>1</td>\n",
       "      <td>21</td>\n",
       "      <td>6345</td>\n",
       "      <td>3389</td>\n",
       "    </tr>\n",
       "    <tr>\n",
       "      <th>top</th>\n",
       "      <td>PT_10_TT_D</td>\n",
       "      <td>24035360</td>\n",
       "      <td>2018-11-06</td>\n",
       "      <td>0.0</td>\n",
       "    </tr>\n",
       "    <tr>\n",
       "      <th>freq</th>\n",
       "      <td>55149</td>\n",
       "      <td>6345</td>\n",
       "      <td>21</td>\n",
       "      <td>27124</td>\n",
       "    </tr>\n",
       "  </tbody>\n",
       "</table>\n",
       "</div>\n",
       "      <button class=\"colab-df-convert\" onclick=\"convertToInteractive('df-725bedbc-187c-4e8f-9022-63ef5ad916e7')\"\n",
       "              title=\"Convert this dataframe to an interactive table.\"\n",
       "              style=\"display:none;\">\n",
       "        \n",
       "  <svg xmlns=\"http://www.w3.org/2000/svg\" height=\"24px\"viewBox=\"0 0 24 24\"\n",
       "       width=\"24px\">\n",
       "    <path d=\"M0 0h24v24H0V0z\" fill=\"none\"/>\n",
       "    <path d=\"M18.56 5.44l.94 2.06.94-2.06 2.06-.94-2.06-.94-.94-2.06-.94 2.06-2.06.94zm-11 1L8.5 8.5l.94-2.06 2.06-.94-2.06-.94L8.5 2.5l-.94 2.06-2.06.94zm10 10l.94 2.06.94-2.06 2.06-.94-2.06-.94-.94-2.06-.94 2.06-2.06.94z\"/><path d=\"M17.41 7.96l-1.37-1.37c-.4-.4-.92-.59-1.43-.59-.52 0-1.04.2-1.43.59L10.3 9.45l-7.72 7.72c-.78.78-.78 2.05 0 2.83L4 21.41c.39.39.9.59 1.41.59.51 0 1.02-.2 1.41-.59l7.78-7.78 2.81-2.81c.8-.78.8-2.07 0-2.86zM5.41 20L4 18.59l7.72-7.72 1.47 1.35L5.41 20z\"/>\n",
       "  </svg>\n",
       "      </button>\n",
       "      \n",
       "  <style>\n",
       "    .colab-df-container {\n",
       "      display:flex;\n",
       "      flex-wrap:wrap;\n",
       "      gap: 12px;\n",
       "    }\n",
       "\n",
       "    .colab-df-convert {\n",
       "      background-color: #E8F0FE;\n",
       "      border: none;\n",
       "      border-radius: 50%;\n",
       "      cursor: pointer;\n",
       "      display: none;\n",
       "      fill: #1967D2;\n",
       "      height: 32px;\n",
       "      padding: 0 0 0 0;\n",
       "      width: 32px;\n",
       "    }\n",
       "\n",
       "    .colab-df-convert:hover {\n",
       "      background-color: #E2EBFA;\n",
       "      box-shadow: 0px 1px 2px rgba(60, 64, 67, 0.3), 0px 1px 3px 1px rgba(60, 64, 67, 0.15);\n",
       "      fill: #174EA6;\n",
       "    }\n",
       "\n",
       "    [theme=dark] .colab-df-convert {\n",
       "      background-color: #3B4455;\n",
       "      fill: #D2E3FC;\n",
       "    }\n",
       "\n",
       "    [theme=dark] .colab-df-convert:hover {\n",
       "      background-color: #434B5C;\n",
       "      box-shadow: 0px 1px 3px 1px rgba(0, 0, 0, 0.15);\n",
       "      filter: drop-shadow(0px 1px 2px rgba(0, 0, 0, 0.3));\n",
       "      fill: #FFFFFF;\n",
       "    }\n",
       "  </style>\n",
       "\n",
       "      <script>\n",
       "        const buttonEl =\n",
       "          document.querySelector('#df-725bedbc-187c-4e8f-9022-63ef5ad916e7 button.colab-df-convert');\n",
       "        buttonEl.style.display =\n",
       "          google.colab.kernel.accessAllowed ? 'block' : 'none';\n",
       "\n",
       "        async function convertToInteractive(key) {\n",
       "          const element = document.querySelector('#df-725bedbc-187c-4e8f-9022-63ef5ad916e7');\n",
       "          const dataTable =\n",
       "            await google.colab.kernel.invokeFunction('convertToInteractive',\n",
       "                                                     [key], {});\n",
       "          if (!dataTable) return;\n",
       "\n",
       "          const docLinkHtml = 'Like what you see? Visit the ' +\n",
       "            '<a target=\"_blank\" href=https://colab.research.google.com/notebooks/data_table.ipynb>data table notebook</a>'\n",
       "            + ' to learn more about interactive tables.';\n",
       "          element.innerHTML = '';\n",
       "          dataTable['output_type'] = 'display_data';\n",
       "          await google.colab.output.renderOutput(dataTable, element);\n",
       "          const docLink = document.createElement('div');\n",
       "          docLink.innerHTML = docLinkHtml;\n",
       "          element.appendChild(docLink);\n",
       "        }\n",
       "      </script>\n",
       "    </div>\n",
       "  </div>\n",
       "  "
      ],
      "text/plain": [
       "            sensor   station        date  value\n",
       "count        55149     55149       55149  55149\n",
       "unique           1        21        6345   3389\n",
       "top     PT_10_TT_D  24035360  2018-11-06    0.0\n",
       "freq         55149      6345          21  27124"
      ]
     },
     "execution_count": 11,
     "metadata": {},
     "output_type": "execute_result"
    }
   ],
   "source": [
    "frame_station_final.describe()"
   ]
  },
  {
   "cell_type": "code",
   "execution_count": 12,
   "id": "0eb08a5d",
   "metadata": {
    "colab": {
     "base_uri": "https://localhost:8080/"
    },
    "id": "0eb08a5d",
    "outputId": "64679694-0d04-4235-960a-f5bb65dc80ce"
   },
   "outputs": [
    {
     "data": {
      "text/plain": [
       "count          55149\n",
       "unique          6345\n",
       "top       2018-11-06\n",
       "freq              21\n",
       "Name: date, dtype: object"
      ]
     },
     "execution_count": 12,
     "metadata": {},
     "output_type": "execute_result"
    }
   ],
   "source": [
    "frame_station_final.date.describe()"
   ]
  }
 ],
 "metadata": {
  "accelerator": "GPU",
  "colab": {
   "provenance": []
  },
  "gpuClass": "standard",
  "kernelspec": {
   "display_name": "Python 3 (ipykernel)",
   "language": "python",
   "name": "python3"
  },
  "language_info": {
   "codemirror_mode": {
    "name": "ipython",
    "version": 3
   },
   "file_extension": ".py",
   "mimetype": "text/x-python",
   "name": "python",
   "nbconvert_exporter": "python",
   "pygments_lexer": "ipython3",
   "version": "3.9.13"
  },
  "vscode": {
   "interpreter": {
    "hash": "e2a6dae1680d5d703b715907ac46bd7a3965acafb3f09cc0a45412b83daff840"
   }
  }
 },
 "nbformat": 4,
 "nbformat_minor": 5
}

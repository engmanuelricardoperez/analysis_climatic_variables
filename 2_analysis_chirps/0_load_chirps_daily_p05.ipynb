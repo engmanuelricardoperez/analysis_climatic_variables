{
 "cells": [
  {
   "cell_type": "markdown",
   "id": "f1b97bb5-9116-44d0-9471-d6de46034773",
   "metadata": {},
   "source": [
    "# Load dataset Daily CHIRPS"
   ]
  },
  {
   "cell_type": "markdown",
   "id": "50bd4356-5c17-45f1-ad19-d656bdf7be19",
   "metadata": {},
   "source": [
    "## Load files"
   ]
  },
  {
   "cell_type": "code",
   "execution_count": 49,
   "id": "4a0a8374-6801-4404-9236-30d276c3b078",
   "metadata": {
    "tags": []
   },
   "outputs": [],
   "source": [
    "import os\n",
    "path = 'C:/Users/manue/OneDrive/Documentos/phd/data/chirps/'\n",
    "files = os.listdir(path)"
   ]
  },
  {
   "cell_type": "markdown",
   "id": "12974d02-9f1b-40d2-b235-26cf4e74e1c8",
   "metadata": {},
   "source": [
    "## Establish the geographic points of Boyacá"
   ]
  },
  {
   "cell_type": "code",
   "execution_count": 50,
   "id": "38bf9cb6-5f89-4062-883a-f5e0b6ba5c81",
   "metadata": {
    "tags": []
   },
   "outputs": [],
   "source": [
    "import numpy as np\n",
    "x = np.arange(-74.8, -71.9, 0.05)\n",
    "y = np.arange(4.5, 7.3, 0.05)\n",
    "xx, yy = np.meshgrid(x, y)\n",
    "xnorm = (xx - xx.min()) / (xx.max() - xx.min())\n",
    "ynorm = (yy - yy.min()) / (yy.max() - yy.min())"
   ]
  },
  {
   "cell_type": "markdown",
   "id": "11bb7646-307d-444c-91e2-16632732ac07",
   "metadata": {},
   "source": [
    "## Create dataset CHIRPS precipitation data"
   ]
  },
  {
   "cell_type": "code",
   "execution_count": 65,
   "id": "00e9645f-25ac-49a4-8807-9aeb777c6a08",
   "metadata": {
    "tags": []
   },
   "outputs": [
    {
     "name": "stdout",
     "output_type": "stream",
     "text": [
      "[0. 0. 0. ... 0. 0. 0.]\n"
     ]
    }
   ],
   "source": [
    "import netCDF4 as nc\n",
    "import xarray as xr\n",
    "datasets = []\n",
    "for file in files:\n",
    "    ds_chirps_nc = xr.open_dataset(xr.backends.NetCDF4DataStore(nc.Dataset(path+file)))\n",
    "    # select precipitation variable\n",
    "    datasets.append(ds_chirps_nc['precip'])\n",
    "\n",
    "# select boundaries (xmin, xmax, ymin and ymax) and time period of interest\n",
    "v = np.array([])\n",
    "for ds in datasets:\n",
    "    pr_boyaca = ds.sel(longitude=slice(-74.8,-71.9), latitude=slice(4.5,7.3)) #time=slice('1981','2020'))\n",
    "    v = np.append(v,pr_boyaca.to_numpy())\n",
    "print(v)"
   ]
  },
  {
   "cell_type": "markdown",
   "id": "2a52a41c-84f4-479e-a0a5-0899332c149d",
   "metadata": {
    "tags": []
   },
   "source": [
    "## Creating Map with data load"
   ]
  },
  {
   "cell_type": "code",
   "execution_count": 67,
   "id": "53d4acb1-486b-4528-a14a-3a99cf79537b",
   "metadata": {
    "tags": []
   },
   "outputs": [
    {
     "ename": "NameError",
     "evalue": "name 'gpd' is not defined",
     "output_type": "error",
     "traceback": [
      "\u001b[1;31m---------------------------------------------------------------------------\u001b[0m",
      "\u001b[1;31mNameError\u001b[0m                                 Traceback (most recent call last)",
      "Cell \u001b[1;32mIn[67], line 3\u001b[0m\n\u001b[0;32m      1\u001b[0m \u001b[38;5;66;03m# convert xarray to geopandas\u001b[39;00m\n\u001b[0;32m      2\u001b[0m df_boyaca \u001b[38;5;241m=\u001b[39m pr_boyaca\u001b[38;5;241m.\u001b[39mto_dataframe()\u001b[38;5;241m.\u001b[39mreset_index()\n\u001b[1;32m----> 3\u001b[0m gdf_precip \u001b[38;5;241m=\u001b[39m gpd\u001b[38;5;241m.\u001b[39mGeoDataFrame(df_boyaca\u001b[38;5;241m.\u001b[39mprecip, geometry\u001b[38;5;241m=\u001b[39mgpd\u001b[38;5;241m.\u001b[39mpoints_from_xy(df_boyaca\u001b[38;5;241m.\u001b[39mlongitude,df_boyaca\u001b[38;5;241m.\u001b[39mlatitude))\n\u001b[0;32m      4\u001b[0m gdf_boyaca \u001b[38;5;241m=\u001b[39m gpd\u001b[38;5;241m.\u001b[39mread_file(\u001b[38;5;124m'\u001b[39m\u001b[38;5;124manaconda3/envs/rainfall/github.com/nowthings/analysis_climatic_variables/2_analysis_chirps/boyaca.shp\u001b[39m\u001b[38;5;124m'\u001b[39m)\n",
      "\u001b[1;31mNameError\u001b[0m: name 'gpd' is not defined"
     ]
    }
   ],
   "source": [
    "import geopandas as gpd\n",
    "\n",
    "# convert xarray to geopandas\n",
    "df_boyaca = pr_boyaca.to_dataframe().reset_index()\n",
    "gdf_precip = gpd.GeoDataFrame(df_boyaca.precip, geometry=gpd.points_from_xy(df_boyaca.longitude,df_boyaca.latitude))\n",
    "gdf_boyaca = gpd.read_file('anaconda3/envs/rainfall/github.com/nowthings/analysis_climatic_variables/2_analysis_chirps/boyaca.shp') #, crs=\"epsg:4326\")"
   ]
  },
  {
   "cell_type": "code",
   "execution_count": null,
   "id": "67665b9f-4b4a-4059-a851-eb88347f098c",
   "metadata": {},
   "outputs": [],
   "source": []
  }
 ],
 "metadata": {
  "kernelspec": {
   "display_name": "Python 3 (ipykernel)",
   "language": "python",
   "name": "python3"
  },
  "language_info": {
   "codemirror_mode": {
    "name": "ipython",
    "version": 3
   },
   "file_extension": ".py",
   "mimetype": "text/x-python",
   "name": "python",
   "nbconvert_exporter": "python",
   "pygments_lexer": "ipython3",
   "version": "3.11.3"
  }
 },
 "nbformat": 4,
 "nbformat_minor": 5
}

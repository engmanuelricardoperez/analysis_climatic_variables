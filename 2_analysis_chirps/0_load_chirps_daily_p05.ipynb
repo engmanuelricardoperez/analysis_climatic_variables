{
 "cells": [
  {
   "cell_type": "markdown",
   "id": "f1b97bb5-9116-44d0-9471-d6de46034773",
   "metadata": {},
   "source": [
    "# Load dataset Daily CHIRPS"
   ]
  },
  {
   "cell_type": "markdown",
   "id": "50bd4356-5c17-45f1-ad19-d656bdf7be19",
   "metadata": {},
   "source": [
    "## Load files"
   ]
  },
  {
   "cell_type": "code",
   "execution_count": 49,
   "id": "4a0a8374-6801-4404-9236-30d276c3b078",
   "metadata": {
    "tags": []
   },
   "outputs": [],
   "source": [
    "import os\n",
    "path = 'C:/Users/manue/OneDrive/Documentos/phd/data/chirps/'\n",
    "files = os.listdir(path)"
   ]
  },
  {
   "cell_type": "markdown",
   "id": "12974d02-9f1b-40d2-b235-26cf4e74e1c8",
   "metadata": {},
   "source": [
    "## Establish the geographic points of Boyacá"
   ]
  },
  {
   "cell_type": "code",
   "execution_count": 88,
   "id": "38bf9cb6-5f89-4062-883a-f5e0b6ba5c81",
   "metadata": {
    "tags": []
   },
   "outputs": [],
   "source": [
    "import numpy as np\n",
    "x = np.arange(-74.8, -71.9, 0.05)\n",
    "y = np.arange(4.5, 7.3, 0.05)\n",
    "xx, yy = np.meshgrid(x, y)\n",
    "xnorm = (xx - xx.min()) / (xx.max() - xx.min())\n",
    "ynorm = (yy - yy.min()) / (yy.max() - yy.min())"
   ]
  },
  {
   "cell_type": "markdown",
   "id": "11bb7646-307d-444c-91e2-16632732ac07",
   "metadata": {},
   "source": [
    "## Create dataset CHIRPS precipitation data"
   ]
  },
  {
   "cell_type": "code",
   "execution_count": 130,
   "id": "00e9645f-25ac-49a4-8807-9aeb777c6a08",
   "metadata": {
    "tags": []
   },
   "outputs": [],
   "source": [
    "import netCDF4 as nc\n",
    "import xarray as xr\n",
    "import pandas as pd\n",
    "for file in files:\n",
    "        ds_chirps_nc = xr.open_dataset(xr.backends.NetCDF4DataStore(nc.Dataset(path+file)))\n",
    "        # delimit the boundaries of Boyacá\n",
    "        ds_boyaca = ds_chirps_nc.sel(longitude=slice(-74.8,-71.9), latitude=slice(4.5,7.3))\n",
    "        df_all = pd.concat([df_all,ds_boyaca.to_dataframe().reset_index()])"
   ]
  },
  {
   "cell_type": "code",
   "execution_count": 131,
   "id": "a1295215-4e96-4bdc-a0f1-dac691babe8b",
   "metadata": {
    "tags": []
   },
   "outputs": [
    {
     "data": {
      "text/html": [
       "<div>\n",
       "<style scoped>\n",
       "    .dataframe tbody tr th:only-of-type {\n",
       "        vertical-align: middle;\n",
       "    }\n",
       "\n",
       "    .dataframe tbody tr th {\n",
       "        vertical-align: top;\n",
       "    }\n",
       "\n",
       "    .dataframe thead th {\n",
       "        text-align: right;\n",
       "    }\n",
       "</style>\n",
       "<table border=\"1\" class=\"dataframe\">\n",
       "  <thead>\n",
       "    <tr style=\"text-align: right;\">\n",
       "      <th></th>\n",
       "      <th>latitude</th>\n",
       "      <th>longitude</th>\n",
       "      <th>time</th>\n",
       "      <th>precip</th>\n",
       "    </tr>\n",
       "  </thead>\n",
       "  <tbody>\n",
       "    <tr>\n",
       "      <th>0</th>\n",
       "      <td>4.524998</td>\n",
       "      <td>-74.775002</td>\n",
       "      <td>2022-01-01</td>\n",
       "      <td>15.852234</td>\n",
       "    </tr>\n",
       "    <tr>\n",
       "      <th>1</th>\n",
       "      <td>4.524998</td>\n",
       "      <td>-74.775002</td>\n",
       "      <td>2022-01-02</td>\n",
       "      <td>0.000000</td>\n",
       "    </tr>\n",
       "    <tr>\n",
       "      <th>2</th>\n",
       "      <td>4.524998</td>\n",
       "      <td>-74.775002</td>\n",
       "      <td>2022-01-03</td>\n",
       "      <td>0.000000</td>\n",
       "    </tr>\n",
       "    <tr>\n",
       "      <th>3</th>\n",
       "      <td>4.524998</td>\n",
       "      <td>-74.775002</td>\n",
       "      <td>2022-01-04</td>\n",
       "      <td>0.000000</td>\n",
       "    </tr>\n",
       "    <tr>\n",
       "      <th>4</th>\n",
       "      <td>4.524998</td>\n",
       "      <td>-74.775002</td>\n",
       "      <td>2022-01-05</td>\n",
       "      <td>0.000000</td>\n",
       "    </tr>\n",
       "    <tr>\n",
       "      <th>...</th>\n",
       "      <td>...</td>\n",
       "      <td>...</td>\n",
       "      <td>...</td>\n",
       "      <td>...</td>\n",
       "    </tr>\n",
       "    <tr>\n",
       "      <th>1185515</th>\n",
       "      <td>7.274998</td>\n",
       "      <td>-71.925003</td>\n",
       "      <td>2022-12-27</td>\n",
       "      <td>0.000000</td>\n",
       "    </tr>\n",
       "    <tr>\n",
       "      <th>1185516</th>\n",
       "      <td>7.274998</td>\n",
       "      <td>-71.925003</td>\n",
       "      <td>2022-12-28</td>\n",
       "      <td>0.000000</td>\n",
       "    </tr>\n",
       "    <tr>\n",
       "      <th>1185517</th>\n",
       "      <td>7.274998</td>\n",
       "      <td>-71.925003</td>\n",
       "      <td>2022-12-29</td>\n",
       "      <td>0.000000</td>\n",
       "    </tr>\n",
       "    <tr>\n",
       "      <th>1185518</th>\n",
       "      <td>7.274998</td>\n",
       "      <td>-71.925003</td>\n",
       "      <td>2022-12-30</td>\n",
       "      <td>5.989796</td>\n",
       "    </tr>\n",
       "    <tr>\n",
       "      <th>1185519</th>\n",
       "      <td>7.274998</td>\n",
       "      <td>-71.925003</td>\n",
       "      <td>2022-12-31</td>\n",
       "      <td>0.000000</td>\n",
       "    </tr>\n",
       "  </tbody>\n",
       "</table>\n",
       "<p>64057056 rows × 4 columns</p>\n",
       "</div>"
      ],
      "text/plain": [
       "         latitude  longitude       time     precip\n",
       "0        4.524998 -74.775002 2022-01-01  15.852234\n",
       "1        4.524998 -74.775002 2022-01-02   0.000000\n",
       "2        4.524998 -74.775002 2022-01-03   0.000000\n",
       "3        4.524998 -74.775002 2022-01-04   0.000000\n",
       "4        4.524998 -74.775002 2022-01-05   0.000000\n",
       "...           ...        ...        ...        ...\n",
       "1185515  7.274998 -71.925003 2022-12-27   0.000000\n",
       "1185516  7.274998 -71.925003 2022-12-28   0.000000\n",
       "1185517  7.274998 -71.925003 2022-12-29   0.000000\n",
       "1185518  7.274998 -71.925003 2022-12-30   5.989796\n",
       "1185519  7.274998 -71.925003 2022-12-31   0.000000\n",
       "\n",
       "[64057056 rows x 4 columns]"
      ]
     },
     "execution_count": 131,
     "metadata": {},
     "output_type": "execute_result"
    }
   ],
   "source": [
    "df_all"
   ]
  },
  {
   "cell_type": "code",
   "execution_count": null,
   "id": "7b435974-680d-41c3-8e58-b5b19bb5b9bd",
   "metadata": {},
   "outputs": [],
   "source": []
  }
 ],
 "metadata": {
  "kernelspec": {
   "display_name": "Python 3 (ipykernel)",
   "language": "python",
   "name": "python3"
  },
  "language_info": {
   "codemirror_mode": {
    "name": "ipython",
    "version": 3
   },
   "file_extension": ".py",
   "mimetype": "text/x-python",
   "name": "python",
   "nbconvert_exporter": "python",
   "pygments_lexer": "ipython3",
   "version": "3.11.3"
  }
 },
 "nbformat": 4,
 "nbformat_minor": 5
}

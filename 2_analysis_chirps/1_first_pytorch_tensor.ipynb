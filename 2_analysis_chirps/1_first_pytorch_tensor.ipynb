{
 "cells": [
  {
   "cell_type": "code",
   "execution_count": 2,
   "id": "d283676f-11d0-4fce-a18c-144ba0a90b2e",
   "metadata": {},
   "outputs": [
    {
     "data": {
      "text/plain": [
       "'2.0.0'"
      ]
     },
     "execution_count": 2,
     "metadata": {},
     "output_type": "execute_result"
    }
   ],
   "source": [
    "import torch\n",
    "\n",
    "torch.__version__"
   ]
  },
  {
   "cell_type": "code",
   "execution_count": 3,
   "id": "ed0f0793-8894-4e4a-9c10-324bf49fba06",
   "metadata": {},
   "outputs": [
    {
     "data": {
      "text/plain": [
       "tensor([11.5000,  7.0000])"
      ]
     },
     "execution_count": 3,
     "metadata": {},
     "output_type": "execute_result"
    }
   ],
   "source": [
    "x = torch.tensor([5.5,3])\n",
    "y = torch.tensor([6,4])\n",
    "x+y"
   ]
  },
  {
   "cell_type": "code",
   "execution_count": 4,
   "id": "30d13234-bca2-4acb-a9a3-ef344f11cff3",
   "metadata": {},
   "outputs": [
    {
     "data": {
      "text/plain": [
       "True"
      ]
     },
     "execution_count": 4,
     "metadata": {},
     "output_type": "execute_result"
    }
   ],
   "source": [
    "torch.cuda.is_available()"
   ]
  },
  {
   "cell_type": "code",
   "execution_count": 5,
   "id": "8f247657-ed7f-42bf-a81a-c9ab233ce40c",
   "metadata": {},
   "outputs": [],
   "source": [
    "if torch.cuda.is_available(): \n",
    " dev = \"cuda:0\" \n",
    "else: \n",
    " dev = \"cpu\" \n",
    "device = torch.device(dev) \n",
    "a = torch.zeros(4,3) \n",
    "a = a.to(device)"
   ]
  },
  {
   "cell_type": "code",
   "execution_count": 6,
   "id": "5b6a8689-aa6e-4a85-9661-4285f76b13a6",
   "metadata": {},
   "outputs": [
    {
     "data": {
      "text/plain": [
       "tensor([[0., 0., 0.],\n",
       "        [0., 0., 0.],\n",
       "        [0., 0., 0.],\n",
       "        [0., 0., 0.]], device='cuda:0')"
      ]
     },
     "execution_count": 6,
     "metadata": {},
     "output_type": "execute_result"
    }
   ],
   "source": [
    "a"
   ]
  },
  {
   "cell_type": "code",
   "execution_count": 7,
   "id": "9bd047cb-88e1-4d69-bb8d-d9c89b13f33b",
   "metadata": {},
   "outputs": [],
   "source": [
    "a_full = torch.randn(1024, 1024, dtype=torch.double, device='cuda')\n",
    "b_full = torch.randn(1024, 1024, dtype=torch.double, device='cuda')\n",
    "ab_full = a_full @ b_full\n",
    "mean = ab_full.abs().mean()  # 80.7277\n",
    "\n",
    "a = a_full.float()\n",
    "b = b_full.float()\n",
    "\n",
    "# Do matmul at TF32 mode.\n",
    "torch.backends.cuda.matmul.allow_tf32 = True\n",
    "ab_tf32 = a @ b  # takes 0.016s on GA100\n",
    "error = (ab_tf32 - ab_full).abs().max()  # 0.1747\n",
    "relative_error = error / mean  # 0.0022\n",
    "\n",
    "# Do matmul with TF32 disabled.\n",
    "torch.backends.cuda.matmul.allow_tf32 = False\n",
    "ab_fp32 = a @ b  # takes 0.11s on GA100\n",
    "error = (ab_fp32 - ab_full).abs().max()  # 0.0031\n",
    "relative_error = error / mean  # 0.000039"
   ]
  },
  {
   "cell_type": "code",
   "execution_count": 8,
   "id": "5c8ffcba-cb58-4f33-a22a-294352522253",
   "metadata": {},
   "outputs": [
    {
     "name": "stderr",
     "output_type": "stream",
     "text": [
      "/home/engricardoperez/anaconda3/envs/nowthings/lib/python3.9/site-packages/torchvision/models/_utils.py:223: UserWarning: Arguments other than a weight enum or `None` for 'weights' are deprecated since 0.13 and may be removed in the future. The current behavior is equivalent to passing `weights=ResNet18_Weights.IMAGENET1K_V1`. You can also use `weights=ResNet18_Weights.DEFAULT` to get the most up-to-date weights.\n",
      "  warnings.warn(msg)\n"
     ]
    }
   ],
   "source": [
    "import torch\n",
    "import torchvision.models as models\n",
    "\n",
    "# Making the code device-agnostic\n",
    "device = 'cuda' if torch.cuda.is_available() else 'cpu'\n",
    "\n",
    "# Instantiating a pre-trained model\n",
    "model = models.resnet18(weights=True)\n",
    "\n",
    "# Transferring the model to a CUDA enabled GPU\n",
    "model = model.to(device)\n",
    "\n",
    "# Now the reader can continue the rest of the workflow\n",
    "# including training, cross validation, etc!\n"
   ]
  },
  {
   "cell_type": "code",
   "execution_count": null,
   "id": "c38326b9-a6cc-42ec-81cc-8ab8a5449829",
   "metadata": {},
   "outputs": [],
   "source": []
  }
 ],
 "metadata": {
  "kernelspec": {
   "display_name": "Python 3 (ipykernel)",
   "language": "python",
   "name": "python3"
  },
  "language_info": {
   "codemirror_mode": {
    "name": "ipython",
    "version": 3
   },
   "file_extension": ".py",
   "mimetype": "text/x-python",
   "name": "python",
   "nbconvert_exporter": "python",
   "pygments_lexer": "ipython3",
   "version": "3.9.16"
  }
 },
 "nbformat": 4,
 "nbformat_minor": 5
}
